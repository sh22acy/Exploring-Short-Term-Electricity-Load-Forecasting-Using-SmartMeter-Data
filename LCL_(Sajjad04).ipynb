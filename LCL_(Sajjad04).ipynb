{
  "nbformat": 4,
  "nbformat_minor": 0,
  "metadata": {
    "colab": {
      "provenance": [],
      "machine_shape": "hm"
    },
    "kernelspec": {
      "name": "python3",
      "display_name": "Python 3"
    },
    "language_info": {
      "name": "python"
    }
  },
  "cells": [
    {
      "cell_type": "code",
      "source": [
        "from google.colab import drive\n",
        "drive.mount('/content/drive')"
      ],
      "metadata": {
        "id": "IedR7zNn5EMV",
        "colab": {
          "base_uri": "https://localhost:8080/"
        },
        "outputId": "441b1514-b380-423a-d94f-59bcd7e81dc8"
      },
      "execution_count": 5,
      "outputs": [
        {
          "output_type": "stream",
          "name": "stdout",
          "text": [
            "Mounted at /content/drive\n"
          ]
        }
      ]
    },
    {
      "cell_type": "markdown",
      "source": [
        "# Import Libraries"
      ],
      "metadata": {
        "id": "ktTKLhQKqWiV"
      }
    },
    {
      "cell_type": "code",
      "source": [
        "import pandas as pd\n",
        "import numpy as np\n",
        "import matplotlib.pyplot as plt\n",
        "import seaborn as sns\n",
        "import holidays\n",
        "from sklearn.preprocessing import LabelEncoder\n",
        "import warnings\n",
        "from statsmodels.tsa.arima.model import ARIMA\n",
        "from statsmodels.tsa.stattools import adfuller\n",
        "from sklearn.metrics import mean_squared_error\n",
        "import itertools\n",
        "from sklearn.metrics import mean_squared_error, r2_score\n"
      ],
      "metadata": {
        "id": "7BDSF-Yopr4X"
      },
      "execution_count": 29,
      "outputs": []
    },
    {
      "cell_type": "markdown",
      "source": [
        "# Load the LCL dataset"
      ],
      "metadata": {
        "id": "qj0gj3kvqbK6"
      }
    },
    {
      "cell_type": "code",
      "source": [
        "import os\n",
        "\n",
        "folder_path = '/content/drive/MyDrive/Low Carbon dataset'\n",
        "file_list = os.listdir(folder_path)\n",
        "csv_files = [f for f in file_list if f.endswith('.csv')]\n",
        "\n",
        "print(csv_files)\n"
      ],
      "metadata": {
        "colab": {
          "base_uri": "https://localhost:8080/"
        },
        "id": "LbIwim0aLCcz",
        "outputId": "b64f1f0b-14b6-4f71-d711-f062e816d577"
      },
      "execution_count": 7,
      "outputs": [
        {
          "output_type": "stream",
          "name": "stdout",
          "text": [
            "['LCL-June2015v2_0.csv', 'LCL-June2015v2_1.csv', 'LCL-June2015v2_2.csv', 'LCL-June2015v2_3.csv', 'LCL-June2015v2_4.csv', 'LCL-June2015v2_5.csv', 'LCL-June2015v2_6.csv', 'LCL-June2015v2_7.csv', 'LCL-June2015v2_8.csv', 'LCL-June2015v2_9.csv', 'LCL-June2015v2_10.csv', 'LCL-June2015v2_11.csv', 'LCL-June2015v2_12.csv', 'LCL-June2015v2_13.csv', 'LCL-June2015v2_14.csv', 'LCL-June2015v2_15.csv', 'LCL-June2015v2_16.csv', 'LCL-June2015v2_17.csv', 'LCL-June2015v2_18.csv', 'LCL-June2015v2_19.csv', 'LCL-June2015v2_20.csv', 'LCL-June2015v2_22.csv', 'LCL-June2015v2_21.csv', 'LCL-June2015v2_23.csv', 'LCL-June2015v2_24.csv', 'LCL-June2015v2_25.csv', 'LCL-June2015v2_26.csv', 'LCL-June2015v2_27.csv', 'LCL-June2015v2_28.csv', 'LCL-June2015v2_29.csv', 'LCL-June2015v2_30.csv', 'LCL-June2015v2_31.csv', 'LCL-June2015v2_32.csv', 'LCL-June2015v2_33.csv', 'LCL-June2015v2_34.csv', 'LCL-June2015v2_35.csv', 'LCL-June2015v2_36.csv', 'LCL-June2015v2_37.csv', 'LCL-June2015v2_38.csv', 'LCL-June2015v2_39.csv', 'LCL-June2015v2_40.csv', 'LCL-June2015v2_41.csv', 'LCL-June2015v2_42.csv', 'LCL-June2015v2_43.csv', 'LCL-June2015v2_45.csv', 'LCL-June2015v2_44.csv', 'LCL-June2015v2_46.csv', 'LCL-June2015v2_47.csv', 'LCL-June2015v2_48.csv', 'LCL-June2015v2_49.csv', 'LCL-June2015v2_51.csv', 'LCL-June2015v2_50.csv', 'LCL-June2015v2_52.csv', 'LCL-June2015v2_53.csv', 'LCL-June2015v2_54.csv', 'LCL-June2015v2_55.csv', 'LCL-June2015v2_56.csv', 'LCL-June2015v2_57.csv', 'LCL-June2015v2_58.csv', 'LCL-June2015v2_59.csv', 'LCL-June2015v2_60.csv', 'LCL-June2015v2_61.csv', 'LCL-June2015v2_62.csv', 'LCL-June2015v2_63.csv', 'LCL-June2015v2_64.csv', 'LCL-June2015v2_65.csv', 'LCL-June2015v2_67.csv', 'LCL-June2015v2_66.csv', 'LCL-June2015v2_68.csv', 'LCL-June2015v2_69.csv', 'LCL-June2015v2_70.csv', 'LCL-June2015v2_71.csv', 'LCL-June2015v2_72.csv', 'LCL-June2015v2_73.csv', 'LCL-June2015v2_74.csv', 'LCL-June2015v2_75.csv', 'LCL-June2015v2_76.csv', 'LCL-June2015v2_77.csv', 'LCL-June2015v2_78.csv', 'LCL-June2015v2_79.csv', 'LCL-June2015v2_80.csv']\n"
          ]
        }
      ]
    },
    {
      "cell_type": "code",
      "source": [
        "import pandas as pd\n",
        "\n",
        "# List to hold DataFrames\n",
        "df_list = []\n",
        "\n",
        "# Loop through each file and read into a DataFrame\n",
        "for file in csv_files:\n",
        "    file_path = os.path.join(folder_path, file)\n",
        "    df = pd.read_csv(file_path)\n",
        "    df_list.append(df)\n",
        "\n",
        "# Concatenate all DataFrames\n",
        "LCL_df = pd.concat(df_list, ignore_index=True)\n"
      ],
      "metadata": {
        "id": "Yp0O7j-7pwSN"
      },
      "execution_count": 8,
      "outputs": []
    },
    {
      "cell_type": "code",
      "source": [
        "LCL_df"
      ],
      "metadata": {
        "colab": {
          "base_uri": "https://localhost:8080/",
          "height": 424
        },
        "id": "FFPAX_3kLTTS",
        "outputId": "ee3d58c4-0370-4a4b-f3a7-674b887ab519"
      },
      "execution_count": 9,
      "outputs": [
        {
          "output_type": "execute_result",
          "data": {
            "text/plain": [
              "              LCLid stdorToU                     DateTime  \\\n",
              "0         MAC000002      Std  2012-10-12 00:30:00.0000000   \n",
              "1         MAC000002      Std  2012-10-12 01:00:00.0000000   \n",
              "2         MAC000002      Std  2012-10-12 01:30:00.0000000   \n",
              "3         MAC000002      Std  2012-10-12 02:00:00.0000000   \n",
              "4         MAC000002      Std  2012-10-12 02:30:00.0000000   \n",
              "...             ...      ...                          ...   \n",
              "80999995  MAC003343      Std  2012-09-27 07:00:00.0000000   \n",
              "80999996  MAC003343      Std  2012-09-27 07:30:00.0000000   \n",
              "80999997  MAC003343      Std  2012-09-27 08:00:00.0000000   \n",
              "80999998  MAC003343      Std  2012-09-27 08:30:00.0000000   \n",
              "80999999  MAC003343      Std  2012-09-27 09:00:00.0000000   \n",
              "\n",
              "         KWH/hh (per half hour)   \n",
              "0                             0   \n",
              "1                             0   \n",
              "2                             0   \n",
              "3                             0   \n",
              "4                             0   \n",
              "...                          ...  \n",
              "80999995                  0.461   \n",
              "80999996                  0.268   \n",
              "80999997                  0.149   \n",
              "80999998                  0.198   \n",
              "80999999                  0.107   \n",
              "\n",
              "[81000000 rows x 4 columns]"
            ],
            "text/html": [
              "\n",
              "  <div id=\"df-af6bb548-a13e-4517-a6b8-120adbc05836\" class=\"colab-df-container\">\n",
              "    <div>\n",
              "<style scoped>\n",
              "    .dataframe tbody tr th:only-of-type {\n",
              "        vertical-align: middle;\n",
              "    }\n",
              "\n",
              "    .dataframe tbody tr th {\n",
              "        vertical-align: top;\n",
              "    }\n",
              "\n",
              "    .dataframe thead th {\n",
              "        text-align: right;\n",
              "    }\n",
              "</style>\n",
              "<table border=\"1\" class=\"dataframe\">\n",
              "  <thead>\n",
              "    <tr style=\"text-align: right;\">\n",
              "      <th></th>\n",
              "      <th>LCLid</th>\n",
              "      <th>stdorToU</th>\n",
              "      <th>DateTime</th>\n",
              "      <th>KWH/hh (per half hour)</th>\n",
              "    </tr>\n",
              "  </thead>\n",
              "  <tbody>\n",
              "    <tr>\n",
              "      <th>0</th>\n",
              "      <td>MAC000002</td>\n",
              "      <td>Std</td>\n",
              "      <td>2012-10-12 00:30:00.0000000</td>\n",
              "      <td>0</td>\n",
              "    </tr>\n",
              "    <tr>\n",
              "      <th>1</th>\n",
              "      <td>MAC000002</td>\n",
              "      <td>Std</td>\n",
              "      <td>2012-10-12 01:00:00.0000000</td>\n",
              "      <td>0</td>\n",
              "    </tr>\n",
              "    <tr>\n",
              "      <th>2</th>\n",
              "      <td>MAC000002</td>\n",
              "      <td>Std</td>\n",
              "      <td>2012-10-12 01:30:00.0000000</td>\n",
              "      <td>0</td>\n",
              "    </tr>\n",
              "    <tr>\n",
              "      <th>3</th>\n",
              "      <td>MAC000002</td>\n",
              "      <td>Std</td>\n",
              "      <td>2012-10-12 02:00:00.0000000</td>\n",
              "      <td>0</td>\n",
              "    </tr>\n",
              "    <tr>\n",
              "      <th>4</th>\n",
              "      <td>MAC000002</td>\n",
              "      <td>Std</td>\n",
              "      <td>2012-10-12 02:30:00.0000000</td>\n",
              "      <td>0</td>\n",
              "    </tr>\n",
              "    <tr>\n",
              "      <th>...</th>\n",
              "      <td>...</td>\n",
              "      <td>...</td>\n",
              "      <td>...</td>\n",
              "      <td>...</td>\n",
              "    </tr>\n",
              "    <tr>\n",
              "      <th>80999995</th>\n",
              "      <td>MAC003343</td>\n",
              "      <td>Std</td>\n",
              "      <td>2012-09-27 07:00:00.0000000</td>\n",
              "      <td>0.461</td>\n",
              "    </tr>\n",
              "    <tr>\n",
              "      <th>80999996</th>\n",
              "      <td>MAC003343</td>\n",
              "      <td>Std</td>\n",
              "      <td>2012-09-27 07:30:00.0000000</td>\n",
              "      <td>0.268</td>\n",
              "    </tr>\n",
              "    <tr>\n",
              "      <th>80999997</th>\n",
              "      <td>MAC003343</td>\n",
              "      <td>Std</td>\n",
              "      <td>2012-09-27 08:00:00.0000000</td>\n",
              "      <td>0.149</td>\n",
              "    </tr>\n",
              "    <tr>\n",
              "      <th>80999998</th>\n",
              "      <td>MAC003343</td>\n",
              "      <td>Std</td>\n",
              "      <td>2012-09-27 08:30:00.0000000</td>\n",
              "      <td>0.198</td>\n",
              "    </tr>\n",
              "    <tr>\n",
              "      <th>80999999</th>\n",
              "      <td>MAC003343</td>\n",
              "      <td>Std</td>\n",
              "      <td>2012-09-27 09:00:00.0000000</td>\n",
              "      <td>0.107</td>\n",
              "    </tr>\n",
              "  </tbody>\n",
              "</table>\n",
              "<p>81000000 rows × 4 columns</p>\n",
              "</div>\n",
              "    <div class=\"colab-df-buttons\">\n",
              "\n",
              "  <div class=\"colab-df-container\">\n",
              "    <button class=\"colab-df-convert\" onclick=\"convertToInteractive('df-af6bb548-a13e-4517-a6b8-120adbc05836')\"\n",
              "            title=\"Convert this dataframe to an interactive table.\"\n",
              "            style=\"display:none;\">\n",
              "\n",
              "  <svg xmlns=\"http://www.w3.org/2000/svg\" height=\"24px\" viewBox=\"0 -960 960 960\">\n",
              "    <path d=\"M120-120v-720h720v720H120Zm60-500h600v-160H180v160Zm220 220h160v-160H400v160Zm0 220h160v-160H400v160ZM180-400h160v-160H180v160Zm440 0h160v-160H620v160ZM180-180h160v-160H180v160Zm440 0h160v-160H620v160Z\"/>\n",
              "  </svg>\n",
              "    </button>\n",
              "\n",
              "  <style>\n",
              "    .colab-df-container {\n",
              "      display:flex;\n",
              "      gap: 12px;\n",
              "    }\n",
              "\n",
              "    .colab-df-convert {\n",
              "      background-color: #E8F0FE;\n",
              "      border: none;\n",
              "      border-radius: 50%;\n",
              "      cursor: pointer;\n",
              "      display: none;\n",
              "      fill: #1967D2;\n",
              "      height: 32px;\n",
              "      padding: 0 0 0 0;\n",
              "      width: 32px;\n",
              "    }\n",
              "\n",
              "    .colab-df-convert:hover {\n",
              "      background-color: #E2EBFA;\n",
              "      box-shadow: 0px 1px 2px rgba(60, 64, 67, 0.3), 0px 1px 3px 1px rgba(60, 64, 67, 0.15);\n",
              "      fill: #174EA6;\n",
              "    }\n",
              "\n",
              "    .colab-df-buttons div {\n",
              "      margin-bottom: 4px;\n",
              "    }\n",
              "\n",
              "    [theme=dark] .colab-df-convert {\n",
              "      background-color: #3B4455;\n",
              "      fill: #D2E3FC;\n",
              "    }\n",
              "\n",
              "    [theme=dark] .colab-df-convert:hover {\n",
              "      background-color: #434B5C;\n",
              "      box-shadow: 0px 1px 3px 1px rgba(0, 0, 0, 0.15);\n",
              "      filter: drop-shadow(0px 1px 2px rgba(0, 0, 0, 0.3));\n",
              "      fill: #FFFFFF;\n",
              "    }\n",
              "  </style>\n",
              "\n",
              "    <script>\n",
              "      const buttonEl =\n",
              "        document.querySelector('#df-af6bb548-a13e-4517-a6b8-120adbc05836 button.colab-df-convert');\n",
              "      buttonEl.style.display =\n",
              "        google.colab.kernel.accessAllowed ? 'block' : 'none';\n",
              "\n",
              "      async function convertToInteractive(key) {\n",
              "        const element = document.querySelector('#df-af6bb548-a13e-4517-a6b8-120adbc05836');\n",
              "        const dataTable =\n",
              "          await google.colab.kernel.invokeFunction('convertToInteractive',\n",
              "                                                    [key], {});\n",
              "        if (!dataTable) return;\n",
              "\n",
              "        const docLinkHtml = 'Like what you see? Visit the ' +\n",
              "          '<a target=\"_blank\" href=https://colab.research.google.com/notebooks/data_table.ipynb>data table notebook</a>'\n",
              "          + ' to learn more about interactive tables.';\n",
              "        element.innerHTML = '';\n",
              "        dataTable['output_type'] = 'display_data';\n",
              "        await google.colab.output.renderOutput(dataTable, element);\n",
              "        const docLink = document.createElement('div');\n",
              "        docLink.innerHTML = docLinkHtml;\n",
              "        element.appendChild(docLink);\n",
              "      }\n",
              "    </script>\n",
              "  </div>\n",
              "\n",
              "\n",
              "<div id=\"df-4e0c067d-79d1-4e12-a34f-355c18833ea5\">\n",
              "  <button class=\"colab-df-quickchart\" onclick=\"quickchart('df-4e0c067d-79d1-4e12-a34f-355c18833ea5')\"\n",
              "            title=\"Suggest charts\"\n",
              "            style=\"display:none;\">\n",
              "\n",
              "<svg xmlns=\"http://www.w3.org/2000/svg\" height=\"24px\"viewBox=\"0 0 24 24\"\n",
              "     width=\"24px\">\n",
              "    <g>\n",
              "        <path d=\"M19 3H5c-1.1 0-2 .9-2 2v14c0 1.1.9 2 2 2h14c1.1 0 2-.9 2-2V5c0-1.1-.9-2-2-2zM9 17H7v-7h2v7zm4 0h-2V7h2v10zm4 0h-2v-4h2v4z\"/>\n",
              "    </g>\n",
              "</svg>\n",
              "  </button>\n",
              "\n",
              "<style>\n",
              "  .colab-df-quickchart {\n",
              "      --bg-color: #E8F0FE;\n",
              "      --fill-color: #1967D2;\n",
              "      --hover-bg-color: #E2EBFA;\n",
              "      --hover-fill-color: #174EA6;\n",
              "      --disabled-fill-color: #AAA;\n",
              "      --disabled-bg-color: #DDD;\n",
              "  }\n",
              "\n",
              "  [theme=dark] .colab-df-quickchart {\n",
              "      --bg-color: #3B4455;\n",
              "      --fill-color: #D2E3FC;\n",
              "      --hover-bg-color: #434B5C;\n",
              "      --hover-fill-color: #FFFFFF;\n",
              "      --disabled-bg-color: #3B4455;\n",
              "      --disabled-fill-color: #666;\n",
              "  }\n",
              "\n",
              "  .colab-df-quickchart {\n",
              "    background-color: var(--bg-color);\n",
              "    border: none;\n",
              "    border-radius: 50%;\n",
              "    cursor: pointer;\n",
              "    display: none;\n",
              "    fill: var(--fill-color);\n",
              "    height: 32px;\n",
              "    padding: 0;\n",
              "    width: 32px;\n",
              "  }\n",
              "\n",
              "  .colab-df-quickchart:hover {\n",
              "    background-color: var(--hover-bg-color);\n",
              "    box-shadow: 0 1px 2px rgba(60, 64, 67, 0.3), 0 1px 3px 1px rgba(60, 64, 67, 0.15);\n",
              "    fill: var(--button-hover-fill-color);\n",
              "  }\n",
              "\n",
              "  .colab-df-quickchart-complete:disabled,\n",
              "  .colab-df-quickchart-complete:disabled:hover {\n",
              "    background-color: var(--disabled-bg-color);\n",
              "    fill: var(--disabled-fill-color);\n",
              "    box-shadow: none;\n",
              "  }\n",
              "\n",
              "  .colab-df-spinner {\n",
              "    border: 2px solid var(--fill-color);\n",
              "    border-color: transparent;\n",
              "    border-bottom-color: var(--fill-color);\n",
              "    animation:\n",
              "      spin 1s steps(1) infinite;\n",
              "  }\n",
              "\n",
              "  @keyframes spin {\n",
              "    0% {\n",
              "      border-color: transparent;\n",
              "      border-bottom-color: var(--fill-color);\n",
              "      border-left-color: var(--fill-color);\n",
              "    }\n",
              "    20% {\n",
              "      border-color: transparent;\n",
              "      border-left-color: var(--fill-color);\n",
              "      border-top-color: var(--fill-color);\n",
              "    }\n",
              "    30% {\n",
              "      border-color: transparent;\n",
              "      border-left-color: var(--fill-color);\n",
              "      border-top-color: var(--fill-color);\n",
              "      border-right-color: var(--fill-color);\n",
              "    }\n",
              "    40% {\n",
              "      border-color: transparent;\n",
              "      border-right-color: var(--fill-color);\n",
              "      border-top-color: var(--fill-color);\n",
              "    }\n",
              "    60% {\n",
              "      border-color: transparent;\n",
              "      border-right-color: var(--fill-color);\n",
              "    }\n",
              "    80% {\n",
              "      border-color: transparent;\n",
              "      border-right-color: var(--fill-color);\n",
              "      border-bottom-color: var(--fill-color);\n",
              "    }\n",
              "    90% {\n",
              "      border-color: transparent;\n",
              "      border-bottom-color: var(--fill-color);\n",
              "    }\n",
              "  }\n",
              "</style>\n",
              "\n",
              "  <script>\n",
              "    async function quickchart(key) {\n",
              "      const quickchartButtonEl =\n",
              "        document.querySelector('#' + key + ' button');\n",
              "      quickchartButtonEl.disabled = true;  // To prevent multiple clicks.\n",
              "      quickchartButtonEl.classList.add('colab-df-spinner');\n",
              "      try {\n",
              "        const charts = await google.colab.kernel.invokeFunction(\n",
              "            'suggestCharts', [key], {});\n",
              "      } catch (error) {\n",
              "        console.error('Error during call to suggestCharts:', error);\n",
              "      }\n",
              "      quickchartButtonEl.classList.remove('colab-df-spinner');\n",
              "      quickchartButtonEl.classList.add('colab-df-quickchart-complete');\n",
              "    }\n",
              "    (() => {\n",
              "      let quickchartButtonEl =\n",
              "        document.querySelector('#df-4e0c067d-79d1-4e12-a34f-355c18833ea5 button');\n",
              "      quickchartButtonEl.style.display =\n",
              "        google.colab.kernel.accessAllowed ? 'block' : 'none';\n",
              "    })();\n",
              "  </script>\n",
              "</div>\n",
              "\n",
              "  <div id=\"id_1f5aed8b-e5e1-42e1-931a-e95710c24226\">\n",
              "    <style>\n",
              "      .colab-df-generate {\n",
              "        background-color: #E8F0FE;\n",
              "        border: none;\n",
              "        border-radius: 50%;\n",
              "        cursor: pointer;\n",
              "        display: none;\n",
              "        fill: #1967D2;\n",
              "        height: 32px;\n",
              "        padding: 0 0 0 0;\n",
              "        width: 32px;\n",
              "      }\n",
              "\n",
              "      .colab-df-generate:hover {\n",
              "        background-color: #E2EBFA;\n",
              "        box-shadow: 0px 1px 2px rgba(60, 64, 67, 0.3), 0px 1px 3px 1px rgba(60, 64, 67, 0.15);\n",
              "        fill: #174EA6;\n",
              "      }\n",
              "\n",
              "      [theme=dark] .colab-df-generate {\n",
              "        background-color: #3B4455;\n",
              "        fill: #D2E3FC;\n",
              "      }\n",
              "\n",
              "      [theme=dark] .colab-df-generate:hover {\n",
              "        background-color: #434B5C;\n",
              "        box-shadow: 0px 1px 3px 1px rgba(0, 0, 0, 0.15);\n",
              "        filter: drop-shadow(0px 1px 2px rgba(0, 0, 0, 0.3));\n",
              "        fill: #FFFFFF;\n",
              "      }\n",
              "    </style>\n",
              "    <button class=\"colab-df-generate\" onclick=\"generateWithVariable('LCL_df')\"\n",
              "            title=\"Generate code using this dataframe.\"\n",
              "            style=\"display:none;\">\n",
              "\n",
              "  <svg xmlns=\"http://www.w3.org/2000/svg\" height=\"24px\"viewBox=\"0 0 24 24\"\n",
              "       width=\"24px\">\n",
              "    <path d=\"M7,19H8.4L18.45,9,17,7.55,7,17.6ZM5,21V16.75L18.45,3.32a2,2,0,0,1,2.83,0l1.4,1.43a1.91,1.91,0,0,1,.58,1.4,1.91,1.91,0,0,1-.58,1.4L9.25,21ZM18.45,9,17,7.55Zm-12,3A5.31,5.31,0,0,0,4.9,8.1,5.31,5.31,0,0,0,1,6.5,5.31,5.31,0,0,0,4.9,4.9,5.31,5.31,0,0,0,6.5,1,5.31,5.31,0,0,0,8.1,4.9,5.31,5.31,0,0,0,12,6.5,5.46,5.46,0,0,0,6.5,12Z\"/>\n",
              "  </svg>\n",
              "    </button>\n",
              "    <script>\n",
              "      (() => {\n",
              "      const buttonEl =\n",
              "        document.querySelector('#id_1f5aed8b-e5e1-42e1-931a-e95710c24226 button.colab-df-generate');\n",
              "      buttonEl.style.display =\n",
              "        google.colab.kernel.accessAllowed ? 'block' : 'none';\n",
              "\n",
              "      buttonEl.onclick = () => {\n",
              "        google.colab.notebook.generateWithVariable('LCL_df');\n",
              "      }\n",
              "      })();\n",
              "    </script>\n",
              "  </div>\n",
              "\n",
              "    </div>\n",
              "  </div>\n"
            ],
            "application/vnd.google.colaboratory.intrinsic+json": {
              "type": "dataframe",
              "variable_name": "LCL_df"
            }
          },
          "metadata": {},
          "execution_count": 9
        }
      ]
    },
    {
      "cell_type": "code",
      "source": [
        "# Strip leading/trailing spaces from column names\n",
        "LCL_df.columns = LCL_df.columns.str.strip()\n",
        "\n",
        "# Convert DateTime column to datetime\n",
        "LCL_df['DateTime'] = pd.to_datetime(LCL_df['DateTime'])\n",
        "\n",
        "# Convert 'KWH/hh (per half hour)' column to numeric\n",
        "LCL_df['KWH/hh (per half hour)'] = pd.to_numeric(LCL_df['KWH/hh (per half hour)'], errors='coerce')"
      ],
      "metadata": {
        "id": "0aK8oEHjqQZF"
      },
      "execution_count": 10,
      "outputs": []
    },
    {
      "cell_type": "code",
      "source": [
        "LCL_df.info()"
      ],
      "metadata": {
        "colab": {
          "base_uri": "https://localhost:8080/"
        },
        "id": "42F10Di4quCE",
        "outputId": "7f71ab0e-b4b0-41b6-9362-040e5d4b2d03"
      },
      "execution_count": 11,
      "outputs": [
        {
          "output_type": "stream",
          "name": "stdout",
          "text": [
            "<class 'pandas.core.frame.DataFrame'>\n",
            "RangeIndex: 81000000 entries, 0 to 80999999\n",
            "Data columns (total 4 columns):\n",
            " #   Column                  Dtype         \n",
            "---  ------                  -----         \n",
            " 0   LCLid                   object        \n",
            " 1   stdorToU                object        \n",
            " 2   DateTime                datetime64[ns]\n",
            " 3   KWH/hh (per half hour)  float64       \n",
            "dtypes: datetime64[ns](1), float64(1), object(2)\n",
            "memory usage: 2.4+ GB\n"
          ]
        }
      ]
    },
    {
      "cell_type": "code",
      "source": [
        "LCL_df.isnull().sum()"
      ],
      "metadata": {
        "colab": {
          "base_uri": "https://localhost:8080/"
        },
        "id": "oEy_l5dIq1qC",
        "outputId": "f6aed45a-2c98-4c4a-ad00-5510c0051ff9"
      },
      "execution_count": 12,
      "outputs": [
        {
          "output_type": "execute_result",
          "data": {
            "text/plain": [
              "LCLid                        0\n",
              "stdorToU                     0\n",
              "DateTime                     0\n",
              "KWH/hh (per half hour)    2659\n",
              "dtype: int64"
            ]
          },
          "metadata": {},
          "execution_count": 12
        }
      ]
    },
    {
      "cell_type": "markdown",
      "source": [
        "## Handling Missing Values"
      ],
      "metadata": {
        "id": "SystiwsKCcDP"
      }
    },
    {
      "cell_type": "code",
      "source": [
        "# Drop rows with missing values\n",
        "LCL_df = LCL_df.dropna()\n",
        "\n",
        "LCL_df.isnull().sum()"
      ],
      "metadata": {
        "colab": {
          "base_uri": "https://localhost:8080/"
        },
        "id": "mixalrbRCh-A",
        "outputId": "75b60430-6a73-41f3-fe35-3dc6039e1ddb"
      },
      "execution_count": 13,
      "outputs": [
        {
          "output_type": "execute_result",
          "data": {
            "text/plain": [
              "LCLid                     0\n",
              "stdorToU                  0\n",
              "DateTime                  0\n",
              "KWH/hh (per half hour)    0\n",
              "dtype: int64"
            ]
          },
          "metadata": {},
          "execution_count": 13
        }
      ]
    },
    {
      "cell_type": "markdown",
      "source": [
        "## Converting Data Types"
      ],
      "metadata": {
        "id": "M76Pcd94C3ii"
      }
    },
    {
      "cell_type": "code",
      "source": [
        "# Convert columns to appropriate data types if necessary\n",
        "LCL_df['LCLid'] = LCL_df['LCLid'].astype('category')\n",
        "LCL_df['stdorToU'] = LCL_df['stdorToU'].astype('category')"
      ],
      "metadata": {
        "colab": {
          "base_uri": "https://localhost:8080/"
        },
        "id": "F49q_EbZCl23",
        "outputId": "4e287208-b5ec-4a05-b88a-03640959a466"
      },
      "execution_count": 14,
      "outputs": [
        {
          "output_type": "stream",
          "name": "stderr",
          "text": [
            "<ipython-input-14-f1ee69281f09>:2: SettingWithCopyWarning: \n",
            "A value is trying to be set on a copy of a slice from a DataFrame.\n",
            "Try using .loc[row_indexer,col_indexer] = value instead\n",
            "\n",
            "See the caveats in the documentation: https://pandas.pydata.org/pandas-docs/stable/user_guide/indexing.html#returning-a-view-versus-a-copy\n",
            "  LCL_df['LCLid'] = LCL_df['LCLid'].astype('category')\n",
            "<ipython-input-14-f1ee69281f09>:3: SettingWithCopyWarning: \n",
            "A value is trying to be set on a copy of a slice from a DataFrame.\n",
            "Try using .loc[row_indexer,col_indexer] = value instead\n",
            "\n",
            "See the caveats in the documentation: https://pandas.pydata.org/pandas-docs/stable/user_guide/indexing.html#returning-a-view-versus-a-copy\n",
            "  LCL_df['stdorToU'] = LCL_df['stdorToU'].astype('category')\n"
          ]
        }
      ]
    },
    {
      "cell_type": "markdown",
      "source": [
        "# EDA"
      ],
      "metadata": {
        "id": "CBZPq0SgeydO"
      }
    },
    {
      "cell_type": "code",
      "source": [
        "# Daily and Weekly energy consumption\n",
        "daily_energy = LCL_df.resample('D', on='DateTime')['KWH/hh (per half hour)'].sum()\n",
        "\n",
        "plt.figure(figsize=(14, 6))\n",
        "\n",
        "plt.plot(daily_energy.index, daily_energy.values, marker='o', linestyle='-')\n",
        "plt.title('Daily Energy Consumption')\n",
        "plt.xlabel('Date')\n",
        "plt.ylabel('Energy Consumption (KWH)')\n",
        "plt.grid(True)\n",
        "\n",
        "plt.tight_layout()\n",
        "plt.show()\n"
      ],
      "metadata": {
        "colab": {
          "base_uri": "https://localhost:8080/",
          "height": 607
        },
        "id": "u-UxsTL3fc2R",
        "outputId": "5248b27f-e8b9-4c09-eeed-e996b4305941"
      },
      "execution_count": 15,
      "outputs": [
        {
          "output_type": "display_data",
          "data": {
            "text/plain": [
              "<Figure size 1400x600 with 1 Axes>"
            ],
            "image/png": "[encoded data removed]"
          },
          "metadata": {}
        }
      ]
    },
    {
      "cell_type": "markdown",
      "source": [
        "## Make Daily Dataframe"
      ],
      "metadata": {
        "id": "Row-PsHtlVMx"
      }
    },
    {
      "cell_type": "code",
      "source": [
        "# Creating the daily DataFrame\n",
        "daily_df = LCL_df.resample('D', on='DateTime').agg({\n",
        "    'KWH/hh (per half hour)': 'sum',\n",
        "    'stdorToU': 'first',\n",
        "    'LCLid': 'first',\n",
        "}).reset_index()\n",
        "\n",
        "daily_df.rename(columns={'KWH/hh (per half hour)': 'Daily_KWH'}, inplace=True)\n",
        "\n"
      ],
      "metadata": {
        "id": "k0dCQCXBlXlt"
      },
      "execution_count": 140,
      "outputs": []
    },
    {
      "cell_type": "code",
      "source": [
        "daily_df"
      ],
      "metadata": {
        "colab": {
          "base_uri": "https://localhost:8080/",
          "height": 424
        },
        "id": "aUlbBqv3PSBL",
        "outputId": "6ab5b62b-4696-47e5-c696-28e43f9c0aa7"
      },
      "execution_count": 18,
      "outputs": [
        {
          "output_type": "execute_result",
          "data": {
            "text/plain": [
              "      DateTime     Daily_KWH stdorToU      LCLid\n",
              "0   2011-11-23     81.730000      Std  MAC000145\n",
              "1   2011-11-24    188.965000      Std  MAC000145\n",
              "2   2011-11-25    262.675000      Std  MAC000145\n",
              "3   2011-11-26    374.719000      Std  MAC000145\n",
              "4   2011-11-27    398.002001      Std  MAC000145\n",
              "..         ...           ...      ...        ...\n",
              "824 2014-02-24  24573.627003      Std  MAC000002\n",
              "825 2014-02-25  24224.568005      Std  MAC000002\n",
              "826 2014-02-26  23938.275998      Std  MAC000002\n",
              "827 2014-02-27  24309.677000      Std  MAC000002\n",
              "828 2014-02-28    911.286001      Std  MAC000002\n",
              "\n",
              "[829 rows x 4 columns]"
            ],
            "text/html": [
              "\n",
              "  <div id=\"df-701285c0-fdce-40e5-b3b5-4a894d07a022\" class=\"colab-df-container\">\n",
              "    <div>\n",
              "<style scoped>\n",
              "    .dataframe tbody tr th:only-of-type {\n",
              "        vertical-align: middle;\n",
              "    }\n",
              "\n",
              "    .dataframe tbody tr th {\n",
              "        vertical-align: top;\n",
              "    }\n",
              "\n",
              "    .dataframe thead th {\n",
              "        text-align: right;\n",
              "    }\n",
              "</style>\n",
              "<table border=\"1\" class=\"dataframe\">\n",
              "  <thead>\n",
              "    <tr style=\"text-align: right;\">\n",
              "      <th></th>\n",
              "      <th>DateTime</th>\n",
              "      <th>Daily_KWH</th>\n",
              "      <th>stdorToU</th>\n",
              "      <th>LCLid</th>\n",
              "    </tr>\n",
              "  </thead>\n",
              "  <tbody>\n",
              "    <tr>\n",
              "      <th>0</th>\n",
              "      <td>2011-11-23</td>\n",
              "      <td>81.730000</td>\n",
              "      <td>Std</td>\n",
              "      <td>MAC000145</td>\n",
              "    </tr>\n",
              "    <tr>\n",
              "      <th>1</th>\n",
              "      <td>2011-11-24</td>\n",
              "      <td>188.965000</td>\n",
              "      <td>Std</td>\n",
              "      <td>MAC000145</td>\n",
              "    </tr>\n",
              "    <tr>\n",
              "      <th>2</th>\n",
              "      <td>2011-11-25</td>\n",
              "      <td>262.675000</td>\n",
              "      <td>Std</td>\n",
              "      <td>MAC000145</td>\n",
              "    </tr>\n",
              "    <tr>\n",
              "      <th>3</th>\n",
              "      <td>2011-11-26</td>\n",
              "      <td>374.719000</td>\n",
              "      <td>Std</td>\n",
              "      <td>MAC000145</td>\n",
              "    </tr>\n",
              "    <tr>\n",
              "      <th>4</th>\n",
              "      <td>2011-11-27</td>\n",
              "      <td>398.002001</td>\n",
              "      <td>Std</td>\n",
              "      <td>MAC000145</td>\n",
              "    </tr>\n",
              "    <tr>\n",
              "      <th>...</th>\n",
              "      <td>...</td>\n",
              "      <td>...</td>\n",
              "      <td>...</td>\n",
              "      <td>...</td>\n",
              "    </tr>\n",
              "    <tr>\n",
              "      <th>824</th>\n",
              "      <td>2014-02-24</td>\n",
              "      <td>24573.627003</td>\n",
              "      <td>Std</td>\n",
              "      <td>MAC000002</td>\n",
              "    </tr>\n",
              "    <tr>\n",
              "      <th>825</th>\n",
              "      <td>2014-02-25</td>\n",
              "      <td>24224.568005</td>\n",
              "      <td>Std</td>\n",
              "      <td>MAC000002</td>\n",
              "    </tr>\n",
              "    <tr>\n",
              "      <th>826</th>\n",
              "      <td>2014-02-26</td>\n",
              "      <td>23938.275998</td>\n",
              "      <td>Std</td>\n",
              "      <td>MAC000002</td>\n",
              "    </tr>\n",
              "    <tr>\n",
              "      <th>827</th>\n",
              "      <td>2014-02-27</td>\n",
              "      <td>24309.677000</td>\n",
              "      <td>Std</td>\n",
              "      <td>MAC000002</td>\n",
              "    </tr>\n",
              "    <tr>\n",
              "      <th>828</th>\n",
              "      <td>2014-02-28</td>\n",
              "      <td>911.286001</td>\n",
              "      <td>Std</td>\n",
              "      <td>MAC000002</td>\n",
              "    </tr>\n",
              "  </tbody>\n",
              "</table>\n",
              "<p>829 rows × 4 columns</p>\n",
              "</div>\n",
              "    <div class=\"colab-df-buttons\">\n",
              "\n",
              "  <div class=\"colab-df-container\">\n",
              "    <button class=\"colab-df-convert\" onclick=\"convertToInteractive('df-701285c0-fdce-40e5-b3b5-4a894d07a022')\"\n",
              "            title=\"Convert this dataframe to an interactive table.\"\n",
              "            style=\"display:none;\">\n",
              "\n",
              "  <svg xmlns=\"http://www.w3.org/2000/svg\" height=\"24px\" viewBox=\"0 -960 960 960\">\n",
              "    <path d=\"M120-120v-720h720v720H120Zm60-500h600v-160H180v160Zm220 220h160v-160H400v160Zm0 220h160v-160H400v160ZM180-400h160v-160H180v160Zm440 0h160v-160H620v160ZM180-180h160v-160H180v160Zm440 0h160v-160H620v160Z\"/>\n",
              "  </svg>\n",
              "    </button>\n",
              "\n",
              "  <style>\n",
              "    .colab-df-container {\n",
              "      display:flex;\n",
              "      gap: 12px;\n",
              "    }\n",
              "\n",
              "    .colab-df-convert {\n",
              "      background-color: #E8F0FE;\n",
              "      border: none;\n",
              "      border-radius: 50%;\n",
              "      cursor: pointer;\n",
              "      display: none;\n",
              "      fill: #1967D2;\n",
              "      height: 32px;\n",
              "      padding: 0 0 0 0;\n",
              "      width: 32px;\n",
              "    }\n",
              "\n",
              "    .colab-df-convert:hover {\n",
              "      background-color: #E2EBFA;\n",
              "      box-shadow: 0px 1px 2px rgba(60, 64, 67, 0.3), 0px 1px 3px 1px rgba(60, 64, 67, 0.15);\n",
              "      fill: #174EA6;\n",
              "    }\n",
              "\n",
              "    .colab-df-buttons div {\n",
              "      margin-bottom: 4px;\n",
              "    }\n",
              "\n",
              "    [theme=dark] .colab-df-convert {\n",
              "      background-color: #3B4455;\n",
              "      fill: #D2E3FC;\n",
              "    }\n",
              "\n",
              "    [theme=dark] .colab-df-convert:hover {\n",
              "      background-color: #434B5C;\n",
              "      box-shadow: 0px 1px 3px 1px rgba(0, 0, 0, 0.15);\n",
              "      filter: drop-shadow(0px 1px 2px rgba(0, 0, 0, 0.3));\n",
              "      fill: #FFFFFF;\n",
              "    }\n",
              "  </style>\n",
              "\n",
              "    <script>\n",
              "      const buttonEl =\n",
              "        document.querySelector('#df-701285c0-fdce-40e5-b3b5-4a894d07a022 button.colab-df-convert');\n",
              "      buttonEl.style.display =\n",
              "        google.colab.kernel.accessAllowed ? 'block' : 'none';\n",
              "\n",
              "      async function convertToInteractive(key) {\n",
              "        const element = document.querySelector('#df-701285c0-fdce-40e5-b3b5-4a894d07a022');\n",
              "        const dataTable =\n",
              "          await google.colab.kernel.invokeFunction('convertToInteractive',\n",
              "                                                    [key], {});\n",
              "        if (!dataTable) return;\n",
              "\n",
              "        const docLinkHtml = 'Like what you see? Visit the ' +\n",
              "          '<a target=\"_blank\" href=https://colab.research.google.com/notebooks/data_table.ipynb>data table notebook</a>'\n",
              "          + ' to learn more about interactive tables.';\n",
              "        element.innerHTML = '';\n",
              "        dataTable['output_type'] = 'display_data';\n",
              "        await google.colab.output.renderOutput(dataTable, element);\n",
              "        const docLink = document.createElement('div');\n",
              "        docLink.innerHTML = docLinkHtml;\n",
              "        element.appendChild(docLink);\n",
              "      }\n",
              "    </script>\n",
              "  </div>\n",
              "\n",
              "\n",
              "<div id=\"df-0af393ea-6332-45f6-9520-203b7039df98\">\n",
              "  <button class=\"colab-df-quickchart\" onclick=\"quickchart('df-0af393ea-6332-45f6-9520-203b7039df98')\"\n",
              "            title=\"Suggest charts\"\n",
              "            style=\"display:none;\">\n",
              "\n",
              "<svg xmlns=\"http://www.w3.org/2000/svg\" height=\"24px\"viewBox=\"0 0 24 24\"\n",
              "     width=\"24px\">\n",
              "    <g>\n",
              "        <path d=\"M19 3H5c-1.1 0-2 .9-2 2v14c0 1.1.9 2 2 2h14c1.1 0 2-.9 2-2V5c0-1.1-.9-2-2-2zM9 17H7v-7h2v7zm4 0h-2V7h2v10zm4 0h-2v-4h2v4z\"/>\n",
              "    </g>\n",
              "</svg>\n",
              "  </button>\n",
              "\n",
              "<style>\n",
              "  .colab-df-quickchart {\n",
              "      --bg-color: #E8F0FE;\n",
              "      --fill-color: #1967D2;\n",
              "      --hover-bg-color: #E2EBFA;\n",
              "      --hover-fill-color: #174EA6;\n",
              "      --disabled-fill-color: #AAA;\n",
              "      --disabled-bg-color: #DDD;\n",
              "  }\n",
              "\n",
              "  [theme=dark] .colab-df-quickchart {\n",
              "      --bg-color: #3B4455;\n",
              "      --fill-color: #D2E3FC;\n",
              "      --hover-bg-color: #434B5C;\n",
              "      --hover-fill-color: #FFFFFF;\n",
              "      --disabled-bg-color: #3B4455;\n",
              "      --disabled-fill-color: #666;\n",
              "  }\n",
              "\n",
              "  .colab-df-quickchart {\n",
              "    background-color: var(--bg-color);\n",
              "    border: none;\n",
              "    border-radius: 50%;\n",
              "    cursor: pointer;\n",
              "    display: none;\n",
              "    fill: var(--fill-color);\n",
              "    height: 32px;\n",
              "    padding: 0;\n",
              "    width: 32px;\n",
              "  }\n",
              "\n",
              "  .colab-df-quickchart:hover {\n",
              "    background-color: var(--hover-bg-color);\n",
              "    box-shadow: 0 1px 2px rgba(60, 64, 67, 0.3), 0 1px 3px 1px rgba(60, 64, 67, 0.15);\n",
              "    fill: var(--button-hover-fill-color);\n",
              "  }\n",
              "\n",
              "  .colab-df-quickchart-complete:disabled,\n",
              "  .colab-df-quickchart-complete:disabled:hover {\n",
              "    background-color: var(--disabled-bg-color);\n",
              "    fill: var(--disabled-fill-color);\n",
              "    box-shadow: none;\n",
              "  }\n",
              "\n",
              "  .colab-df-spinner {\n",
              "    border: 2px solid var(--fill-color);\n",
              "    border-color: transparent;\n",
              "    border-bottom-color: var(--fill-color);\n",
              "    animation:\n",
              "      spin 1s steps(1) infinite;\n",
              "  }\n",
              "\n",
              "  @keyframes spin {\n",
              "    0% {\n",
              "      border-color: transparent;\n",
              "      border-bottom-color: var(--fill-color);\n",
              "      border-left-color: var(--fill-color);\n",
              "    }\n",
              "    20% {\n",
              "      border-color: transparent;\n",
              "      border-left-color: var(--fill-color);\n",
              "      border-top-color: var(--fill-color);\n",
              "    }\n",
              "    30% {\n",
              "      border-color: transparent;\n",
              "      border-left-color: var(--fill-color);\n",
              "      border-top-color: var(--fill-color);\n",
              "      border-right-color: var(--fill-color);\n",
              "    }\n",
              "    40% {\n",
              "      border-color: transparent;\n",
              "      border-right-color: var(--fill-color);\n",
              "      border-top-color: var(--fill-color);\n",
              "    }\n",
              "    60% {\n",
              "      border-color: transparent;\n",
              "      border-right-color: var(--fill-color);\n",
              "    }\n",
              "    80% {\n",
              "      border-color: transparent;\n",
              "      border-right-color: var(--fill-color);\n",
              "      border-bottom-color: var(--fill-color);\n",
              "    }\n",
              "    90% {\n",
              "      border-color: transparent;\n",
              "      border-bottom-color: var(--fill-color);\n",
              "    }\n",
              "  }\n",
              "</style>\n",
              "\n",
              "  <script>\n",
              "    async function quickchart(key) {\n",
              "      const quickchartButtonEl =\n",
              "        document.querySelector('#' + key + ' button');\n",
              "      quickchartButtonEl.disabled = true;  // To prevent multiple clicks.\n",
              "      quickchartButtonEl.classList.add('colab-df-spinner');\n",
              "      try {\n",
              "        const charts = await google.colab.kernel.invokeFunction(\n",
              "            'suggestCharts', [key], {});\n",
              "      } catch (error) {\n",
              "        console.error('Error during call to suggestCharts:', error);\n",
              "      }\n",
              "      quickchartButtonEl.classList.remove('colab-df-spinner');\n",
              "      quickchartButtonEl.classList.add('colab-df-quickchart-complete');\n",
              "    }\n",
              "    (() => {\n",
              "      let quickchartButtonEl =\n",
              "        document.querySelector('#df-0af393ea-6332-45f6-9520-203b7039df98 button');\n",
              "      quickchartButtonEl.style.display =\n",
              "        google.colab.kernel.accessAllowed ? 'block' : 'none';\n",
              "    })();\n",
              "  </script>\n",
              "</div>\n",
              "\n",
              "  <div id=\"id_4f90e00a-42dd-4add-a74a-af43acffb61a\">\n",
              "    <style>\n",
              "      .colab-df-generate {\n",
              "        background-color: #E8F0FE;\n",
              "        border: none;\n",
              "        border-radius: 50%;\n",
              "        cursor: pointer;\n",
              "        display: none;\n",
              "        fill: #1967D2;\n",
              "        height: 32px;\n",
              "        padding: 0 0 0 0;\n",
              "        width: 32px;\n",
              "      }\n",
              "\n",
              "      .colab-df-generate:hover {\n",
              "        background-color: #E2EBFA;\n",
              "        box-shadow: 0px 1px 2px rgba(60, 64, 67, 0.3), 0px 1px 3px 1px rgba(60, 64, 67, 0.15);\n",
              "        fill: #174EA6;\n",
              "      }\n",
              "\n",
              "      [theme=dark] .colab-df-generate {\n",
              "        background-color: #3B4455;\n",
              "        fill: #D2E3FC;\n",
              "      }\n",
              "\n",
              "      [theme=dark] .colab-df-generate:hover {\n",
              "        background-color: #434B5C;\n",
              "        box-shadow: 0px 1px 3px 1px rgba(0, 0, 0, 0.15);\n",
              "        filter: drop-shadow(0px 1px 2px rgba(0, 0, 0, 0.3));\n",
              "        fill: #FFFFFF;\n",
              "      }\n",
              "    </style>\n",
              "    <button class=\"colab-df-generate\" onclick=\"generateWithVariable('daily_df')\"\n",
              "            title=\"Generate code using this dataframe.\"\n",
              "            style=\"display:none;\">\n",
              "\n",
              "  <svg xmlns=\"http://www.w3.org/2000/svg\" height=\"24px\"viewBox=\"0 0 24 24\"\n",
              "       width=\"24px\">\n",
              "    <path d=\"M7,19H8.4L18.45,9,17,7.55,7,17.6ZM5,21V16.75L18.45,3.32a2,2,0,0,1,2.83,0l1.4,1.43a1.91,1.91,0,0,1,.58,1.4,1.91,1.91,0,0,1-.58,1.4L9.25,21ZM18.45,9,17,7.55Zm-12,3A5.31,5.31,0,0,0,4.9,8.1,5.31,5.31,0,0,0,1,6.5,5.31,5.31,0,0,0,4.9,4.9,5.31,5.31,0,0,0,6.5,1,5.31,5.31,0,0,0,8.1,4.9,5.31,5.31,0,0,0,12,6.5,5.46,5.46,0,0,0,6.5,12Z\"/>\n",
              "  </svg>\n",
              "    </button>\n",
              "    <script>\n",
              "      (() => {\n",
              "      const buttonEl =\n",
              "        document.querySelector('#id_4f90e00a-42dd-4add-a74a-af43acffb61a button.colab-df-generate');\n",
              "      buttonEl.style.display =\n",
              "        google.colab.kernel.accessAllowed ? 'block' : 'none';\n",
              "\n",
              "      buttonEl.onclick = () => {\n",
              "        google.colab.notebook.generateWithVariable('daily_df');\n",
              "      }\n",
              "      })();\n",
              "    </script>\n",
              "  </div>\n",
              "\n",
              "    </div>\n",
              "  </div>\n"
            ],
            "application/vnd.google.colaboratory.intrinsic+json": {
              "type": "dataframe",
              "variable_name": "daily_df",
              "summary": "{\n  \"name\": \"daily_df\",\n  \"rows\": 829,\n  \"fields\": [\n    {\n      \"column\": \"DateTime\",\n      \"properties\": {\n        \"dtype\": \"date\",\n        \"min\": \"2011-11-23 00:00:00\",\n        \"max\": \"2014-02-28 00:00:00\",\n        \"num_unique_values\": 829,\n        \"samples\": [\n          \"2013-07-23 00:00:00\",\n          \"2013-02-22 00:00:00\",\n          \"2012-09-08 00:00:00\"\n        ],\n        \"semantic_type\": \"\",\n        \"description\": \"\"\n      }\n    },\n    {\n      \"column\": \"Daily_KWH\",\n      \"properties\": {\n        \"dtype\": \"number\",\n        \"std\": 9688.428568122632,\n        \"min\": 81.7300001,\n        \"max\": 38446.3519975,\n        \"num_unique_values\": 829,\n        \"samples\": [\n          21056.6129993,\n          32661.5419942,\n          21013.2279964\n        ],\n        \"semantic_type\": \"\",\n        \"description\": \"\"\n      }\n    },\n    {\n      \"column\": \"stdorToU\",\n      \"properties\": {\n        \"dtype\": \"category\",\n        \"num_unique_values\": 1,\n        \"samples\": [\n          \"Std\"\n        ],\n        \"semantic_type\": \"\",\n        \"description\": \"\"\n      }\n    },\n    {\n      \"column\": \"LCLid\",\n      \"properties\": {\n        \"dtype\": \"category\",\n        \"num_unique_values\": 5,\n        \"samples\": [\n          \"MAC000016\"\n        ],\n        \"semantic_type\": \"\",\n        \"description\": \"\"\n      }\n    }\n  ]\n}"
            }
          },
          "metadata": {},
          "execution_count": 18
        }
      ]
    },
    {
      "cell_type": "markdown",
      "source": [
        "# ARIMA Model"
      ],
      "metadata": {
        "id": "O6qBi-OqPgiF"
      }
    },
    {
      "cell_type": "markdown",
      "source": [
        "## Check for Stationarity"
      ],
      "metadata": {
        "id": "Ww6Xij5E3sl8"
      }
    },
    {
      "cell_type": "code",
      "source": [
        "# Check for Stationarity Again\n",
        "def adf_test(series):\n",
        "    result = adfuller(series)\n",
        "    print('ADF Statistic:', result[0])\n",
        "    print('p-value:', result[1])\n",
        "    for key, value in result[4].items():\n",
        "        print(f'Critical Value ({key}): {value}')\n",
        "    if result[1] > 0.05:\n",
        "        print(\"Data is not stationary\")\n",
        "    else:\n",
        "        print(\"Data is stationary\")"
      ],
      "metadata": {
        "id": "835qKoSo3qSp"
      },
      "execution_count": 19,
      "outputs": []
    },
    {
      "cell_type": "markdown",
      "source": [
        "## Grid Search"
      ],
      "metadata": {
        "id": "giiCvRG43z8I"
      }
    },
    {
      "cell_type": "code",
      "source": [
        "# Suppress warnings\n",
        "warnings.filterwarnings('ignore')\n",
        "\n",
        "# Function to perform grid search\n",
        "def grid_search_arima(data, p_values, d_values, q_values):\n",
        "    best_aic = np.inf\n",
        "    best_order = None\n",
        "    best_model = None\n",
        "\n",
        "    for p, d, q in itertools.product(p_values, d_values, q_values):\n",
        "        try:\n",
        "            model = ARIMA(data, order=(p, d, q))\n",
        "            model_fit = model.fit()\n",
        "            aic = model_fit.aic\n",
        "            if aic < best_aic:\n",
        "                best_aic = aic\n",
        "                best_order = (p, d, q)\n",
        "                best_model = model_fit\n",
        "        except:\n",
        "            continue\n",
        "\n",
        "    return best_order, best_model"
      ],
      "metadata": {
        "id": "x0W45lln3yUK"
      },
      "execution_count": 20,
      "outputs": []
    },
    {
      "cell_type": "markdown",
      "source": [
        "## DAILY DF"
      ],
      "metadata": {
        "id": "ENHRWG8F3mVt"
      }
    },
    {
      "cell_type": "code",
      "source": [
        "# Make the Data Stationary\n",
        "data_diff = daily_df['Daily_KWH'].diff().dropna()\n",
        "\n",
        "adf_test(data_diff)"
      ],
      "metadata": {
        "colab": {
          "base_uri": "https://localhost:8080/"
        },
        "id": "GgqxeZkG2zOq",
        "outputId": "8daddb20-5618-4d9b-d3e8-a50d01f50dd5"
      },
      "execution_count": 21,
      "outputs": [
        {
          "output_type": "stream",
          "name": "stdout",
          "text": [
            "ADF Statistic: -2.771817267836601\n",
            "p-value: 0.062413602885564023\n",
            "Critical Value (1%): -3.4384791480370605\n",
            "Critical Value (5%): -2.865128114094396\n",
            "Critical Value (10%): -2.5686806329529874\n",
            "Data is not stationary\n"
          ]
        }
      ]
    },
    {
      "cell_type": "code",
      "source": [
        "# Make the Data Stationary\n",
        "data_diff2 = data_diff.diff().dropna()\n",
        "\n",
        "adf_test(data_diff)"
      ],
      "metadata": {
        "colab": {
          "base_uri": "https://localhost:8080/"
        },
        "id": "x366sogWPgs7",
        "outputId": "41c34edd-1daa-4a54-85d3-4c0b20116432"
      },
      "execution_count": 22,
      "outputs": [
        {
          "output_type": "stream",
          "name": "stdout",
          "text": [
            "ADF Statistic: -2.771817267836601\n",
            "p-value: 0.062413602885564023\n",
            "Critical Value (1%): -3.4384791480370605\n",
            "Critical Value (5%): -2.865128114094396\n",
            "Critical Value (10%): -2.5686806329529874\n",
            "Data is not stationary\n"
          ]
        }
      ]
    },
    {
      "cell_type": "code",
      "source": [
        "# Grid search for best p, d, q values\n",
        "p_values = range(0, 10)\n",
        "d_values = range(0, 4)\n",
        "q_values = range(0, 10)\n",
        "arima_best_order, arima_best_model = grid_search_arima(data_diff2, p_values, d_values, q_values)"
      ],
      "metadata": {
        "id": "AHa59lUVq-xb"
      },
      "execution_count": 23,
      "outputs": []
    },
    {
      "cell_type": "code",
      "source": [
        "print('Best ARIMA order:', arima_best_order)\n",
        "print(arima_best_model.summary())"
      ],
      "metadata": {
        "colab": {
          "base_uri": "https://localhost:8080/"
        },
        "id": "_gO7WufPtjTt",
        "outputId": "ff9be642-d12d-41ff-afe1-4965d794c74e"
      },
      "execution_count": 24,
      "outputs": [
        {
          "output_type": "stream",
          "name": "stdout",
          "text": [
            "Best ARIMA order: (9, 3, 6)\n",
            "                               SARIMAX Results                                \n",
            "==============================================================================\n",
            "Dep. Variable:              Daily_KWH   No. Observations:                  827\n",
            "Model:                 ARIMA(9, 3, 6)   Log Likelihood                   0.000\n",
            "Date:                Mon, 05 Aug 2024   AIC                             32.000\n",
            "Time:                        17:56:34   BIC                            107.427\n",
            "Sample:                             0   HQIC                            60.935\n",
            "                                - 827                                         \n",
            "Covariance Type:                  opg                                         \n",
            "==============================================================================\n",
            "                 coef    std err          z      P>|z|      [0.025      0.975]\n",
            "------------------------------------------------------------------------------\n",
            "ar.L1         -3.9874   2.51e-08  -1.59e+08      0.000      -3.987      -3.987\n",
            "ar.L2         -3.9832    2.7e-08  -1.48e+08      0.000      -3.983      -3.983\n",
            "ar.L3          3.9646   5.07e-08   7.82e+07      0.000       3.965       3.965\n",
            "ar.L4          9.9421   8.19e-09   1.21e+09      0.000       9.942       9.942\n",
            "ar.L5          4.0167    2.5e-08   1.61e+08      0.000       4.017       4.017\n",
            "ar.L6         -3.9483   4.68e-08  -8.44e+07      0.000      -3.948      -3.948\n",
            "ar.L7         -3.9910   2.71e-08  -1.47e+08      0.000      -3.991      -3.991\n",
            "ar.L8         -1.0107   2.16e-08  -4.69e+07      0.000      -1.011      -1.011\n",
            "ar.L9         -0.0029   9.49e-10  -3.06e+06      0.000      -0.003      -0.003\n",
            "ma.L1         -0.0012   1.39e-09   -8.5e+05      0.000      -0.001      -0.001\n",
            "ma.L2         -2.9984   6.19e-08  -4.84e+07      0.000      -2.998      -2.998\n",
            "ma.L3          0.0015        nan        nan        nan         nan         nan\n",
            "ma.L4          2.9976   4.22e-08   7.11e+07      0.000       2.998       2.998\n",
            "ma.L5         -0.0003         -0        inf      0.000      -0.000      -0.000\n",
            "ma.L6         -0.9993   3.12e-08  -3.21e+07      0.000      -0.999      -0.999\n",
            "sigma2      2.616e+06         -0       -inf      0.000    2.62e+06    2.62e+06\n",
            "===================================================================================\n",
            "Ljung-Box (L1) (Q):                    nan   Jarque-Bera (JB):                  nan\n",
            "Prob(Q):                               nan   Prob(JB):                          nan\n",
            "Heteroskedasticity (H):                nan   Skew:                              nan\n",
            "Prob(H) (two-sided):                   nan   Kurtosis:                          nan\n",
            "===================================================================================\n",
            "\n",
            "Warnings:\n",
            "[1] Covariance matrix calculated using the outer product of gradients (complex-step).\n",
            "[2] Covariance matrix is singular or near-singular, with condition number    inf. Standard errors may be unstable.\n"
          ]
        }
      ]
    },
    {
      "cell_type": "code",
      "source": [
        "split_point = int(len(data_diff2) * 0.9)\n",
        "train_daily = data_diff2[:split_point]\n",
        "test_daily = data_diff2[split_point:]"
      ],
      "metadata": {
        "id": "RabWL4fCwi80"
      },
      "execution_count": 53,
      "outputs": []
    },
    {
      "cell_type": "code",
      "source": [
        "# Fit ARIMA model on training data\n",
        "arima_daily_model = ARIMA(train_daily, order=(9,3,6))\n",
        "model_fit_daily = arima_daily_model.fit()\n",
        "\n",
        "# Forecast future values\n",
        "forecast_steps = len(test_daily)\n",
        "arima_forecast = model_fit_daily.forecast(steps=forecast_steps)\n"
      ],
      "metadata": {
        "id": "fd5Br8g4uTn1"
      },
      "execution_count": 54,
      "outputs": []
    },
    {
      "cell_type": "markdown",
      "source": [
        "## Visualize Forecasted Values"
      ],
      "metadata": {
        "id": "2XnGnL8X36B-"
      }
    },
    {
      "cell_type": "code",
      "source": [
        "# Plotting actual vs forecasted values\n",
        "plt.figure(figsize=(12, 6))\n",
        "plt.plot(train_daily.index, train_daily, label='Training Data', color='blue')\n",
        "plt.plot(test_daily.index, test_daily, label='Test Data (Actual)', color='green')\n",
        "plt.plot(test_daily.index, arima_forecast, label='Forecasted', color='red')\n",
        "plt.title('ARIMA Forecast of Daily Energy Consumption')\n",
        "plt.xlabel('Date')\n",
        "plt.ylabel('Daily Energy Consumption (KWH)')\n",
        "plt.legend()\n",
        "plt.grid(True)\n",
        "plt.show()"
      ],
      "metadata": {
        "colab": {
          "base_uri": "https://localhost:8080/",
          "height": 564
        },
        "id": "WYhlHduYuQB9",
        "outputId": "8aac2cfc-0638-4bb7-ca4a-275db5710a71"
      },
      "execution_count": 55,
      "outputs": [
        {
          "output_type": "display_data",
          "data": {
            "text/plain": [
              "<Figure size 1200x600 with 1 Axes>"
            ],
            "image/png": "[encoded data removed]"
          },
          "metadata": {}
        }
      ]
    },
    {
      "cell_type": "code",
      "source": [
        "arima_me = np.mean(arima_forecast - test_daily)\n",
        "\n",
        "arima_mse = mean_squared_error(test_daily, arima_forecast)\n",
        "\n",
        "arima_mae = np.mean(np.abs(arima_forecast - test_daily))\n",
        "\n",
        "arima_rmse = mean_squared_error(test_daily, arima_forecast, squared=False)\n",
        "\n",
        "arima_r2 = r2_score(test_daily, arima_forecast)\n",
        "\n",
        "print(f\"Mean Error (ME): {arima_me}\")\n",
        "print(f\"Mean Squared Error (MSE): {arima_mse}\")\n",
        "print(f\"Mean Absolute Error (MAE): {arima_mae}\")\n",
        "print(f\"Root Mean Squared Error (RMSE): {arima_rmse}\")\n",
        "print(f\"R-squared (R^2): {arima_r2}\")"
      ],
      "metadata": {
        "colab": {
          "base_uri": "https://localhost:8080/"
        },
        "id": "m99_RWyI7E9b",
        "outputId": "df2e7d73-d4bb-4dcc-bd75-8d46b9b2f535"
      },
      "execution_count": 56,
      "outputs": [
        {
          "output_type": "stream",
          "name": "stdout",
          "text": [
            "Mean Error (ME): 26.435184689726203\n",
            "Mean Squared Error (MSE): 10472261.216690443\n",
            "Mean Absolute Error (MAE): 1843.2813176032146\n",
            "Root Mean Squared Error (RMSE): 3236.0873314375253\n",
            "R-squared (R^2): 0.05582970019952793\n"
          ]
        }
      ]
    },
    {
      "cell_type": "markdown",
      "source": [
        "# Prophet Forcasting Model"
      ],
      "metadata": {
        "id": "XGPcsqZ0tZft"
      }
    },
    {
      "cell_type": "code",
      "source": [
        "import pandas as pd\n",
        "from prophet import Prophet\n",
        "\n",
        "# Rename columns\n",
        "df = daily_df.rename(columns={'DateTime': 'ds', 'Daily_KWH': 'y'})\n",
        "\n",
        "# Convert 'ds' to datetime\n",
        "df['ds'] = pd.to_datetime(df['ds'])\n",
        "\n",
        "# Ensure 'ds' is in datetime format and sort by date\n",
        "df['ds'] = pd.to_datetime(df['ds'])\n",
        "df = df.sort_values(by='ds')\n"
      ],
      "metadata": {
        "id": "xja2BWF8BZNv"
      },
      "execution_count": 57,
      "outputs": []
    },
    {
      "cell_type": "code",
      "source": [
        "# Define the split point (e.g., 90% train, 10% test)\n",
        "split_date = df['ds'].quantile(0.9)\n",
        "\n",
        "# Split the data\n",
        "train_df = df[df['ds'] <= split_date]\n",
        "test_df = df[df['ds'] > split_date]\n",
        "\n",
        "print(f\"Training set from {train_df['ds'].min()} to {train_df['ds'].max()}\")\n",
        "print(f\"Testing set from {test_df['ds'].min()} to {test_df['ds'].max()}\")\n"
      ],
      "metadata": {
        "colab": {
          "base_uri": "https://localhost:8080/"
        },
        "id": "-qYq-MvtYtGj",
        "outputId": "5f3ee0ac-cbe1-4b20-8200-7aec9d0afa7a"
      },
      "execution_count": 58,
      "outputs": [
        {
          "output_type": "stream",
          "name": "stdout",
          "text": [
            "Training set from 2011-11-23 00:00:00 to 2013-12-07 00:00:00\n",
            "Testing set from 2013-12-08 00:00:00 to 2014-02-28 00:00:00\n"
          ]
        }
      ]
    },
    {
      "cell_type": "code",
      "source": [
        "from prophet import Prophet\n",
        "from sklearn.metrics import mean_absolute_error, r2_score\n",
        "\n",
        "def evaluate_model(changepoint_prior_scale, seasonality_prior_scale):\n",
        "    # Initialize the Prophet model with hyperparameters\n",
        "    model = Prophet(\n",
        "        changepoint_prior_scale=changepoint_prior_scale,\n",
        "        seasonality_prior_scale=seasonality_prior_scale,\n",
        "        daily_seasonality=False,\n",
        "        weekly_seasonality=False,\n",
        "        yearly_seasonality=False\n",
        "    )\n",
        "\n",
        "    # Fit the model on the training data\n",
        "    model.fit(train_df)\n",
        "\n",
        "    # Make predictions on the test data\n",
        "    future = test_df[['ds']]  # Ensure it contains only the 'ds' column\n",
        "    forecast = model.predict(future)\n",
        "\n",
        "    # Merge the forecast with actual values from the test set\n",
        "    result = pd.merge(test_df[['ds', 'y']], forecast[['ds', 'yhat']], on='ds')\n",
        "\n",
        "    # Extract actual and predicted values\n",
        "    y_true = result['y']\n",
        "    y_pred = result['yhat']\n",
        "\n",
        "    # Calculate MAE\n",
        "    mae = mean_absolute_error(y_true, y_pred)\n",
        "\n",
        "    return mae\n"
      ],
      "metadata": {
        "id": "0vqU4ZIWBbhP"
      },
      "execution_count": 59,
      "outputs": []
    },
    {
      "cell_type": "code",
      "source": [
        "import numpy as np\n",
        "\n",
        "# Define hyperparameter ranges\n",
        "changepoint_prior_scales = [0.00001,0.00005,0.001, 0.01, 0.1, 1.0]\n",
        "seasonality_prior_scales = [0.00001,0.00005,0.001, 0.01, 0.1, 1.0]\n",
        "\n",
        "# Perform grid search\n",
        "results = []\n",
        "for cps in changepoint_prior_scales:\n",
        "    for sps in seasonality_prior_scales:\n",
        "        mae = evaluate_model(cps, sps)\n",
        "        results.append((cps, sps, mae))\n",
        "        print(f\"Changepoint Prior Scale: {cps}, Seasonality Prior Scale: {sps}, MAE: {mae}\")\n",
        "\n",
        "\n"
      ],
      "metadata": {
        "colab": {
          "base_uri": "https://localhost:8080/"
        },
        "id": "7qQ-kAVABW3n",
        "outputId": "855e6cac-8c0d-4b97-b4e9-35d06f5bf3dd"
      },
      "execution_count": 69,
      "outputs": [
        {
          "output_type": "stream",
          "name": "stderr",
          "text": [
            "DEBUG:cmdstanpy:input tempfile: /tmp/tmplo5qlly9/npn19ljz.json\n",
            "DEBUG:cmdstanpy:input tempfile: /tmp/tmplo5qlly9/x3u4n7kb.json\n",
            "DEBUG:cmdstanpy:idx 0\n",
            "DEBUG:cmdstanpy:running CmdStan, num_threads: None\n",
            "DEBUG:cmdstanpy:CmdStan args: ['/usr/local/lib/python3.10/dist-packages/prophet/stan_model/prophet_model.bin', 'random', 'seed=86776', 'data', 'file=/tmp/tmplo5qlly9/npn19ljz.json', 'init=/tmp/tmplo5qlly9/x3u4n7kb.json', 'output', 'file=/tmp/tmplo5qlly9/prophet_model4lsazpaf/prophet_model-20240805181013.csv', 'method=optimize', 'algorithm=lbfgs', 'iter=10000']\n",
            "18:10:13 - cmdstanpy - INFO - Chain [1] start processing\n",
            "INFO:cmdstanpy:Chain [1] start processing\n",
            "18:10:13 - cmdstanpy - INFO - Chain [1] done processing\n",
            "INFO:cmdstanpy:Chain [1] done processing\n",
            "18:10:13 - cmdstanpy - ERROR - Chain [1] error: error during processing Operation not permitted\n",
            "ERROR:cmdstanpy:Chain [1] error: error during processing Operation not permitted\n",
            "WARNING:prophet.models:Optimization terminated abnormally. Falling back to Newton.\n",
            "DEBUG:cmdstanpy:input tempfile: /tmp/tmplo5qlly9/jfvyz1zm.json\n",
            "DEBUG:cmdstanpy:input tempfile: /tmp/tmplo5qlly9/gn9idw11.json\n",
            "DEBUG:cmdstanpy:idx 0\n",
            "DEBUG:cmdstanpy:running CmdStan, num_threads: None\n",
            "DEBUG:cmdstanpy:CmdStan args: ['/usr/local/lib/python3.10/dist-packages/prophet/stan_model/prophet_model.bin', 'random', 'seed=57182', 'data', 'file=/tmp/tmplo5qlly9/jfvyz1zm.json', 'init=/tmp/tmplo5qlly9/gn9idw11.json', 'output', 'file=/tmp/tmplo5qlly9/prophet_modelj39k6bz8/prophet_model-20240805181013.csv', 'method=optimize', 'algorithm=newton', 'iter=10000']\n",
            "18:10:13 - cmdstanpy - INFO - Chain [1] start processing\n",
            "INFO:cmdstanpy:Chain [1] start processing\n",
            "18:10:14 - cmdstanpy - INFO - Chain [1] done processing\n",
            "INFO:cmdstanpy:Chain [1] done processing\n",
            "DEBUG:cmdstanpy:input tempfile: /tmp/tmplo5qlly9/6h382e2m.json\n",
            "DEBUG:cmdstanpy:input tempfile: /tmp/tmplo5qlly9/4i_n1nhz.json\n",
            "DEBUG:cmdstanpy:idx 0\n",
            "DEBUG:cmdstanpy:running CmdStan, num_threads: None\n",
            "DEBUG:cmdstanpy:CmdStan args: ['/usr/local/lib/python3.10/dist-packages/prophet/stan_model/prophet_model.bin', 'random', 'seed=58566', 'data', 'file=/tmp/tmplo5qlly9/6h382e2m.json', 'init=/tmp/tmplo5qlly9/4i_n1nhz.json', 'output', 'file=/tmp/tmplo5qlly9/prophet_model_c7huzii/prophet_model-20240805181014.csv', 'method=optimize', 'algorithm=lbfgs', 'iter=10000']\n",
            "18:10:14 - cmdstanpy - INFO - Chain [1] start processing\n",
            "INFO:cmdstanpy:Chain [1] start processing\n",
            "18:10:14 - cmdstanpy - INFO - Chain [1] done processing\n",
            "INFO:cmdstanpy:Chain [1] done processing\n",
            "18:10:14 - cmdstanpy - ERROR - Chain [1] error: error during processing Operation not permitted\n",
            "ERROR:cmdstanpy:Chain [1] error: error during processing Operation not permitted\n",
            "WARNING:prophet.models:Optimization terminated abnormally. Falling back to Newton.\n",
            "DEBUG:cmdstanpy:input tempfile: /tmp/tmplo5qlly9/ig0d6l2b.json\n",
            "DEBUG:cmdstanpy:input tempfile: /tmp/tmplo5qlly9/zce8u9an.json\n",
            "DEBUG:cmdstanpy:idx 0\n",
            "DEBUG:cmdstanpy:running CmdStan, num_threads: None\n",
            "DEBUG:cmdstanpy:CmdStan args: ['/usr/local/lib/python3.10/dist-packages/prophet/stan_model/prophet_model.bin', 'random', 'seed=56720', 'data', 'file=/tmp/tmplo5qlly9/ig0d6l2b.json', 'init=/tmp/tmplo5qlly9/zce8u9an.json', 'output', 'file=/tmp/tmplo5qlly9/prophet_modelf56b2bya/prophet_model-20240805181014.csv', 'method=optimize', 'algorithm=newton', 'iter=10000']\n",
            "18:10:14 - cmdstanpy - INFO - Chain [1] start processing\n",
            "INFO:cmdstanpy:Chain [1] start processing\n"
          ]
        },
        {
          "output_type": "stream",
          "name": "stdout",
          "text": [
            "Changepoint Prior Scale: 1e-05, Seasonality Prior Scale: 1e-05, MAE: 5952.191537374676\n"
          ]
        },
        {
          "output_type": "stream",
          "name": "stderr",
          "text": [
            "18:10:16 - cmdstanpy - INFO - Chain [1] done processing\n",
            "INFO:cmdstanpy:Chain [1] done processing\n",
            "DEBUG:cmdstanpy:input tempfile: /tmp/tmplo5qlly9/0mdvm7o2.json\n",
            "DEBUG:cmdstanpy:input tempfile: /tmp/tmplo5qlly9/b9240tdi.json\n",
            "DEBUG:cmdstanpy:idx 0\n",
            "DEBUG:cmdstanpy:running CmdStan, num_threads: None\n",
            "DEBUG:cmdstanpy:CmdStan args: ['/usr/local/lib/python3.10/dist-packages/prophet/stan_model/prophet_model.bin', 'random', 'seed=44447', 'data', 'file=/tmp/tmplo5qlly9/0mdvm7o2.json', 'init=/tmp/tmplo5qlly9/b9240tdi.json', 'output', 'file=/tmp/tmplo5qlly9/prophet_modelx38cdtyo/prophet_model-20240805181016.csv', 'method=optimize', 'algorithm=lbfgs', 'iter=10000']\n",
            "18:10:16 - cmdstanpy - INFO - Chain [1] start processing\n",
            "INFO:cmdstanpy:Chain [1] start processing\n",
            "18:10:16 - cmdstanpy - INFO - Chain [1] done processing\n",
            "INFO:cmdstanpy:Chain [1] done processing\n",
            "18:10:16 - cmdstanpy - ERROR - Chain [1] error: error during processing Operation not permitted\n",
            "ERROR:cmdstanpy:Chain [1] error: error during processing Operation not permitted\n",
            "WARNING:prophet.models:Optimization terminated abnormally. Falling back to Newton.\n",
            "DEBUG:cmdstanpy:input tempfile: /tmp/tmplo5qlly9/egow1f1l.json\n",
            "DEBUG:cmdstanpy:input tempfile: /tmp/tmplo5qlly9/hfb4vi57.json\n",
            "DEBUG:cmdstanpy:idx 0\n",
            "DEBUG:cmdstanpy:running CmdStan, num_threads: None\n",
            "DEBUG:cmdstanpy:CmdStan args: ['/usr/local/lib/python3.10/dist-packages/prophet/stan_model/prophet_model.bin', 'random', 'seed=49213', 'data', 'file=/tmp/tmplo5qlly9/egow1f1l.json', 'init=/tmp/tmplo5qlly9/hfb4vi57.json', 'output', 'file=/tmp/tmplo5qlly9/prophet_model0qvp2nf3/prophet_model-20240805181016.csv', 'method=optimize', 'algorithm=newton', 'iter=10000']\n",
            "18:10:16 - cmdstanpy - INFO - Chain [1] start processing\n",
            "INFO:cmdstanpy:Chain [1] start processing\n"
          ]
        },
        {
          "output_type": "stream",
          "name": "stdout",
          "text": [
            "Changepoint Prior Scale: 1e-05, Seasonality Prior Scale: 5e-05, MAE: 5952.191537374676\n"
          ]
        },
        {
          "output_type": "stream",
          "name": "stderr",
          "text": [
            "18:10:17 - cmdstanpy - INFO - Chain [1] done processing\n",
            "INFO:cmdstanpy:Chain [1] done processing\n",
            "DEBUG:cmdstanpy:input tempfile: /tmp/tmplo5qlly9/bgcogllk.json\n",
            "DEBUG:cmdstanpy:input tempfile: /tmp/tmplo5qlly9/rd98c9nl.json\n",
            "DEBUG:cmdstanpy:idx 0\n",
            "DEBUG:cmdstanpy:running CmdStan, num_threads: None\n",
            "DEBUG:cmdstanpy:CmdStan args: ['/usr/local/lib/python3.10/dist-packages/prophet/stan_model/prophet_model.bin', 'random', 'seed=79756', 'data', 'file=/tmp/tmplo5qlly9/bgcogllk.json', 'init=/tmp/tmplo5qlly9/rd98c9nl.json', 'output', 'file=/tmp/tmplo5qlly9/prophet_model3_bjvv44/prophet_model-20240805181017.csv', 'method=optimize', 'algorithm=lbfgs', 'iter=10000']\n",
            "18:10:17 - cmdstanpy - INFO - Chain [1] start processing\n",
            "INFO:cmdstanpy:Chain [1] start processing\n",
            "18:10:17 - cmdstanpy - INFO - Chain [1] done processing\n",
            "INFO:cmdstanpy:Chain [1] done processing\n",
            "18:10:17 - cmdstanpy - ERROR - Chain [1] error: error during processing Operation not permitted\n",
            "ERROR:cmdstanpy:Chain [1] error: error during processing Operation not permitted\n",
            "WARNING:prophet.models:Optimization terminated abnormally. Falling back to Newton.\n",
            "DEBUG:cmdstanpy:input tempfile: /tmp/tmplo5qlly9/1vehjyve.json\n",
            "DEBUG:cmdstanpy:input tempfile: /tmp/tmplo5qlly9/yg9vzdv3.json\n",
            "DEBUG:cmdstanpy:idx 0\n",
            "DEBUG:cmdstanpy:running CmdStan, num_threads: None\n",
            "DEBUG:cmdstanpy:CmdStan args: ['/usr/local/lib/python3.10/dist-packages/prophet/stan_model/prophet_model.bin', 'random', 'seed=76606', 'data', 'file=/tmp/tmplo5qlly9/1vehjyve.json', 'init=/tmp/tmplo5qlly9/yg9vzdv3.json', 'output', 'file=/tmp/tmplo5qlly9/prophet_model48hhbblr/prophet_model-20240805181017.csv', 'method=optimize', 'algorithm=newton', 'iter=10000']\n",
            "18:10:17 - cmdstanpy - INFO - Chain [1] start processing\n",
            "INFO:cmdstanpy:Chain [1] start processing\n"
          ]
        },
        {
          "output_type": "stream",
          "name": "stdout",
          "text": [
            "Changepoint Prior Scale: 1e-05, Seasonality Prior Scale: 0.001, MAE: 5952.191537374676\n"
          ]
        },
        {
          "output_type": "stream",
          "name": "stderr",
          "text": [
            "18:10:19 - cmdstanpy - INFO - Chain [1] done processing\n",
            "INFO:cmdstanpy:Chain [1] done processing\n",
            "DEBUG:cmdstanpy:input tempfile: /tmp/tmplo5qlly9/3oibekg7.json\n",
            "DEBUG:cmdstanpy:input tempfile: /tmp/tmplo5qlly9/jc2_urpw.json\n",
            "DEBUG:cmdstanpy:idx 0\n",
            "DEBUG:cmdstanpy:running CmdStan, num_threads: None\n",
            "DEBUG:cmdstanpy:CmdStan args: ['/usr/local/lib/python3.10/dist-packages/prophet/stan_model/prophet_model.bin', 'random', 'seed=18914', 'data', 'file=/tmp/tmplo5qlly9/3oibekg7.json', 'init=/tmp/tmplo5qlly9/jc2_urpw.json', 'output', 'file=/tmp/tmplo5qlly9/prophet_modelx1spky9w/prophet_model-20240805181019.csv', 'method=optimize', 'algorithm=lbfgs', 'iter=10000']\n",
            "18:10:19 - cmdstanpy - INFO - Chain [1] start processing\n",
            "INFO:cmdstanpy:Chain [1] start processing\n",
            "18:10:19 - cmdstanpy - INFO - Chain [1] done processing\n",
            "INFO:cmdstanpy:Chain [1] done processing\n",
            "18:10:19 - cmdstanpy - ERROR - Chain [1] error: error during processing Operation not permitted\n",
            "ERROR:cmdstanpy:Chain [1] error: error during processing Operation not permitted\n",
            "WARNING:prophet.models:Optimization terminated abnormally. Falling back to Newton.\n",
            "DEBUG:cmdstanpy:input tempfile: /tmp/tmplo5qlly9/v6rfrjil.json\n",
            "DEBUG:cmdstanpy:input tempfile: /tmp/tmplo5qlly9/f6u48wbp.json\n",
            "DEBUG:cmdstanpy:idx 0\n",
            "DEBUG:cmdstanpy:running CmdStan, num_threads: None\n",
            "DEBUG:cmdstanpy:CmdStan args: ['/usr/local/lib/python3.10/dist-packages/prophet/stan_model/prophet_model.bin', 'random', 'seed=42248', 'data', 'file=/tmp/tmplo5qlly9/v6rfrjil.json', 'init=/tmp/tmplo5qlly9/f6u48wbp.json', 'output', 'file=/tmp/tmplo5qlly9/prophet_modelcc7ar0zu/prophet_model-20240805181019.csv', 'method=optimize', 'algorithm=newton', 'iter=10000']\n",
            "18:10:19 - cmdstanpy - INFO - Chain [1] start processing\n",
            "INFO:cmdstanpy:Chain [1] start processing\n"
          ]
        },
        {
          "output_type": "stream",
          "name": "stdout",
          "text": [
            "Changepoint Prior Scale: 1e-05, Seasonality Prior Scale: 0.01, MAE: 5952.191537374676\n"
          ]
        },
        {
          "output_type": "stream",
          "name": "stderr",
          "text": [
            "18:10:20 - cmdstanpy - INFO - Chain [1] done processing\n",
            "INFO:cmdstanpy:Chain [1] done processing\n",
            "DEBUG:cmdstanpy:input tempfile: /tmp/tmplo5qlly9/pv0zg_fu.json\n",
            "DEBUG:cmdstanpy:input tempfile: /tmp/tmplo5qlly9/_efpm3eb.json\n",
            "DEBUG:cmdstanpy:idx 0\n",
            "DEBUG:cmdstanpy:running CmdStan, num_threads: None\n",
            "DEBUG:cmdstanpy:CmdStan args: ['/usr/local/lib/python3.10/dist-packages/prophet/stan_model/prophet_model.bin', 'random', 'seed=78521', 'data', 'file=/tmp/tmplo5qlly9/pv0zg_fu.json', 'init=/tmp/tmplo5qlly9/_efpm3eb.json', 'output', 'file=/tmp/tmplo5qlly9/prophet_modelbaj99xtz/prophet_model-20240805181020.csv', 'method=optimize', 'algorithm=lbfgs', 'iter=10000']\n",
            "18:10:20 - cmdstanpy - INFO - Chain [1] start processing\n",
            "INFO:cmdstanpy:Chain [1] start processing\n",
            "18:10:20 - cmdstanpy - INFO - Chain [1] done processing\n",
            "INFO:cmdstanpy:Chain [1] done processing\n",
            "18:10:20 - cmdstanpy - ERROR - Chain [1] error: error during processing Operation not permitted\n",
            "ERROR:cmdstanpy:Chain [1] error: error during processing Operation not permitted\n",
            "WARNING:prophet.models:Optimization terminated abnormally. Falling back to Newton.\n",
            "DEBUG:cmdstanpy:input tempfile: /tmp/tmplo5qlly9/8kk1wvwd.json\n",
            "DEBUG:cmdstanpy:input tempfile: /tmp/tmplo5qlly9/ad1ogej4.json\n",
            "DEBUG:cmdstanpy:idx 0\n",
            "DEBUG:cmdstanpy:running CmdStan, num_threads: None\n",
            "DEBUG:cmdstanpy:CmdStan args: ['/usr/local/lib/python3.10/dist-packages/prophet/stan_model/prophet_model.bin', 'random', 'seed=93718', 'data', 'file=/tmp/tmplo5qlly9/8kk1wvwd.json', 'init=/tmp/tmplo5qlly9/ad1ogej4.json', 'output', 'file=/tmp/tmplo5qlly9/prophet_modelo7_t2l6u/prophet_model-20240805181020.csv', 'method=optimize', 'algorithm=newton', 'iter=10000']\n",
            "18:10:20 - cmdstanpy - INFO - Chain [1] start processing\n",
            "INFO:cmdstanpy:Chain [1] start processing\n"
          ]
        },
        {
          "output_type": "stream",
          "name": "stdout",
          "text": [
            "Changepoint Prior Scale: 1e-05, Seasonality Prior Scale: 0.1, MAE: 5952.191537374676\n"
          ]
        },
        {
          "output_type": "stream",
          "name": "stderr",
          "text": [
            "18:10:22 - cmdstanpy - INFO - Chain [1] done processing\n",
            "INFO:cmdstanpy:Chain [1] done processing\n",
            "DEBUG:cmdstanpy:input tempfile: /tmp/tmplo5qlly9/39n388gj.json\n",
            "DEBUG:cmdstanpy:input tempfile: /tmp/tmplo5qlly9/96a33uop.json\n",
            "DEBUG:cmdstanpy:idx 0\n",
            "DEBUG:cmdstanpy:running CmdStan, num_threads: None\n",
            "DEBUG:cmdstanpy:CmdStan args: ['/usr/local/lib/python3.10/dist-packages/prophet/stan_model/prophet_model.bin', 'random', 'seed=61560', 'data', 'file=/tmp/tmplo5qlly9/39n388gj.json', 'init=/tmp/tmplo5qlly9/96a33uop.json', 'output', 'file=/tmp/tmplo5qlly9/prophet_modelfi0bpxnv/prophet_model-20240805181022.csv', 'method=optimize', 'algorithm=lbfgs', 'iter=10000']\n",
            "18:10:22 - cmdstanpy - INFO - Chain [1] start processing\n",
            "INFO:cmdstanpy:Chain [1] start processing\n",
            "18:10:22 - cmdstanpy - INFO - Chain [1] done processing\n",
            "INFO:cmdstanpy:Chain [1] done processing\n",
            "18:10:22 - cmdstanpy - ERROR - Chain [1] error: error during processing Operation not permitted\n",
            "ERROR:cmdstanpy:Chain [1] error: error during processing Operation not permitted\n",
            "WARNING:prophet.models:Optimization terminated abnormally. Falling back to Newton.\n",
            "DEBUG:cmdstanpy:input tempfile: /tmp/tmplo5qlly9/p7pknkmr.json\n",
            "DEBUG:cmdstanpy:input tempfile: /tmp/tmplo5qlly9/w2j2cvay.json\n",
            "DEBUG:cmdstanpy:idx 0\n",
            "DEBUG:cmdstanpy:running CmdStan, num_threads: None\n",
            "DEBUG:cmdstanpy:CmdStan args: ['/usr/local/lib/python3.10/dist-packages/prophet/stan_model/prophet_model.bin', 'random', 'seed=7558', 'data', 'file=/tmp/tmplo5qlly9/p7pknkmr.json', 'init=/tmp/tmplo5qlly9/w2j2cvay.json', 'output', 'file=/tmp/tmplo5qlly9/prophet_model3czcrrcc/prophet_model-20240805181022.csv', 'method=optimize', 'algorithm=newton', 'iter=10000']\n",
            "18:10:22 - cmdstanpy - INFO - Chain [1] start processing\n",
            "INFO:cmdstanpy:Chain [1] start processing\n"
          ]
        },
        {
          "output_type": "stream",
          "name": "stdout",
          "text": [
            "Changepoint Prior Scale: 1e-05, Seasonality Prior Scale: 1.0, MAE: 5952.191537374676\n"
          ]
        },
        {
          "output_type": "stream",
          "name": "stderr",
          "text": [
            "18:10:22 - cmdstanpy - INFO - Chain [1] done processing\n",
            "INFO:cmdstanpy:Chain [1] done processing\n",
            "DEBUG:cmdstanpy:input tempfile: /tmp/tmplo5qlly9/qf_91bb7.json\n",
            "DEBUG:cmdstanpy:input tempfile: /tmp/tmplo5qlly9/l63x8ahc.json\n",
            "DEBUG:cmdstanpy:idx 0\n",
            "DEBUG:cmdstanpy:running CmdStan, num_threads: None\n",
            "DEBUG:cmdstanpy:CmdStan args: ['/usr/local/lib/python3.10/dist-packages/prophet/stan_model/prophet_model.bin', 'random', 'seed=11791', 'data', 'file=/tmp/tmplo5qlly9/qf_91bb7.json', 'init=/tmp/tmplo5qlly9/l63x8ahc.json', 'output', 'file=/tmp/tmplo5qlly9/prophet_modelcjrrl3u7/prophet_model-20240805181022.csv', 'method=optimize', 'algorithm=lbfgs', 'iter=10000']\n",
            "18:10:22 - cmdstanpy - INFO - Chain [1] start processing\n",
            "INFO:cmdstanpy:Chain [1] start processing\n",
            "18:10:22 - cmdstanpy - INFO - Chain [1] done processing\n",
            "INFO:cmdstanpy:Chain [1] done processing\n",
            "18:10:22 - cmdstanpy - ERROR - Chain [1] error: error during processing Operation not permitted\n",
            "ERROR:cmdstanpy:Chain [1] error: error during processing Operation not permitted\n",
            "WARNING:prophet.models:Optimization terminated abnormally. Falling back to Newton.\n",
            "DEBUG:cmdstanpy:input tempfile: /tmp/tmplo5qlly9/bdcglnsg.json\n",
            "DEBUG:cmdstanpy:input tempfile: /tmp/tmplo5qlly9/n623lexp.json\n",
            "DEBUG:cmdstanpy:idx 0\n",
            "DEBUG:cmdstanpy:running CmdStan, num_threads: None\n",
            "DEBUG:cmdstanpy:CmdStan args: ['/usr/local/lib/python3.10/dist-packages/prophet/stan_model/prophet_model.bin', 'random', 'seed=22645', 'data', 'file=/tmp/tmplo5qlly9/bdcglnsg.json', 'init=/tmp/tmplo5qlly9/n623lexp.json', 'output', 'file=/tmp/tmplo5qlly9/prophet_modeltpb0mdlh/prophet_model-20240805181022.csv', 'method=optimize', 'algorithm=newton', 'iter=10000']\n",
            "18:10:22 - cmdstanpy - INFO - Chain [1] start processing\n",
            "INFO:cmdstanpy:Chain [1] start processing\n"
          ]
        },
        {
          "output_type": "stream",
          "name": "stdout",
          "text": [
            "Changepoint Prior Scale: 5e-05, Seasonality Prior Scale: 1e-05, MAE: 5714.522640062768\n"
          ]
        },
        {
          "output_type": "stream",
          "name": "stderr",
          "text": [
            "18:10:23 - cmdstanpy - INFO - Chain [1] done processing\n",
            "INFO:cmdstanpy:Chain [1] done processing\n",
            "DEBUG:cmdstanpy:input tempfile: /tmp/tmplo5qlly9/354sxy4f.json\n",
            "DEBUG:cmdstanpy:input tempfile: /tmp/tmplo5qlly9/lnhw387w.json\n",
            "DEBUG:cmdstanpy:idx 0\n",
            "DEBUG:cmdstanpy:running CmdStan, num_threads: None\n",
            "DEBUG:cmdstanpy:CmdStan args: ['/usr/local/lib/python3.10/dist-packages/prophet/stan_model/prophet_model.bin', 'random', 'seed=79320', 'data', 'file=/tmp/tmplo5qlly9/354sxy4f.json', 'init=/tmp/tmplo5qlly9/lnhw387w.json', 'output', 'file=/tmp/tmplo5qlly9/prophet_modelr3gn6_jj/prophet_model-20240805181023.csv', 'method=optimize', 'algorithm=lbfgs', 'iter=10000']\n",
            "18:10:23 - cmdstanpy - INFO - Chain [1] start processing\n",
            "INFO:cmdstanpy:Chain [1] start processing\n",
            "18:10:23 - cmdstanpy - INFO - Chain [1] done processing\n",
            "INFO:cmdstanpy:Chain [1] done processing\n",
            "18:10:23 - cmdstanpy - ERROR - Chain [1] error: error during processing Operation not permitted\n",
            "ERROR:cmdstanpy:Chain [1] error: error during processing Operation not permitted\n",
            "WARNING:prophet.models:Optimization terminated abnormally. Falling back to Newton.\n",
            "DEBUG:cmdstanpy:input tempfile: /tmp/tmplo5qlly9/qyhz_jpc.json\n",
            "DEBUG:cmdstanpy:input tempfile: /tmp/tmplo5qlly9/tevm86bq.json\n",
            "DEBUG:cmdstanpy:idx 0\n",
            "DEBUG:cmdstanpy:running CmdStan, num_threads: None\n",
            "DEBUG:cmdstanpy:CmdStan args: ['/usr/local/lib/python3.10/dist-packages/prophet/stan_model/prophet_model.bin', 'random', 'seed=42529', 'data', 'file=/tmp/tmplo5qlly9/qyhz_jpc.json', 'init=/tmp/tmplo5qlly9/tevm86bq.json', 'output', 'file=/tmp/tmplo5qlly9/prophet_modela2dos6ys/prophet_model-20240805181023.csv', 'method=optimize', 'algorithm=newton', 'iter=10000']\n",
            "18:10:23 - cmdstanpy - INFO - Chain [1] start processing\n",
            "INFO:cmdstanpy:Chain [1] start processing\n"
          ]
        },
        {
          "output_type": "stream",
          "name": "stdout",
          "text": [
            "Changepoint Prior Scale: 5e-05, Seasonality Prior Scale: 5e-05, MAE: 5714.522640062768\n"
          ]
        },
        {
          "output_type": "stream",
          "name": "stderr",
          "text": [
            "18:10:23 - cmdstanpy - INFO - Chain [1] done processing\n",
            "INFO:cmdstanpy:Chain [1] done processing\n",
            "DEBUG:cmdstanpy:input tempfile: /tmp/tmplo5qlly9/pqmwoyy8.json\n",
            "DEBUG:cmdstanpy:input tempfile: /tmp/tmplo5qlly9/agtvwmon.json\n",
            "DEBUG:cmdstanpy:idx 0\n",
            "DEBUG:cmdstanpy:running CmdStan, num_threads: None\n",
            "DEBUG:cmdstanpy:CmdStan args: ['/usr/local/lib/python3.10/dist-packages/prophet/stan_model/prophet_model.bin', 'random', 'seed=83390', 'data', 'file=/tmp/tmplo5qlly9/pqmwoyy8.json', 'init=/tmp/tmplo5qlly9/agtvwmon.json', 'output', 'file=/tmp/tmplo5qlly9/prophet_model0qtbyg6l/prophet_model-20240805181024.csv', 'method=optimize', 'algorithm=lbfgs', 'iter=10000']\n",
            "18:10:24 - cmdstanpy - INFO - Chain [1] start processing\n",
            "INFO:cmdstanpy:Chain [1] start processing\n",
            "18:10:24 - cmdstanpy - INFO - Chain [1] done processing\n",
            "INFO:cmdstanpy:Chain [1] done processing\n",
            "18:10:24 - cmdstanpy - ERROR - Chain [1] error: error during processing Operation not permitted\n",
            "ERROR:cmdstanpy:Chain [1] error: error during processing Operation not permitted\n",
            "WARNING:prophet.models:Optimization terminated abnormally. Falling back to Newton.\n",
            "DEBUG:cmdstanpy:input tempfile: /tmp/tmplo5qlly9/66dyycep.json\n",
            "DEBUG:cmdstanpy:input tempfile: /tmp/tmplo5qlly9/7qgdztf9.json\n",
            "DEBUG:cmdstanpy:idx 0\n",
            "DEBUG:cmdstanpy:running CmdStan, num_threads: None\n",
            "DEBUG:cmdstanpy:CmdStan args: ['/usr/local/lib/python3.10/dist-packages/prophet/stan_model/prophet_model.bin', 'random', 'seed=83054', 'data', 'file=/tmp/tmplo5qlly9/66dyycep.json', 'init=/tmp/tmplo5qlly9/7qgdztf9.json', 'output', 'file=/tmp/tmplo5qlly9/prophet_modelu6enyfrc/prophet_model-20240805181024.csv', 'method=optimize', 'algorithm=newton', 'iter=10000']\n",
            "18:10:24 - cmdstanpy - INFO - Chain [1] start processing\n",
            "INFO:cmdstanpy:Chain [1] start processing\n"
          ]
        },
        {
          "output_type": "stream",
          "name": "stdout",
          "text": [
            "Changepoint Prior Scale: 5e-05, Seasonality Prior Scale: 0.001, MAE: 5714.522640062768\n"
          ]
        },
        {
          "output_type": "stream",
          "name": "stderr",
          "text": [
            "18:10:24 - cmdstanpy - INFO - Chain [1] done processing\n",
            "INFO:cmdstanpy:Chain [1] done processing\n",
            "DEBUG:cmdstanpy:input tempfile: /tmp/tmplo5qlly9/osdajxwo.json\n",
            "DEBUG:cmdstanpy:input tempfile: /tmp/tmplo5qlly9/te9oy526.json\n",
            "DEBUG:cmdstanpy:idx 0\n",
            "DEBUG:cmdstanpy:running CmdStan, num_threads: None\n",
            "DEBUG:cmdstanpy:CmdStan args: ['/usr/local/lib/python3.10/dist-packages/prophet/stan_model/prophet_model.bin', 'random', 'seed=44185', 'data', 'file=/tmp/tmplo5qlly9/osdajxwo.json', 'init=/tmp/tmplo5qlly9/te9oy526.json', 'output', 'file=/tmp/tmplo5qlly9/prophet_modelevncvqaa/prophet_model-20240805181024.csv', 'method=optimize', 'algorithm=lbfgs', 'iter=10000']\n",
            "18:10:24 - cmdstanpy - INFO - Chain [1] start processing\n",
            "INFO:cmdstanpy:Chain [1] start processing\n",
            "18:10:24 - cmdstanpy - INFO - Chain [1] done processing\n",
            "INFO:cmdstanpy:Chain [1] done processing\n",
            "18:10:24 - cmdstanpy - ERROR - Chain [1] error: error during processing Operation not permitted\n",
            "ERROR:cmdstanpy:Chain [1] error: error during processing Operation not permitted\n",
            "WARNING:prophet.models:Optimization terminated abnormally. Falling back to Newton.\n",
            "DEBUG:cmdstanpy:input tempfile: /tmp/tmplo5qlly9/qszyybvw.json\n",
            "DEBUG:cmdstanpy:input tempfile: /tmp/tmplo5qlly9/_hxwhyzd.json\n",
            "DEBUG:cmdstanpy:idx 0\n",
            "DEBUG:cmdstanpy:running CmdStan, num_threads: None\n",
            "DEBUG:cmdstanpy:CmdStan args: ['/usr/local/lib/python3.10/dist-packages/prophet/stan_model/prophet_model.bin', 'random', 'seed=96397', 'data', 'file=/tmp/tmplo5qlly9/qszyybvw.json', 'init=/tmp/tmplo5qlly9/_hxwhyzd.json', 'output', 'file=/tmp/tmplo5qlly9/prophet_modellhtk0p2t/prophet_model-20240805181024.csv', 'method=optimize', 'algorithm=newton', 'iter=10000']\n",
            "18:10:24 - cmdstanpy - INFO - Chain [1] start processing\n",
            "INFO:cmdstanpy:Chain [1] start processing\n"
          ]
        },
        {
          "output_type": "stream",
          "name": "stdout",
          "text": [
            "Changepoint Prior Scale: 5e-05, Seasonality Prior Scale: 0.01, MAE: 5714.522640062768\n"
          ]
        },
        {
          "output_type": "stream",
          "name": "stderr",
          "text": [
            "18:10:25 - cmdstanpy - INFO - Chain [1] done processing\n",
            "INFO:cmdstanpy:Chain [1] done processing\n",
            "DEBUG:cmdstanpy:input tempfile: /tmp/tmplo5qlly9/fs6pt88x.json\n",
            "DEBUG:cmdstanpy:input tempfile: /tmp/tmplo5qlly9/s3czvusj.json\n",
            "DEBUG:cmdstanpy:idx 0\n",
            "DEBUG:cmdstanpy:running CmdStan, num_threads: None\n",
            "DEBUG:cmdstanpy:CmdStan args: ['/usr/local/lib/python3.10/dist-packages/prophet/stan_model/prophet_model.bin', 'random', 'seed=23307', 'data', 'file=/tmp/tmplo5qlly9/fs6pt88x.json', 'init=/tmp/tmplo5qlly9/s3czvusj.json', 'output', 'file=/tmp/tmplo5qlly9/prophet_modelftp6e4_y/prophet_model-20240805181025.csv', 'method=optimize', 'algorithm=lbfgs', 'iter=10000']\n",
            "18:10:25 - cmdstanpy - INFO - Chain [1] start processing\n",
            "INFO:cmdstanpy:Chain [1] start processing\n",
            "18:10:25 - cmdstanpy - INFO - Chain [1] done processing\n",
            "INFO:cmdstanpy:Chain [1] done processing\n",
            "18:10:25 - cmdstanpy - ERROR - Chain [1] error: error during processing Operation not permitted\n",
            "ERROR:cmdstanpy:Chain [1] error: error during processing Operation not permitted\n",
            "WARNING:prophet.models:Optimization terminated abnormally. Falling back to Newton.\n",
            "DEBUG:cmdstanpy:input tempfile: /tmp/tmplo5qlly9/d986cdlu.json\n",
            "DEBUG:cmdstanpy:input tempfile: /tmp/tmplo5qlly9/x2s58xg_.json\n",
            "DEBUG:cmdstanpy:idx 0\n",
            "DEBUG:cmdstanpy:running CmdStan, num_threads: None\n",
            "DEBUG:cmdstanpy:CmdStan args: ['/usr/local/lib/python3.10/dist-packages/prophet/stan_model/prophet_model.bin', 'random', 'seed=80059', 'data', 'file=/tmp/tmplo5qlly9/d986cdlu.json', 'init=/tmp/tmplo5qlly9/x2s58xg_.json', 'output', 'file=/tmp/tmplo5qlly9/prophet_model6j9e7hih/prophet_model-20240805181025.csv', 'method=optimize', 'algorithm=newton', 'iter=10000']\n",
            "18:10:25 - cmdstanpy - INFO - Chain [1] start processing\n",
            "INFO:cmdstanpy:Chain [1] start processing\n"
          ]
        },
        {
          "output_type": "stream",
          "name": "stdout",
          "text": [
            "Changepoint Prior Scale: 5e-05, Seasonality Prior Scale: 0.1, MAE: 5714.522640062768\n"
          ]
        },
        {
          "output_type": "stream",
          "name": "stderr",
          "text": [
            "18:10:25 - cmdstanpy - INFO - Chain [1] done processing\n",
            "INFO:cmdstanpy:Chain [1] done processing\n",
            "DEBUG:cmdstanpy:input tempfile: /tmp/tmplo5qlly9/6tzobgqm.json\n",
            "DEBUG:cmdstanpy:input tempfile: /tmp/tmplo5qlly9/kyj7fs0f.json\n",
            "DEBUG:cmdstanpy:idx 0\n",
            "DEBUG:cmdstanpy:running CmdStan, num_threads: None\n",
            "DEBUG:cmdstanpy:CmdStan args: ['/usr/local/lib/python3.10/dist-packages/prophet/stan_model/prophet_model.bin', 'random', 'seed=74113', 'data', 'file=/tmp/tmplo5qlly9/6tzobgqm.json', 'init=/tmp/tmplo5qlly9/kyj7fs0f.json', 'output', 'file=/tmp/tmplo5qlly9/prophet_model8cs_0v9d/prophet_model-20240805181025.csv', 'method=optimize', 'algorithm=lbfgs', 'iter=10000']\n",
            "18:10:25 - cmdstanpy - INFO - Chain [1] start processing\n",
            "INFO:cmdstanpy:Chain [1] start processing\n",
            "18:10:25 - cmdstanpy - INFO - Chain [1] done processing\n",
            "INFO:cmdstanpy:Chain [1] done processing\n",
            "DEBUG:cmdstanpy:input tempfile: /tmp/tmplo5qlly9/2fz9phh8.json\n",
            "DEBUG:cmdstanpy:input tempfile: /tmp/tmplo5qlly9/gz7ex70v.json\n",
            "DEBUG:cmdstanpy:idx 0\n",
            "DEBUG:cmdstanpy:running CmdStan, num_threads: None\n",
            "DEBUG:cmdstanpy:CmdStan args: ['/usr/local/lib/python3.10/dist-packages/prophet/stan_model/prophet_model.bin', 'random', 'seed=27032', 'data', 'file=/tmp/tmplo5qlly9/2fz9phh8.json', 'init=/tmp/tmplo5qlly9/gz7ex70v.json', 'output', 'file=/tmp/tmplo5qlly9/prophet_model4inrnqca/prophet_model-20240805181025.csv', 'method=optimize', 'algorithm=lbfgs', 'iter=10000']\n",
            "18:10:25 - cmdstanpy - INFO - Chain [1] start processing\n",
            "INFO:cmdstanpy:Chain [1] start processing\n",
            "18:10:25 - cmdstanpy - INFO - Chain [1] done processing\n",
            "INFO:cmdstanpy:Chain [1] done processing\n"
          ]
        },
        {
          "output_type": "stream",
          "name": "stdout",
          "text": [
            "Changepoint Prior Scale: 5e-05, Seasonality Prior Scale: 1.0, MAE: 5714.522640062768\n",
            "Changepoint Prior Scale: 0.001, Seasonality Prior Scale: 1e-05, MAE: 8526.659634783671\n"
          ]
        },
        {
          "output_type": "stream",
          "name": "stderr",
          "text": [
            "DEBUG:cmdstanpy:input tempfile: /tmp/tmplo5qlly9/kr4o0s_x.json\n",
            "DEBUG:cmdstanpy:input tempfile: /tmp/tmplo5qlly9/02ooyqa8.json\n",
            "DEBUG:cmdstanpy:idx 0\n",
            "DEBUG:cmdstanpy:running CmdStan, num_threads: None\n",
            "DEBUG:cmdstanpy:CmdStan args: ['/usr/local/lib/python3.10/dist-packages/prophet/stan_model/prophet_model.bin', 'random', 'seed=72071', 'data', 'file=/tmp/tmplo5qlly9/kr4o0s_x.json', 'init=/tmp/tmplo5qlly9/02ooyqa8.json', 'output', 'file=/tmp/tmplo5qlly9/prophet_modelew9sus0e/prophet_model-20240805181026.csv', 'method=optimize', 'algorithm=lbfgs', 'iter=10000']\n",
            "18:10:26 - cmdstanpy - INFO - Chain [1] start processing\n",
            "INFO:cmdstanpy:Chain [1] start processing\n",
            "18:10:26 - cmdstanpy - INFO - Chain [1] done processing\n",
            "INFO:cmdstanpy:Chain [1] done processing\n",
            "DEBUG:cmdstanpy:input tempfile: /tmp/tmplo5qlly9/eexet3lr.json\n",
            "DEBUG:cmdstanpy:input tempfile: /tmp/tmplo5qlly9/mr0ofj5_.json\n",
            "DEBUG:cmdstanpy:idx 0\n",
            "DEBUG:cmdstanpy:running CmdStan, num_threads: None\n",
            "DEBUG:cmdstanpy:CmdStan args: ['/usr/local/lib/python3.10/dist-packages/prophet/stan_model/prophet_model.bin', 'random', 'seed=1381', 'data', 'file=/tmp/tmplo5qlly9/eexet3lr.json', 'init=/tmp/tmplo5qlly9/mr0ofj5_.json', 'output', 'file=/tmp/tmplo5qlly9/prophet_modelo4w_9qyj/prophet_model-20240805181026.csv', 'method=optimize', 'algorithm=lbfgs', 'iter=10000']\n",
            "18:10:26 - cmdstanpy - INFO - Chain [1] start processing\n",
            "INFO:cmdstanpy:Chain [1] start processing\n",
            "18:10:26 - cmdstanpy - INFO - Chain [1] done processing\n",
            "INFO:cmdstanpy:Chain [1] done processing\n"
          ]
        },
        {
          "output_type": "stream",
          "name": "stdout",
          "text": [
            "Changepoint Prior Scale: 0.001, Seasonality Prior Scale: 5e-05, MAE: 8526.659634783671\n",
            "Changepoint Prior Scale: 0.001, Seasonality Prior Scale: 0.001, MAE: 8526.659634783671\n"
          ]
        },
        {
          "output_type": "stream",
          "name": "stderr",
          "text": [
            "DEBUG:cmdstanpy:input tempfile: /tmp/tmplo5qlly9/tizhmir8.json\n",
            "DEBUG:cmdstanpy:input tempfile: /tmp/tmplo5qlly9/m0_ho1t1.json\n",
            "DEBUG:cmdstanpy:idx 0\n",
            "DEBUG:cmdstanpy:running CmdStan, num_threads: None\n",
            "DEBUG:cmdstanpy:CmdStan args: ['/usr/local/lib/python3.10/dist-packages/prophet/stan_model/prophet_model.bin', 'random', 'seed=58192', 'data', 'file=/tmp/tmplo5qlly9/tizhmir8.json', 'init=/tmp/tmplo5qlly9/m0_ho1t1.json', 'output', 'file=/tmp/tmplo5qlly9/prophet_modelqvgaaqcn/prophet_model-20240805181026.csv', 'method=optimize', 'algorithm=lbfgs', 'iter=10000']\n",
            "18:10:26 - cmdstanpy - INFO - Chain [1] start processing\n",
            "INFO:cmdstanpy:Chain [1] start processing\n",
            "18:10:26 - cmdstanpy - INFO - Chain [1] done processing\n",
            "INFO:cmdstanpy:Chain [1] done processing\n",
            "DEBUG:cmdstanpy:input tempfile: /tmp/tmplo5qlly9/gj_5jk62.json\n",
            "DEBUG:cmdstanpy:input tempfile: /tmp/tmplo5qlly9/b2aftja5.json\n",
            "DEBUG:cmdstanpy:idx 0\n",
            "DEBUG:cmdstanpy:running CmdStan, num_threads: None\n",
            "DEBUG:cmdstanpy:CmdStan args: ['/usr/local/lib/python3.10/dist-packages/prophet/stan_model/prophet_model.bin', 'random', 'seed=1477', 'data', 'file=/tmp/tmplo5qlly9/gj_5jk62.json', 'init=/tmp/tmplo5qlly9/b2aftja5.json', 'output', 'file=/tmp/tmplo5qlly9/prophet_modelc0s34a80/prophet_model-20240805181026.csv', 'method=optimize', 'algorithm=lbfgs', 'iter=10000']\n",
            "18:10:26 - cmdstanpy - INFO - Chain [1] start processing\n",
            "INFO:cmdstanpy:Chain [1] start processing\n",
            "18:10:26 - cmdstanpy - INFO - Chain [1] done processing\n",
            "INFO:cmdstanpy:Chain [1] done processing\n"
          ]
        },
        {
          "output_type": "stream",
          "name": "stdout",
          "text": [
            "Changepoint Prior Scale: 0.001, Seasonality Prior Scale: 0.01, MAE: 8526.659634783671\n",
            "Changepoint Prior Scale: 0.001, Seasonality Prior Scale: 0.1, MAE: 8526.659634783671\n"
          ]
        },
        {
          "output_type": "stream",
          "name": "stderr",
          "text": [
            "DEBUG:cmdstanpy:input tempfile: /tmp/tmplo5qlly9/a2pgivo6.json\n",
            "DEBUG:cmdstanpy:input tempfile: /tmp/tmplo5qlly9/qximhl5s.json\n",
            "DEBUG:cmdstanpy:idx 0\n",
            "DEBUG:cmdstanpy:running CmdStan, num_threads: None\n",
            "DEBUG:cmdstanpy:CmdStan args: ['/usr/local/lib/python3.10/dist-packages/prophet/stan_model/prophet_model.bin', 'random', 'seed=1592', 'data', 'file=/tmp/tmplo5qlly9/a2pgivo6.json', 'init=/tmp/tmplo5qlly9/qximhl5s.json', 'output', 'file=/tmp/tmplo5qlly9/prophet_modeldhmnrvjl/prophet_model-20240805181026.csv', 'method=optimize', 'algorithm=lbfgs', 'iter=10000']\n",
            "18:10:26 - cmdstanpy - INFO - Chain [1] start processing\n",
            "INFO:cmdstanpy:Chain [1] start processing\n",
            "18:10:26 - cmdstanpy - INFO - Chain [1] done processing\n",
            "INFO:cmdstanpy:Chain [1] done processing\n",
            "DEBUG:cmdstanpy:input tempfile: /tmp/tmplo5qlly9/mt7hj_q9.json\n",
            "DEBUG:cmdstanpy:input tempfile: /tmp/tmplo5qlly9/bfbjsa5j.json\n",
            "DEBUG:cmdstanpy:idx 0\n",
            "DEBUG:cmdstanpy:running CmdStan, num_threads: None\n",
            "DEBUG:cmdstanpy:CmdStan args: ['/usr/local/lib/python3.10/dist-packages/prophet/stan_model/prophet_model.bin', 'random', 'seed=19771', 'data', 'file=/tmp/tmplo5qlly9/mt7hj_q9.json', 'init=/tmp/tmplo5qlly9/bfbjsa5j.json', 'output', 'file=/tmp/tmplo5qlly9/prophet_modelyk_08f4d/prophet_model-20240805181026.csv', 'method=optimize', 'algorithm=lbfgs', 'iter=10000']\n",
            "18:10:26 - cmdstanpy - INFO - Chain [1] start processing\n",
            "INFO:cmdstanpy:Chain [1] start processing\n"
          ]
        },
        {
          "output_type": "stream",
          "name": "stdout",
          "text": [
            "Changepoint Prior Scale: 0.001, Seasonality Prior Scale: 1.0, MAE: 8526.659634783671\n",
            "Changepoint Prior Scale: 0.01, Seasonality Prior Scale: 1e-05, MAE: 6026.536983485648\n"
          ]
        },
        {
          "output_type": "stream",
          "name": "stderr",
          "text": [
            "18:10:26 - cmdstanpy - INFO - Chain [1] done processing\n",
            "INFO:cmdstanpy:Chain [1] done processing\n",
            "DEBUG:cmdstanpy:input tempfile: /tmp/tmplo5qlly9/xtockxtl.json\n",
            "DEBUG:cmdstanpy:input tempfile: /tmp/tmplo5qlly9/3znq3i1v.json\n",
            "DEBUG:cmdstanpy:idx 0\n",
            "DEBUG:cmdstanpy:running CmdStan, num_threads: None\n",
            "DEBUG:cmdstanpy:CmdStan args: ['/usr/local/lib/python3.10/dist-packages/prophet/stan_model/prophet_model.bin', 'random', 'seed=32269', 'data', 'file=/tmp/tmplo5qlly9/xtockxtl.json', 'init=/tmp/tmplo5qlly9/3znq3i1v.json', 'output', 'file=/tmp/tmplo5qlly9/prophet_model6poy9hj0/prophet_model-20240805181026.csv', 'method=optimize', 'algorithm=lbfgs', 'iter=10000']\n",
            "18:10:26 - cmdstanpy - INFO - Chain [1] start processing\n",
            "INFO:cmdstanpy:Chain [1] start processing\n",
            "18:10:26 - cmdstanpy - INFO - Chain [1] done processing\n",
            "INFO:cmdstanpy:Chain [1] done processing\n",
            "DEBUG:cmdstanpy:input tempfile: /tmp/tmplo5qlly9/c26ldtmw.json\n",
            "DEBUG:cmdstanpy:input tempfile: /tmp/tmplo5qlly9/t2wytirg.json\n",
            "DEBUG:cmdstanpy:idx 0\n",
            "DEBUG:cmdstanpy:running CmdStan, num_threads: None\n",
            "DEBUG:cmdstanpy:CmdStan args: ['/usr/local/lib/python3.10/dist-packages/prophet/stan_model/prophet_model.bin', 'random', 'seed=28933', 'data', 'file=/tmp/tmplo5qlly9/c26ldtmw.json', 'init=/tmp/tmplo5qlly9/t2wytirg.json', 'output', 'file=/tmp/tmplo5qlly9/prophet_model64_e5lx_/prophet_model-20240805181026.csv', 'method=optimize', 'algorithm=lbfgs', 'iter=10000']\n",
            "18:10:26 - cmdstanpy - INFO - Chain [1] start processing\n",
            "INFO:cmdstanpy:Chain [1] start processing\n"
          ]
        },
        {
          "output_type": "stream",
          "name": "stdout",
          "text": [
            "Changepoint Prior Scale: 0.01, Seasonality Prior Scale: 5e-05, MAE: 6026.536983485648\n",
            "Changepoint Prior Scale: 0.01, Seasonality Prior Scale: 0.001, MAE: 6026.536983485648\n"
          ]
        },
        {
          "output_type": "stream",
          "name": "stderr",
          "text": [
            "18:10:27 - cmdstanpy - INFO - Chain [1] done processing\n",
            "INFO:cmdstanpy:Chain [1] done processing\n",
            "DEBUG:cmdstanpy:input tempfile: /tmp/tmplo5qlly9/96uq8elk.json\n",
            "DEBUG:cmdstanpy:input tempfile: /tmp/tmplo5qlly9/5civhfal.json\n",
            "DEBUG:cmdstanpy:idx 0\n",
            "DEBUG:cmdstanpy:running CmdStan, num_threads: None\n",
            "DEBUG:cmdstanpy:CmdStan args: ['/usr/local/lib/python3.10/dist-packages/prophet/stan_model/prophet_model.bin', 'random', 'seed=11756', 'data', 'file=/tmp/tmplo5qlly9/96uq8elk.json', 'init=/tmp/tmplo5qlly9/5civhfal.json', 'output', 'file=/tmp/tmplo5qlly9/prophet_model2pgbgby_/prophet_model-20240805181027.csv', 'method=optimize', 'algorithm=lbfgs', 'iter=10000']\n",
            "18:10:27 - cmdstanpy - INFO - Chain [1] start processing\n",
            "INFO:cmdstanpy:Chain [1] start processing\n",
            "18:10:27 - cmdstanpy - INFO - Chain [1] done processing\n",
            "INFO:cmdstanpy:Chain [1] done processing\n",
            "DEBUG:cmdstanpy:input tempfile: /tmp/tmplo5qlly9/ppyuuk7h.json\n",
            "DEBUG:cmdstanpy:input tempfile: /tmp/tmplo5qlly9/g9upaltc.json\n",
            "DEBUG:cmdstanpy:idx 0\n",
            "DEBUG:cmdstanpy:running CmdStan, num_threads: None\n",
            "DEBUG:cmdstanpy:CmdStan args: ['/usr/local/lib/python3.10/dist-packages/prophet/stan_model/prophet_model.bin', 'random', 'seed=15422', 'data', 'file=/tmp/tmplo5qlly9/ppyuuk7h.json', 'init=/tmp/tmplo5qlly9/g9upaltc.json', 'output', 'file=/tmp/tmplo5qlly9/prophet_modelku4jbmfa/prophet_model-20240805181027.csv', 'method=optimize', 'algorithm=lbfgs', 'iter=10000']\n",
            "18:10:27 - cmdstanpy - INFO - Chain [1] start processing\n",
            "INFO:cmdstanpy:Chain [1] start processing\n"
          ]
        },
        {
          "output_type": "stream",
          "name": "stdout",
          "text": [
            "Changepoint Prior Scale: 0.01, Seasonality Prior Scale: 0.01, MAE: 6026.536983485648\n",
            "Changepoint Prior Scale: 0.01, Seasonality Prior Scale: 0.1, MAE: 6026.536983485648\n"
          ]
        },
        {
          "output_type": "stream",
          "name": "stderr",
          "text": [
            "18:10:27 - cmdstanpy - INFO - Chain [1] done processing\n",
            "INFO:cmdstanpy:Chain [1] done processing\n",
            "DEBUG:cmdstanpy:input tempfile: /tmp/tmplo5qlly9/zkmj9bco.json\n",
            "DEBUG:cmdstanpy:input tempfile: /tmp/tmplo5qlly9/914caqj7.json\n",
            "DEBUG:cmdstanpy:idx 0\n",
            "DEBUG:cmdstanpy:running CmdStan, num_threads: None\n",
            "DEBUG:cmdstanpy:CmdStan args: ['/usr/local/lib/python3.10/dist-packages/prophet/stan_model/prophet_model.bin', 'random', 'seed=66040', 'data', 'file=/tmp/tmplo5qlly9/zkmj9bco.json', 'init=/tmp/tmplo5qlly9/914caqj7.json', 'output', 'file=/tmp/tmplo5qlly9/prophet_model0d_cmlci/prophet_model-20240805181027.csv', 'method=optimize', 'algorithm=lbfgs', 'iter=10000']\n",
            "18:10:27 - cmdstanpy - INFO - Chain [1] start processing\n",
            "INFO:cmdstanpy:Chain [1] start processing\n",
            "18:10:27 - cmdstanpy - INFO - Chain [1] done processing\n",
            "INFO:cmdstanpy:Chain [1] done processing\n"
          ]
        },
        {
          "output_type": "stream",
          "name": "stdout",
          "text": [
            "Changepoint Prior Scale: 0.01, Seasonality Prior Scale: 1.0, MAE: 6026.536983485648\n"
          ]
        },
        {
          "output_type": "stream",
          "name": "stderr",
          "text": [
            "DEBUG:cmdstanpy:input tempfile: /tmp/tmplo5qlly9/gnzwyeac.json\n",
            "DEBUG:cmdstanpy:input tempfile: /tmp/tmplo5qlly9/o_33gwgh.json\n",
            "DEBUG:cmdstanpy:idx 0\n",
            "DEBUG:cmdstanpy:running CmdStan, num_threads: None\n",
            "DEBUG:cmdstanpy:CmdStan args: ['/usr/local/lib/python3.10/dist-packages/prophet/stan_model/prophet_model.bin', 'random', 'seed=37246', 'data', 'file=/tmp/tmplo5qlly9/gnzwyeac.json', 'init=/tmp/tmplo5qlly9/o_33gwgh.json', 'output', 'file=/tmp/tmplo5qlly9/prophet_modelh8z8_g7u/prophet_model-20240805181027.csv', 'method=optimize', 'algorithm=lbfgs', 'iter=10000']\n",
            "18:10:27 - cmdstanpy - INFO - Chain [1] start processing\n",
            "INFO:cmdstanpy:Chain [1] start processing\n",
            "18:10:27 - cmdstanpy - INFO - Chain [1] done processing\n",
            "INFO:cmdstanpy:Chain [1] done processing\n"
          ]
        },
        {
          "output_type": "stream",
          "name": "stdout",
          "text": [
            "Changepoint Prior Scale: 0.1, Seasonality Prior Scale: 1e-05, MAE: 2769.7529558028723\n"
          ]
        },
        {
          "output_type": "stream",
          "name": "stderr",
          "text": [
            "DEBUG:cmdstanpy:input tempfile: /tmp/tmplo5qlly9/g97vco22.json\n",
            "DEBUG:cmdstanpy:input tempfile: /tmp/tmplo5qlly9/wdnka71z.json\n",
            "DEBUG:cmdstanpy:idx 0\n",
            "DEBUG:cmdstanpy:running CmdStan, num_threads: None\n",
            "DEBUG:cmdstanpy:CmdStan args: ['/usr/local/lib/python3.10/dist-packages/prophet/stan_model/prophet_model.bin', 'random', 'seed=89827', 'data', 'file=/tmp/tmplo5qlly9/g97vco22.json', 'init=/tmp/tmplo5qlly9/wdnka71z.json', 'output', 'file=/tmp/tmplo5qlly9/prophet_modeluhnx2fsl/prophet_model-20240805181027.csv', 'method=optimize', 'algorithm=lbfgs', 'iter=10000']\n",
            "18:10:27 - cmdstanpy - INFO - Chain [1] start processing\n",
            "INFO:cmdstanpy:Chain [1] start processing\n",
            "18:10:27 - cmdstanpy - INFO - Chain [1] done processing\n",
            "INFO:cmdstanpy:Chain [1] done processing\n",
            "DEBUG:cmdstanpy:input tempfile: /tmp/tmplo5qlly9/4w_mqi7e.json\n",
            "DEBUG:cmdstanpy:input tempfile: /tmp/tmplo5qlly9/nysi05cr.json\n",
            "DEBUG:cmdstanpy:idx 0\n",
            "DEBUG:cmdstanpy:running CmdStan, num_threads: None\n",
            "DEBUG:cmdstanpy:CmdStan args: ['/usr/local/lib/python3.10/dist-packages/prophet/stan_model/prophet_model.bin', 'random', 'seed=4017', 'data', 'file=/tmp/tmplo5qlly9/4w_mqi7e.json', 'init=/tmp/tmplo5qlly9/nysi05cr.json', 'output', 'file=/tmp/tmplo5qlly9/prophet_modeldpjotru8/prophet_model-20240805181028.csv', 'method=optimize', 'algorithm=lbfgs', 'iter=10000']\n",
            "18:10:28 - cmdstanpy - INFO - Chain [1] start processing\n",
            "INFO:cmdstanpy:Chain [1] start processing\n",
            "18:10:28 - cmdstanpy - INFO - Chain [1] done processing\n",
            "INFO:cmdstanpy:Chain [1] done processing\n"
          ]
        },
        {
          "output_type": "stream",
          "name": "stdout",
          "text": [
            "Changepoint Prior Scale: 0.1, Seasonality Prior Scale: 5e-05, MAE: 2769.7529558028723\n",
            "Changepoint Prior Scale: 0.1, Seasonality Prior Scale: 0.001, MAE: 2769.7529558028723\n"
          ]
        },
        {
          "output_type": "stream",
          "name": "stderr",
          "text": [
            "DEBUG:cmdstanpy:input tempfile: /tmp/tmplo5qlly9/13iuak4u.json\n",
            "DEBUG:cmdstanpy:input tempfile: /tmp/tmplo5qlly9/w7oyt2a3.json\n",
            "DEBUG:cmdstanpy:idx 0\n",
            "DEBUG:cmdstanpy:running CmdStan, num_threads: None\n",
            "DEBUG:cmdstanpy:CmdStan args: ['/usr/local/lib/python3.10/dist-packages/prophet/stan_model/prophet_model.bin', 'random', 'seed=56906', 'data', 'file=/tmp/tmplo5qlly9/13iuak4u.json', 'init=/tmp/tmplo5qlly9/w7oyt2a3.json', 'output', 'file=/tmp/tmplo5qlly9/prophet_modelmr_j9l88/prophet_model-20240805181028.csv', 'method=optimize', 'algorithm=lbfgs', 'iter=10000']\n",
            "18:10:28 - cmdstanpy - INFO - Chain [1] start processing\n",
            "INFO:cmdstanpy:Chain [1] start processing\n",
            "18:10:28 - cmdstanpy - INFO - Chain [1] done processing\n",
            "INFO:cmdstanpy:Chain [1] done processing\n"
          ]
        },
        {
          "output_type": "stream",
          "name": "stdout",
          "text": [
            "Changepoint Prior Scale: 0.1, Seasonality Prior Scale: 0.01, MAE: 2769.7529558028723\n"
          ]
        },
        {
          "output_type": "stream",
          "name": "stderr",
          "text": [
            "DEBUG:cmdstanpy:input tempfile: /tmp/tmplo5qlly9/yhhacg1e.json\n",
            "DEBUG:cmdstanpy:input tempfile: /tmp/tmplo5qlly9/icsiadm5.json\n",
            "DEBUG:cmdstanpy:idx 0\n",
            "DEBUG:cmdstanpy:running CmdStan, num_threads: None\n",
            "DEBUG:cmdstanpy:CmdStan args: ['/usr/local/lib/python3.10/dist-packages/prophet/stan_model/prophet_model.bin', 'random', 'seed=67820', 'data', 'file=/tmp/tmplo5qlly9/yhhacg1e.json', 'init=/tmp/tmplo5qlly9/icsiadm5.json', 'output', 'file=/tmp/tmplo5qlly9/prophet_model_s72m2u4/prophet_model-20240805181028.csv', 'method=optimize', 'algorithm=lbfgs', 'iter=10000']\n",
            "18:10:28 - cmdstanpy - INFO - Chain [1] start processing\n",
            "INFO:cmdstanpy:Chain [1] start processing\n",
            "18:10:28 - cmdstanpy - INFO - Chain [1] done processing\n",
            "INFO:cmdstanpy:Chain [1] done processing\n"
          ]
        },
        {
          "output_type": "stream",
          "name": "stdout",
          "text": [
            "Changepoint Prior Scale: 0.1, Seasonality Prior Scale: 0.1, MAE: 2769.7529558028723\n"
          ]
        },
        {
          "output_type": "stream",
          "name": "stderr",
          "text": [
            "DEBUG:cmdstanpy:input tempfile: /tmp/tmplo5qlly9/bn7ln6fz.json\n",
            "DEBUG:cmdstanpy:input tempfile: /tmp/tmplo5qlly9/o_uu1njs.json\n",
            "DEBUG:cmdstanpy:idx 0\n",
            "DEBUG:cmdstanpy:running CmdStan, num_threads: None\n",
            "DEBUG:cmdstanpy:CmdStan args: ['/usr/local/lib/python3.10/dist-packages/prophet/stan_model/prophet_model.bin', 'random', 'seed=95290', 'data', 'file=/tmp/tmplo5qlly9/bn7ln6fz.json', 'init=/tmp/tmplo5qlly9/o_uu1njs.json', 'output', 'file=/tmp/tmplo5qlly9/prophet_modely6xmstg7/prophet_model-20240805181028.csv', 'method=optimize', 'algorithm=lbfgs', 'iter=10000']\n",
            "18:10:28 - cmdstanpy - INFO - Chain [1] start processing\n",
            "INFO:cmdstanpy:Chain [1] start processing\n"
          ]
        },
        {
          "output_type": "stream",
          "name": "stdout",
          "text": [
            "Changepoint Prior Scale: 0.1, Seasonality Prior Scale: 1.0, MAE: 2769.7529558028723\n"
          ]
        },
        {
          "output_type": "stream",
          "name": "stderr",
          "text": [
            "18:10:28 - cmdstanpy - INFO - Chain [1] done processing\n",
            "INFO:cmdstanpy:Chain [1] done processing\n",
            "DEBUG:cmdstanpy:input tempfile: /tmp/tmplo5qlly9/9_flt6im.json\n",
            "DEBUG:cmdstanpy:input tempfile: /tmp/tmplo5qlly9/ryxd98t5.json\n",
            "DEBUG:cmdstanpy:idx 0\n",
            "DEBUG:cmdstanpy:running CmdStan, num_threads: None\n",
            "DEBUG:cmdstanpy:CmdStan args: ['/usr/local/lib/python3.10/dist-packages/prophet/stan_model/prophet_model.bin', 'random', 'seed=17091', 'data', 'file=/tmp/tmplo5qlly9/9_flt6im.json', 'init=/tmp/tmplo5qlly9/ryxd98t5.json', 'output', 'file=/tmp/tmplo5qlly9/prophet_modelj79_z7il/prophet_model-20240805181028.csv', 'method=optimize', 'algorithm=lbfgs', 'iter=10000']\n",
            "18:10:28 - cmdstanpy - INFO - Chain [1] start processing\n",
            "INFO:cmdstanpy:Chain [1] start processing\n"
          ]
        },
        {
          "output_type": "stream",
          "name": "stdout",
          "text": [
            "Changepoint Prior Scale: 1.0, Seasonality Prior Scale: 1e-05, MAE: 2976.258287672516\n"
          ]
        },
        {
          "output_type": "stream",
          "name": "stderr",
          "text": [
            "18:10:29 - cmdstanpy - INFO - Chain [1] done processing\n",
            "INFO:cmdstanpy:Chain [1] done processing\n",
            "DEBUG:cmdstanpy:input tempfile: /tmp/tmplo5qlly9/8po9c1l5.json\n",
            "DEBUG:cmdstanpy:input tempfile: /tmp/tmplo5qlly9/_lvg5ejd.json\n",
            "DEBUG:cmdstanpy:idx 0\n",
            "DEBUG:cmdstanpy:running CmdStan, num_threads: None\n",
            "DEBUG:cmdstanpy:CmdStan args: ['/usr/local/lib/python3.10/dist-packages/prophet/stan_model/prophet_model.bin', 'random', 'seed=98616', 'data', 'file=/tmp/tmplo5qlly9/8po9c1l5.json', 'init=/tmp/tmplo5qlly9/_lvg5ejd.json', 'output', 'file=/tmp/tmplo5qlly9/prophet_modelu7fjrtw7/prophet_model-20240805181029.csv', 'method=optimize', 'algorithm=lbfgs', 'iter=10000']\n",
            "18:10:29 - cmdstanpy - INFO - Chain [1] start processing\n",
            "INFO:cmdstanpy:Chain [1] start processing\n"
          ]
        },
        {
          "output_type": "stream",
          "name": "stdout",
          "text": [
            "Changepoint Prior Scale: 1.0, Seasonality Prior Scale: 5e-05, MAE: 2976.258287672516\n"
          ]
        },
        {
          "output_type": "stream",
          "name": "stderr",
          "text": [
            "18:10:29 - cmdstanpy - INFO - Chain [1] done processing\n",
            "INFO:cmdstanpy:Chain [1] done processing\n",
            "DEBUG:cmdstanpy:input tempfile: /tmp/tmplo5qlly9/po2il0fz.json\n",
            "DEBUG:cmdstanpy:input tempfile: /tmp/tmplo5qlly9/eup_uejt.json\n",
            "DEBUG:cmdstanpy:idx 0\n",
            "DEBUG:cmdstanpy:running CmdStan, num_threads: None\n",
            "DEBUG:cmdstanpy:CmdStan args: ['/usr/local/lib/python3.10/dist-packages/prophet/stan_model/prophet_model.bin', 'random', 'seed=7815', 'data', 'file=/tmp/tmplo5qlly9/po2il0fz.json', 'init=/tmp/tmplo5qlly9/eup_uejt.json', 'output', 'file=/tmp/tmplo5qlly9/prophet_modelrvcod1pz/prophet_model-20240805181029.csv', 'method=optimize', 'algorithm=lbfgs', 'iter=10000']\n",
            "18:10:29 - cmdstanpy - INFO - Chain [1] start processing\n",
            "INFO:cmdstanpy:Chain [1] start processing\n"
          ]
        },
        {
          "output_type": "stream",
          "name": "stdout",
          "text": [
            "Changepoint Prior Scale: 1.0, Seasonality Prior Scale: 0.001, MAE: 2976.258287672516\n"
          ]
        },
        {
          "output_type": "stream",
          "name": "stderr",
          "text": [
            "18:10:29 - cmdstanpy - INFO - Chain [1] done processing\n",
            "INFO:cmdstanpy:Chain [1] done processing\n",
            "DEBUG:cmdstanpy:input tempfile: /tmp/tmplo5qlly9/7mq9in0i.json\n",
            "DEBUG:cmdstanpy:input tempfile: /tmp/tmplo5qlly9/gnqfvmih.json\n",
            "DEBUG:cmdstanpy:idx 0\n",
            "DEBUG:cmdstanpy:running CmdStan, num_threads: None\n",
            "DEBUG:cmdstanpy:CmdStan args: ['/usr/local/lib/python3.10/dist-packages/prophet/stan_model/prophet_model.bin', 'random', 'seed=18819', 'data', 'file=/tmp/tmplo5qlly9/7mq9in0i.json', 'init=/tmp/tmplo5qlly9/gnqfvmih.json', 'output', 'file=/tmp/tmplo5qlly9/prophet_modeluziem732/prophet_model-20240805181029.csv', 'method=optimize', 'algorithm=lbfgs', 'iter=10000']\n",
            "18:10:29 - cmdstanpy - INFO - Chain [1] start processing\n",
            "INFO:cmdstanpy:Chain [1] start processing\n"
          ]
        },
        {
          "output_type": "stream",
          "name": "stdout",
          "text": [
            "Changepoint Prior Scale: 1.0, Seasonality Prior Scale: 0.01, MAE: 2976.258287672516\n"
          ]
        },
        {
          "output_type": "stream",
          "name": "stderr",
          "text": [
            "18:10:30 - cmdstanpy - INFO - Chain [1] done processing\n",
            "INFO:cmdstanpy:Chain [1] done processing\n",
            "DEBUG:cmdstanpy:input tempfile: /tmp/tmplo5qlly9/s12di4rl.json\n",
            "DEBUG:cmdstanpy:input tempfile: /tmp/tmplo5qlly9/iyui7erk.json\n",
            "DEBUG:cmdstanpy:idx 0\n",
            "DEBUG:cmdstanpy:running CmdStan, num_threads: None\n",
            "DEBUG:cmdstanpy:CmdStan args: ['/usr/local/lib/python3.10/dist-packages/prophet/stan_model/prophet_model.bin', 'random', 'seed=61215', 'data', 'file=/tmp/tmplo5qlly9/s12di4rl.json', 'init=/tmp/tmplo5qlly9/iyui7erk.json', 'output', 'file=/tmp/tmplo5qlly9/prophet_modelc86i2azr/prophet_model-20240805181030.csv', 'method=optimize', 'algorithm=lbfgs', 'iter=10000']\n",
            "18:10:30 - cmdstanpy - INFO - Chain [1] start processing\n",
            "INFO:cmdstanpy:Chain [1] start processing\n"
          ]
        },
        {
          "output_type": "stream",
          "name": "stdout",
          "text": [
            "Changepoint Prior Scale: 1.0, Seasonality Prior Scale: 0.1, MAE: 2976.258287672516\n"
          ]
        },
        {
          "output_type": "stream",
          "name": "stderr",
          "text": [
            "18:10:30 - cmdstanpy - INFO - Chain [1] done processing\n",
            "INFO:cmdstanpy:Chain [1] done processing\n"
          ]
        },
        {
          "output_type": "stream",
          "name": "stdout",
          "text": [
            "Changepoint Prior Scale: 1.0, Seasonality Prior Scale: 1.0, MAE: 2976.258287672516\n"
          ]
        }
      ]
    },
    {
      "cell_type": "code",
      "source": [
        "# Find the best parameters\n",
        "best_params = min(results, key=lambda x: x[2])\n",
        "print(f\"Best parameters: Changepoint Prior Scale: {best_params[0]}, Seasonality Prior Scale: {best_params[1]}, MAE: {best_params[2]}\")"
      ],
      "metadata": {
        "colab": {
          "base_uri": "https://localhost:8080/"
        },
        "id": "oxuWrrdBYGPF",
        "outputId": "640876c0-052b-4ca9-b541-d8511d2d5e01"
      },
      "execution_count": 70,
      "outputs": [
        {
          "output_type": "stream",
          "name": "stdout",
          "text": [
            "Best parameters: Changepoint Prior Scale: 0.1, Seasonality Prior Scale: 1e-05, MAE: 2769.7529558028723\n"
          ]
        }
      ]
    },
    {
      "cell_type": "code",
      "source": [
        "# Best hyperparameters from grid search\n",
        "best_changepoint_prior_scale = best_params[0]\n",
        "best_seasonality_prior_scale = best_params[1]\n",
        "\n",
        "# Initialize and fit the final model\n",
        "final_model = Prophet(\n",
        "    changepoint_prior_scale=best_changepoint_prior_scale,\n",
        "    seasonality_prior_scale=best_seasonality_prior_scale,\n",
        "    daily_seasonality=False,\n",
        "    weekly_seasonality=False,\n",
        "    yearly_seasonality=False\n",
        ")\n",
        "\n",
        "final_model.fit(train_df)\n",
        "\n",
        "# Make final predictions\n",
        "future = test_df[['ds']]\n",
        "prophet_forecast = final_model.predict(future)\n",
        "\n"
      ],
      "metadata": {
        "colab": {
          "base_uri": "https://localhost:8080/"
        },
        "id": "tLHd8dOTBii8",
        "outputId": "ab2c7480-12b5-4ee1-bcda-699a1b2c52ec"
      },
      "execution_count": 71,
      "outputs": [
        {
          "output_type": "stream",
          "name": "stderr",
          "text": [
            "DEBUG:cmdstanpy:input tempfile: /tmp/tmplo5qlly9/ohnidv4x.json\n",
            "DEBUG:cmdstanpy:input tempfile: /tmp/tmplo5qlly9/t9nb620i.json\n",
            "DEBUG:cmdstanpy:idx 0\n",
            "DEBUG:cmdstanpy:running CmdStan, num_threads: None\n",
            "DEBUG:cmdstanpy:CmdStan args: ['/usr/local/lib/python3.10/dist-packages/prophet/stan_model/prophet_model.bin', 'random', 'seed=22807', 'data', 'file=/tmp/tmplo5qlly9/ohnidv4x.json', 'init=/tmp/tmplo5qlly9/t9nb620i.json', 'output', 'file=/tmp/tmplo5qlly9/prophet_modelk5hyhjoc/prophet_model-20240805181030.csv', 'method=optimize', 'algorithm=lbfgs', 'iter=10000']\n",
            "18:10:30 - cmdstanpy - INFO - Chain [1] start processing\n",
            "INFO:cmdstanpy:Chain [1] start processing\n",
            "18:10:30 - cmdstanpy - INFO - Chain [1] done processing\n",
            "INFO:cmdstanpy:Chain [1] done processing\n"
          ]
        }
      ]
    },
    {
      "cell_type": "code",
      "source": [
        "# Plot the forecast\n",
        "import matplotlib.pyplot as plt\n",
        "\n",
        "fig = final_model.plot(prophet_forecast)\n",
        "plt.show()\n"
      ],
      "metadata": {
        "colab": {
          "base_uri": "https://localhost:8080/",
          "height": 606
        },
        "id": "zgz3kKs0X-pq",
        "outputId": "33e3a8f6-7d4a-45e9-807a-008aa4d536a7"
      },
      "execution_count": 72,
      "outputs": [
        {
          "output_type": "display_data",
          "data": {
            "text/plain": [
              "<Figure size 1000x600 with 1 Axes>"
            ],
            "image/png": "[encoded data removed]"
          },
          "metadata": {}
        }
      ]
    },
    {
      "cell_type": "code",
      "source": [
        "# Extract actual and predicted values\n",
        "y_true = test_df['y']\n",
        "y_pred = prophet_forecast['yhat']\n",
        "\n",
        "# Mean Error (ME)\n",
        "p_mean_error = np.mean(y_pred - y_true)\n",
        "\n",
        "# Mean Absolute Error (MAE)\n",
        "p_mae = mean_absolute_error(y_true, y_pred)\n",
        "\n",
        "# Root Mean Squared Error (RMSE)\n",
        "p_rmse = np.sqrt(mean_squared_error(y_true, y_pred))\n",
        "\n",
        "# R-squared (R^2)\n",
        "p_r_squared = r2_score(y_true, y_pred)\n",
        "\n",
        "# Print metrics\n",
        "print(f\"Mean Absolute Error (MAE): {p_mae:.2f}\")\n",
        "print(f\"Root Mean Squared Error (RMSE): {p_rmse:.2f}\")\n",
        "print(f\"R-squared (R^2): {p_r_squared:.2f}\")\n"
      ],
      "metadata": {
        "colab": {
          "base_uri": "https://localhost:8080/"
        },
        "id": "A4BqDdngYXYY",
        "outputId": "20395b4b-d6f2-421a-cde4-274dd0be8e29"
      },
      "execution_count": 74,
      "outputs": [
        {
          "output_type": "stream",
          "name": "stdout",
          "text": [
            "Mean Absolute Error (MAE): 2769.75\n",
            "Root Mean Squared Error (RMSE): 4542.43\n",
            "R-squared (R^2): -1.00\n"
          ]
        }
      ]
    },
    {
      "cell_type": "markdown",
      "source": [
        "## Pre-processing for XGBOOST"
      ],
      "metadata": {
        "id": "eBhdqyfL3EJU"
      }
    },
    {
      "cell_type": "markdown",
      "source": [
        "## Rolling Average\n",
        "### Find previous days average usage of KWH"
      ],
      "metadata": {
        "id": "y8MCdbHnzvad"
      }
    },
    {
      "cell_type": "code",
      "source": [
        "\n",
        "daily_df['rolling_mean_1'] = daily_df['Daily_KWH'].rolling(window=2).mean()\n",
        "daily_df['rolling_mean_7'] = daily_df['Daily_KWH'].rolling(window=5).mean()\n",
        "daily_df['rolling_mean_20'] = daily_df['Daily_KWH'].rolling(window=20).mean()\n",
        "daily_df['rolling_mean_50'] = daily_df['Daily_KWH'].rolling(window=50).mean()"
      ],
      "metadata": {
        "id": "5qBvLwQcxqj0"
      },
      "execution_count": 143,
      "outputs": []
    },
    {
      "cell_type": "markdown",
      "source": [
        "## Lag of previous days"
      ],
      "metadata": {
        "id": "ho1-FwcC2XZs"
      }
    },
    {
      "cell_type": "code",
      "source": [
        "daily_df['lag_1'] = daily_df['Daily_KWH'].shift(1)\n",
        "daily_df['lag_7'] = daily_df['Daily_KWH'].shift(7)\n",
        "daily_df['lag_30'] = daily_df['Daily_KWH'].shift(30)\n",
        "daily_df['lag_50'] = daily_df['Daily_KWH'].shift(50)\n"
      ],
      "metadata": {
        "id": "eX_EplCRx-Wi"
      },
      "execution_count": 144,
      "outputs": []
    },
    {
      "cell_type": "markdown",
      "source": [
        "## Rolling Standard deviation"
      ],
      "metadata": {
        "id": "ZxDgRqBK2dup"
      }
    },
    {
      "cell_type": "code",
      "source": [
        "daily_df['rolling_std_1'] = daily_df['Daily_KWH'].rolling(window=2).std()\n",
        "daily_df['rolling_std_7'] = daily_df['Daily_KWH'].rolling(window=7).std()\n",
        "daily_df['rolling_std_20'] = daily_df['Daily_KWH'].rolling(window=20).std()\n",
        "daily_df['rolling_std_50'] = daily_df['Daily_KWH'].rolling(window=50).std()"
      ],
      "metadata": {
        "id": "3IcQGb5G0Hz_"
      },
      "execution_count": 145,
      "outputs": []
    },
    {
      "cell_type": "markdown",
      "source": [
        "## Holidays in UK"
      ],
      "metadata": {
        "id": "jcv8OhrD2jAD"
      }
    },
    {
      "cell_type": "code",
      "source": [
        "import holidays\n",
        "\n",
        "uk_holidays = holidays.UnitedKingdom()\n",
        "\n",
        "daily_df['is_holiday'] = daily_df['DateTime'].apply(lambda x: 1 if x in uk_holidays else 0)\n"
      ],
      "metadata": {
        "id": "yFGXyDyV17P7"
      },
      "execution_count": 146,
      "outputs": []
    },
    {
      "cell_type": "code",
      "source": [
        "!pip install meteostat\n"
      ],
      "metadata": {
        "colab": {
          "base_uri": "https://localhost:8080/"
        },
        "id": "4fqX_TEx7mgt",
        "outputId": "f071f875-485c-4de8-d6a5-307cde542b89"
      },
      "execution_count": 137,
      "outputs": [
        {
          "output_type": "stream",
          "name": "stdout",
          "text": [
            "Collecting meteostat\n",
            "  Downloading meteostat-1.6.8-py3-none-any.whl.metadata (4.6 kB)\n",
            "Requirement already satisfied: pandas>=1.1 in /usr/local/lib/python3.10/dist-packages (from meteostat) (2.1.4)\n",
            "Requirement already satisfied: pytz in /usr/local/lib/python3.10/dist-packages (from meteostat) (2024.1)\n",
            "Requirement already satisfied: numpy in /usr/local/lib/python3.10/dist-packages (from meteostat) (1.26.4)\n",
            "Requirement already satisfied: python-dateutil>=2.8.2 in /usr/local/lib/python3.10/dist-packages (from pandas>=1.1->meteostat) (2.8.2)\n",
            "Requirement already satisfied: tzdata>=2022.1 in /usr/local/lib/python3.10/dist-packages (from pandas>=1.1->meteostat) (2024.1)\n",
            "Requirement already satisfied: six>=1.5 in /usr/local/lib/python3.10/dist-packages (from python-dateutil>=2.8.2->pandas>=1.1->meteostat) (1.16.0)\n",
            "Downloading meteostat-1.6.8-py3-none-any.whl (31 kB)\n",
            "Installing collected packages: meteostat\n",
            "Successfully installed meteostat-1.6.8\n"
          ]
        }
      ]
    },
    {
      "cell_type": "code",
      "source": [
        "from meteostat import Point, Daily\n",
        "\n",
        "# Assuming 'daily_df' has a 'DateTime' column with dates\n",
        "start_date = pd.to_datetime(daily_df['DateTime']).min()\n",
        "end_date = pd.to_datetime(daily_df['DateTime']).max()\n",
        "\n",
        "# London coordinates (replace with actual location if needed)\n",
        "london = Point(51.5072, -0.1276)\n",
        "\n",
        "# Get daily weather data\n",
        "data = Daily(london, start_date, end_date)\n",
        "data = data.fetch()\n",
        "\n",
        "# Merge weather data with daily_df\n",
        "daily_df = daily_df.merge(data, left_on='DateTime', right_index=True, how='left')\n"
      ],
      "metadata": {
        "id": "nEW8jIiI7cH2"
      },
      "execution_count": 141,
      "outputs": []
    },
    {
      "cell_type": "code",
      "source": [
        "daily_df"
      ],
      "metadata": {
        "colab": {
          "base_uri": "https://localhost:8080/",
          "height": 424
        },
        "id": "fThl7UXk8E8t",
        "outputId": "52242933-e191-4c6c-9acb-1422eb850170"
      },
      "execution_count": 142,
      "outputs": [
        {
          "output_type": "execute_result",
          "data": {
            "text/plain": [
              "      DateTime     Daily_KWH stdorToU      LCLid  tavg  tmin  tmax  prcp  \\\n",
              "0   2011-11-23     81.730000      Std  MAC000145   8.1   4.0  11.0   0.0   \n",
              "1   2011-11-24    188.965000      Std  MAC000145  11.2  10.0  13.0   0.3   \n",
              "2   2011-11-25    262.675000      Std  MAC000145  11.5   8.0  13.0   0.3   \n",
              "3   2011-11-26    374.719000      Std  MAC000145  10.8   8.0  13.0   0.0   \n",
              "4   2011-11-27    398.002001      Std  MAC000145  11.7   6.0  14.0   0.0   \n",
              "..         ...           ...      ...        ...   ...   ...   ...   ...   \n",
              "824 2014-02-24  24573.627003      Std  MAC000002  11.3   9.0  14.0   0.0   \n",
              "825 2014-02-25  24224.568005      Std  MAC000002   9.8   8.0  12.0   3.3   \n",
              "826 2014-02-26  23938.275998      Std  MAC000002   8.4   6.0  12.0   2.5   \n",
              "827 2014-02-27  24309.677000      Std  MAC000002   8.4   5.0  11.0   1.8   \n",
              "828 2014-02-28    911.286001      Std  MAC000002   5.6   4.0   7.0   3.3   \n",
              "\n",
              "     snow   wdir  wspd  wpgt    pres  tsun  \n",
              "0     NaN  238.0   7.8   NaN  1027.2   NaN  \n",
              "1     NaN  208.0  14.4   NaN  1027.0   NaN  \n",
              "2     NaN  238.0  20.5   NaN  1024.4   NaN  \n",
              "3     NaN  238.0  22.3   NaN  1025.6   NaN  \n",
              "4     NaN  252.0  23.8   NaN  1021.1   NaN  \n",
              "..    ...    ...   ...   ...     ...   ...  \n",
              "824   NaN  178.0  19.3   NaN  1004.9   NaN  \n",
              "825   NaN  203.0  20.9   NaN  1000.3   NaN  \n",
              "826   NaN  230.0  15.1   NaN  1012.6   NaN  \n",
              "827   NaN  224.0  20.1   NaN  1006.8   NaN  \n",
              "828   NaN   58.0  16.1   NaN   999.0   NaN  \n",
              "\n",
              "[829 rows x 14 columns]"
            ],
            "text/html": [
              "\n",
              "  <div id=\"df-6d5135cb-146d-48cf-89fc-4111537fd03e\" class=\"colab-df-container\">\n",
              "    <div>\n",
              "<style scoped>\n",
              "    .dataframe tbody tr th:only-of-type {\n",
              "        vertical-align: middle;\n",
              "    }\n",
              "\n",
              "    .dataframe tbody tr th {\n",
              "        vertical-align: top;\n",
              "    }\n",
              "\n",
              "    .dataframe thead th {\n",
              "        text-align: right;\n",
              "    }\n",
              "</style>\n",
              "<table border=\"1\" class=\"dataframe\">\n",
              "  <thead>\n",
              "    <tr style=\"text-align: right;\">\n",
              "      <th></th>\n",
              "      <th>DateTime</th>\n",
              "      <th>Daily_KWH</th>\n",
              "      <th>stdorToU</th>\n",
              "      <th>LCLid</th>\n",
              "      <th>tavg</th>\n",
              "      <th>tmin</th>\n",
              "      <th>tmax</th>\n",
              "      <th>prcp</th>\n",
              "      <th>snow</th>\n",
              "      <th>wdir</th>\n",
              "      <th>wspd</th>\n",
              "      <th>wpgt</th>\n",
              "      <th>pres</th>\n",
              "      <th>tsun</th>\n",
              "    </tr>\n",
              "  </thead>\n",
              "  <tbody>\n",
              "    <tr>\n",
              "      <th>0</th>\n",
              "      <td>2011-11-23</td>\n",
              "      <td>81.730000</td>\n",
              "      <td>Std</td>\n",
              "      <td>MAC000145</td>\n",
              "      <td>8.1</td>\n",
              "      <td>4.0</td>\n",
              "      <td>11.0</td>\n",
              "      <td>0.0</td>\n",
              "      <td>NaN</td>\n",
              "      <td>238.0</td>\n",
              "      <td>7.8</td>\n",
              "      <td>NaN</td>\n",
              "      <td>1027.2</td>\n",
              "      <td>NaN</td>\n",
              "    </tr>\n",
              "    <tr>\n",
              "      <th>1</th>\n",
              "      <td>2011-11-24</td>\n",
              "      <td>188.965000</td>\n",
              "      <td>Std</td>\n",
              "      <td>MAC000145</td>\n",
              "      <td>11.2</td>\n",
              "      <td>10.0</td>\n",
              "      <td>13.0</td>\n",
              "      <td>0.3</td>\n",
              "      <td>NaN</td>\n",
              "      <td>208.0</td>\n",
              "      <td>14.4</td>\n",
              "      <td>NaN</td>\n",
              "      <td>1027.0</td>\n",
              "      <td>NaN</td>\n",
              "    </tr>\n",
              "    <tr>\n",
              "      <th>2</th>\n",
              "      <td>2011-11-25</td>\n",
              "      <td>262.675000</td>\n",
              "      <td>Std</td>\n",
              "      <td>MAC000145</td>\n",
              "      <td>11.5</td>\n",
              "      <td>8.0</td>\n",
              "      <td>13.0</td>\n",
              "      <td>0.3</td>\n",
              "      <td>NaN</td>\n",
              "      <td>238.0</td>\n",
              "      <td>20.5</td>\n",
              "      <td>NaN</td>\n",
              "      <td>1024.4</td>\n",
              "      <td>NaN</td>\n",
              "    </tr>\n",
              "    <tr>\n",
              "      <th>3</th>\n",
              "      <td>2011-11-26</td>\n",
              "      <td>374.719000</td>\n",
              "      <td>Std</td>\n",
              "      <td>MAC000145</td>\n",
              "      <td>10.8</td>\n",
              "      <td>8.0</td>\n",
              "      <td>13.0</td>\n",
              "      <td>0.0</td>\n",
              "      <td>NaN</td>\n",
              "      <td>238.0</td>\n",
              "      <td>22.3</td>\n",
              "      <td>NaN</td>\n",
              "      <td>1025.6</td>\n",
              "      <td>NaN</td>\n",
              "    </tr>\n",
              "    <tr>\n",
              "      <th>4</th>\n",
              "      <td>2011-11-27</td>\n",
              "      <td>398.002001</td>\n",
              "      <td>Std</td>\n",
              "      <td>MAC000145</td>\n",
              "      <td>11.7</td>\n",
              "      <td>6.0</td>\n",
              "      <td>14.0</td>\n",
              "      <td>0.0</td>\n",
              "      <td>NaN</td>\n",
              "      <td>252.0</td>\n",
              "      <td>23.8</td>\n",
              "      <td>NaN</td>\n",
              "      <td>1021.1</td>\n",
              "      <td>NaN</td>\n",
              "    </tr>\n",
              "    <tr>\n",
              "      <th>...</th>\n",
              "      <td>...</td>\n",
              "      <td>...</td>\n",
              "      <td>...</td>\n",
              "      <td>...</td>\n",
              "      <td>...</td>\n",
              "      <td>...</td>\n",
              "      <td>...</td>\n",
              "      <td>...</td>\n",
              "      <td>...</td>\n",
              "      <td>...</td>\n",
              "      <td>...</td>\n",
              "      <td>...</td>\n",
              "      <td>...</td>\n",
              "      <td>...</td>\n",
              "    </tr>\n",
              "    <tr>\n",
              "      <th>824</th>\n",
              "      <td>2014-02-24</td>\n",
              "      <td>24573.627003</td>\n",
              "      <td>Std</td>\n",
              "      <td>MAC000002</td>\n",
              "      <td>11.3</td>\n",
              "      <td>9.0</td>\n",
              "      <td>14.0</td>\n",
              "      <td>0.0</td>\n",
              "      <td>NaN</td>\n",
              "      <td>178.0</td>\n",
              "      <td>19.3</td>\n",
              "      <td>NaN</td>\n",
              "      <td>1004.9</td>\n",
              "      <td>NaN</td>\n",
              "    </tr>\n",
              "    <tr>\n",
              "      <th>825</th>\n",
              "      <td>2014-02-25</td>\n",
              "      <td>24224.568005</td>\n",
              "      <td>Std</td>\n",
              "      <td>MAC000002</td>\n",
              "      <td>9.8</td>\n",
              "      <td>8.0</td>\n",
              "      <td>12.0</td>\n",
              "      <td>3.3</td>\n",
              "      <td>NaN</td>\n",
              "      <td>203.0</td>\n",
              "      <td>20.9</td>\n",
              "      <td>NaN</td>\n",
              "      <td>1000.3</td>\n",
              "      <td>NaN</td>\n",
              "    </tr>\n",
              "    <tr>\n",
              "      <th>826</th>\n",
              "      <td>2014-02-26</td>\n",
              "      <td>23938.275998</td>\n",
              "      <td>Std</td>\n",
              "      <td>MAC000002</td>\n",
              "      <td>8.4</td>\n",
              "      <td>6.0</td>\n",
              "      <td>12.0</td>\n",
              "      <td>2.5</td>\n",
              "      <td>NaN</td>\n",
              "      <td>230.0</td>\n",
              "      <td>15.1</td>\n",
              "      <td>NaN</td>\n",
              "      <td>1012.6</td>\n",
              "      <td>NaN</td>\n",
              "    </tr>\n",
              "    <tr>\n",
              "      <th>827</th>\n",
              "      <td>2014-02-27</td>\n",
              "      <td>24309.677000</td>\n",
              "      <td>Std</td>\n",
              "      <td>MAC000002</td>\n",
              "      <td>8.4</td>\n",
              "      <td>5.0</td>\n",
              "      <td>11.0</td>\n",
              "      <td>1.8</td>\n",
              "      <td>NaN</td>\n",
              "      <td>224.0</td>\n",
              "      <td>20.1</td>\n",
              "      <td>NaN</td>\n",
              "      <td>1006.8</td>\n",
              "      <td>NaN</td>\n",
              "    </tr>\n",
              "    <tr>\n",
              "      <th>828</th>\n",
              "      <td>2014-02-28</td>\n",
              "      <td>911.286001</td>\n",
              "      <td>Std</td>\n",
              "      <td>MAC000002</td>\n",
              "      <td>5.6</td>\n",
              "      <td>4.0</td>\n",
              "      <td>7.0</td>\n",
              "      <td>3.3</td>\n",
              "      <td>NaN</td>\n",
              "      <td>58.0</td>\n",
              "      <td>16.1</td>\n",
              "      <td>NaN</td>\n",
              "      <td>999.0</td>\n",
              "      <td>NaN</td>\n",
              "    </tr>\n",
              "  </tbody>\n",
              "</table>\n",
              "<p>829 rows × 14 columns</p>\n",
              "</div>\n",
              "    <div class=\"colab-df-buttons\">\n",
              "\n",
              "  <div class=\"colab-df-container\">\n",
              "    <button class=\"colab-df-convert\" onclick=\"convertToInteractive('df-6d5135cb-146d-48cf-89fc-4111537fd03e')\"\n",
              "            title=\"Convert this dataframe to an interactive table.\"\n",
              "            style=\"display:none;\">\n",
              "\n",
              "  <svg xmlns=\"http://www.w3.org/2000/svg\" height=\"24px\" viewBox=\"0 -960 960 960\">\n",
              "    <path d=\"M120-120v-720h720v720H120Zm60-500h600v-160H180v160Zm220 220h160v-160H400v160Zm0 220h160v-160H400v160ZM180-400h160v-160H180v160Zm440 0h160v-160H620v160ZM180-180h160v-160H180v160Zm440 0h160v-160H620v160Z\"/>\n",
              "  </svg>\n",
              "    </button>\n",
              "\n",
              "  <style>\n",
              "    .colab-df-container {\n",
              "      display:flex;\n",
              "      gap: 12px;\n",
              "    }\n",
              "\n",
              "    .colab-df-convert {\n",
              "      background-color: #E8F0FE;\n",
              "      border: none;\n",
              "      border-radius: 50%;\n",
              "      cursor: pointer;\n",
              "      display: none;\n",
              "      fill: #1967D2;\n",
              "      height: 32px;\n",
              "      padding: 0 0 0 0;\n",
              "      width: 32px;\n",
              "    }\n",
              "\n",
              "    .colab-df-convert:hover {\n",
              "      background-color: #E2EBFA;\n",
              "      box-shadow: 0px 1px 2px rgba(60, 64, 67, 0.3), 0px 1px 3px 1px rgba(60, 64, 67, 0.15);\n",
              "      fill: #174EA6;\n",
              "    }\n",
              "\n",
              "    .colab-df-buttons div {\n",
              "      margin-bottom: 4px;\n",
              "    }\n",
              "\n",
              "    [theme=dark] .colab-df-convert {\n",
              "      background-color: #3B4455;\n",
              "      fill: #D2E3FC;\n",
              "    }\n",
              "\n",
              "    [theme=dark] .colab-df-convert:hover {\n",
              "      background-color: #434B5C;\n",
              "      box-shadow: 0px 1px 3px 1px rgba(0, 0, 0, 0.15);\n",
              "      filter: drop-shadow(0px 1px 2px rgba(0, 0, 0, 0.3));\n",
              "      fill: #FFFFFF;\n",
              "    }\n",
              "  </style>\n",
              "\n",
              "    <script>\n",
              "      const buttonEl =\n",
              "        document.querySelector('#df-6d5135cb-146d-48cf-89fc-4111537fd03e button.colab-df-convert');\n",
              "      buttonEl.style.display =\n",
              "        google.colab.kernel.accessAllowed ? 'block' : 'none';\n",
              "\n",
              "      async function convertToInteractive(key) {\n",
              "        const element = document.querySelector('#df-6d5135cb-146d-48cf-89fc-4111537fd03e');\n",
              "        const dataTable =\n",
              "          await google.colab.kernel.invokeFunction('convertToInteractive',\n",
              "                                                    [key], {});\n",
              "        if (!dataTable) return;\n",
              "\n",
              "        const docLinkHtml = 'Like what you see? Visit the ' +\n",
              "          '<a target=\"_blank\" href=https://colab.research.google.com/notebooks/data_table.ipynb>data table notebook</a>'\n",
              "          + ' to learn more about interactive tables.';\n",
              "        element.innerHTML = '';\n",
              "        dataTable['output_type'] = 'display_data';\n",
              "        await google.colab.output.renderOutput(dataTable, element);\n",
              "        const docLink = document.createElement('div');\n",
              "        docLink.innerHTML = docLinkHtml;\n",
              "        element.appendChild(docLink);\n",
              "      }\n",
              "    </script>\n",
              "  </div>\n",
              "\n",
              "\n",
              "<div id=\"df-1ff5459c-7b0d-422a-9efe-e3351bf20bc5\">\n",
              "  <button class=\"colab-df-quickchart\" onclick=\"quickchart('df-1ff5459c-7b0d-422a-9efe-e3351bf20bc5')\"\n",
              "            title=\"Suggest charts\"\n",
              "            style=\"display:none;\">\n",
              "\n",
              "<svg xmlns=\"http://www.w3.org/2000/svg\" height=\"24px\"viewBox=\"0 0 24 24\"\n",
              "     width=\"24px\">\n",
              "    <g>\n",
              "        <path d=\"M19 3H5c-1.1 0-2 .9-2 2v14c0 1.1.9 2 2 2h14c1.1 0 2-.9 2-2V5c0-1.1-.9-2-2-2zM9 17H7v-7h2v7zm4 0h-2V7h2v10zm4 0h-2v-4h2v4z\"/>\n",
              "    </g>\n",
              "</svg>\n",
              "  </button>\n",
              "\n",
              "<style>\n",
              "  .colab-df-quickchart {\n",
              "      --bg-color: #E8F0FE;\n",
              "      --fill-color: #1967D2;\n",
              "      --hover-bg-color: #E2EBFA;\n",
              "      --hover-fill-color: #174EA6;\n",
              "      --disabled-fill-color: #AAA;\n",
              "      --disabled-bg-color: #DDD;\n",
              "  }\n",
              "\n",
              "  [theme=dark] .colab-df-quickchart {\n",
              "      --bg-color: #3B4455;\n",
              "      --fill-color: #D2E3FC;\n",
              "      --hover-bg-color: #434B5C;\n",
              "      --hover-fill-color: #FFFFFF;\n",
              "      --disabled-bg-color: #3B4455;\n",
              "      --disabled-fill-color: #666;\n",
              "  }\n",
              "\n",
              "  .colab-df-quickchart {\n",
              "    background-color: var(--bg-color);\n",
              "    border: none;\n",
              "    border-radius: 50%;\n",
              "    cursor: pointer;\n",
              "    display: none;\n",
              "    fill: var(--fill-color);\n",
              "    height: 32px;\n",
              "    padding: 0;\n",
              "    width: 32px;\n",
              "  }\n",
              "\n",
              "  .colab-df-quickchart:hover {\n",
              "    background-color: var(--hover-bg-color);\n",
              "    box-shadow: 0 1px 2px rgba(60, 64, 67, 0.3), 0 1px 3px 1px rgba(60, 64, 67, 0.15);\n",
              "    fill: var(--button-hover-fill-color);\n",
              "  }\n",
              "\n",
              "  .colab-df-quickchart-complete:disabled,\n",
              "  .colab-df-quickchart-complete:disabled:hover {\n",
              "    background-color: var(--disabled-bg-color);\n",
              "    fill: var(--disabled-fill-color);\n",
              "    box-shadow: none;\n",
              "  }\n",
              "\n",
              "  .colab-df-spinner {\n",
              "    border: 2px solid var(--fill-color);\n",
              "    border-color: transparent;\n",
              "    border-bottom-color: var(--fill-color);\n",
              "    animation:\n",
              "      spin 1s steps(1) infinite;\n",
              "  }\n",
              "\n",
              "  @keyframes spin {\n",
              "    0% {\n",
              "      border-color: transparent;\n",
              "      border-bottom-color: var(--fill-color);\n",
              "      border-left-color: var(--fill-color);\n",
              "    }\n",
              "    20% {\n",
              "      border-color: transparent;\n",
              "      border-left-color: var(--fill-color);\n",
              "      border-top-color: var(--fill-color);\n",
              "    }\n",
              "    30% {\n",
              "      border-color: transparent;\n",
              "      border-left-color: var(--fill-color);\n",
              "      border-top-color: var(--fill-color);\n",
              "      border-right-color: var(--fill-color);\n",
              "    }\n",
              "    40% {\n",
              "      border-color: transparent;\n",
              "      border-right-color: var(--fill-color);\n",
              "      border-top-color: var(--fill-color);\n",
              "    }\n",
              "    60% {\n",
              "      border-color: transparent;\n",
              "      border-right-color: var(--fill-color);\n",
              "    }\n",
              "    80% {\n",
              "      border-color: transparent;\n",
              "      border-right-color: var(--fill-color);\n",
              "      border-bottom-color: var(--fill-color);\n",
              "    }\n",
              "    90% {\n",
              "      border-color: transparent;\n",
              "      border-bottom-color: var(--fill-color);\n",
              "    }\n",
              "  }\n",
              "</style>\n",
              "\n",
              "  <script>\n",
              "    async function quickchart(key) {\n",
              "      const quickchartButtonEl =\n",
              "        document.querySelector('#' + key + ' button');\n",
              "      quickchartButtonEl.disabled = true;  // To prevent multiple clicks.\n",
              "      quickchartButtonEl.classList.add('colab-df-spinner');\n",
              "      try {\n",
              "        const charts = await google.colab.kernel.invokeFunction(\n",
              "            'suggestCharts', [key], {});\n",
              "      } catch (error) {\n",
              "        console.error('Error during call to suggestCharts:', error);\n",
              "      }\n",
              "      quickchartButtonEl.classList.remove('colab-df-spinner');\n",
              "      quickchartButtonEl.classList.add('colab-df-quickchart-complete');\n",
              "    }\n",
              "    (() => {\n",
              "      let quickchartButtonEl =\n",
              "        document.querySelector('#df-1ff5459c-7b0d-422a-9efe-e3351bf20bc5 button');\n",
              "      quickchartButtonEl.style.display =\n",
              "        google.colab.kernel.accessAllowed ? 'block' : 'none';\n",
              "    })();\n",
              "  </script>\n",
              "</div>\n",
              "\n",
              "  <div id=\"id_a8063926-b103-459a-bd3a-5953800c60c8\">\n",
              "    <style>\n",
              "      .colab-df-generate {\n",
              "        background-color: #E8F0FE;\n",
              "        border: none;\n",
              "        border-radius: 50%;\n",
              "        cursor: pointer;\n",
              "        display: none;\n",
              "        fill: #1967D2;\n",
              "        height: 32px;\n",
              "        padding: 0 0 0 0;\n",
              "        width: 32px;\n",
              "      }\n",
              "\n",
              "      .colab-df-generate:hover {\n",
              "        background-color: #E2EBFA;\n",
              "        box-shadow: 0px 1px 2px rgba(60, 64, 67, 0.3), 0px 1px 3px 1px rgba(60, 64, 67, 0.15);\n",
              "        fill: #174EA6;\n",
              "      }\n",
              "\n",
              "      [theme=dark] .colab-df-generate {\n",
              "        background-color: #3B4455;\n",
              "        fill: #D2E3FC;\n",
              "      }\n",
              "\n",
              "      [theme=dark] .colab-df-generate:hover {\n",
              "        background-color: #434B5C;\n",
              "        box-shadow: 0px 1px 3px 1px rgba(0, 0, 0, 0.15);\n",
              "        filter: drop-shadow(0px 1px 2px rgba(0, 0, 0, 0.3));\n",
              "        fill: #FFFFFF;\n",
              "      }\n",
              "    </style>\n",
              "    <button class=\"colab-df-generate\" onclick=\"generateWithVariable('daily_df')\"\n",
              "            title=\"Generate code using this dataframe.\"\n",
              "            style=\"display:none;\">\n",
              "\n",
              "  <svg xmlns=\"http://www.w3.org/2000/svg\" height=\"24px\"viewBox=\"0 0 24 24\"\n",
              "       width=\"24px\">\n",
              "    <path d=\"M7,19H8.4L18.45,9,17,7.55,7,17.6ZM5,21V16.75L18.45,3.32a2,2,0,0,1,2.83,0l1.4,1.43a1.91,1.91,0,0,1,.58,1.4,1.91,1.91,0,0,1-.58,1.4L9.25,21ZM18.45,9,17,7.55Zm-12,3A5.31,5.31,0,0,0,4.9,8.1,5.31,5.31,0,0,0,1,6.5,5.31,5.31,0,0,0,4.9,4.9,5.31,5.31,0,0,0,6.5,1,5.31,5.31,0,0,0,8.1,4.9,5.31,5.31,0,0,0,12,6.5,5.46,5.46,0,0,0,6.5,12Z\"/>\n",
              "  </svg>\n",
              "    </button>\n",
              "    <script>\n",
              "      (() => {\n",
              "      const buttonEl =\n",
              "        document.querySelector('#id_a8063926-b103-459a-bd3a-5953800c60c8 button.colab-df-generate');\n",
              "      buttonEl.style.display =\n",
              "        google.colab.kernel.accessAllowed ? 'block' : 'none';\n",
              "\n",
              "      buttonEl.onclick = () => {\n",
              "        google.colab.notebook.generateWithVariable('daily_df');\n",
              "      }\n",
              "      })();\n",
              "    </script>\n",
              "  </div>\n",
              "\n",
              "    </div>\n",
              "  </div>\n"
            ],
            "application/vnd.google.colaboratory.intrinsic+json": {
              "type": "dataframe",
              "variable_name": "daily_df",
              "summary": "{\n  \"name\": \"daily_df\",\n  \"rows\": 829,\n  \"fields\": [\n    {\n      \"column\": \"DateTime\",\n      \"properties\": {\n        \"dtype\": \"date\",\n        \"min\": \"2011-11-23 00:00:00\",\n        \"max\": \"2014-02-28 00:00:00\",\n        \"num_unique_values\": 829,\n        \"samples\": [\n          \"2013-07-23 00:00:00\",\n          \"2013-02-22 00:00:00\",\n          \"2012-09-08 00:00:00\"\n        ],\n        \"semantic_type\": \"\",\n        \"description\": \"\"\n      }\n    },\n    {\n      \"column\": \"Daily_KWH\",\n      \"properties\": {\n        \"dtype\": \"number\",\n        \"std\": 9688.428568122632,\n        \"min\": 81.7300001,\n        \"max\": 38446.3519975,\n        \"num_unique_values\": 829,\n        \"samples\": [\n          21056.6129993,\n          32661.5419942,\n          21013.2279964\n        ],\n        \"semantic_type\": \"\",\n        \"description\": \"\"\n      }\n    },\n    {\n      \"column\": \"stdorToU\",\n      \"properties\": {\n        \"dtype\": \"category\",\n        \"num_unique_values\": 1,\n        \"samples\": [\n          \"Std\"\n        ],\n        \"semantic_type\": \"\",\n        \"description\": \"\"\n      }\n    },\n    {\n      \"column\": \"LCLid\",\n      \"properties\": {\n        \"dtype\": \"category\",\n        \"num_unique_values\": 5,\n        \"samples\": [\n          \"MAC000016\"\n        ],\n        \"semantic_type\": \"\",\n        \"description\": \"\"\n      }\n    },\n    {\n      \"column\": \"tavg\",\n      \"properties\": {\n        \"dtype\": \"number\",\n        \"std\": 5.515974239154828,\n        \"min\": -2.3,\n        \"max\": 25.7,\n        \"num_unique_values\": 226,\n        \"samples\": [\n          6.4\n        ],\n        \"semantic_type\": \"\",\n        \"description\": \"\"\n      }\n    },\n    {\n      \"column\": \"tmin\",\n      \"properties\": {\n        \"dtype\": \"number\",\n        \"std\": 5.083020903709664,\n        \"min\": -6.0,\n        \"max\": 21.0,\n        \"num_unique_values\": 36,\n        \"samples\": [\n          1.5\n        ],\n        \"semantic_type\": \"\",\n        \"description\": \"\"\n      }\n    },\n    {\n      \"column\": \"tmax\",\n      \"properties\": {\n        \"dtype\": \"number\",\n        \"std\": 6.3767412410237725,\n        \"min\": 0.0,\n        \"max\": 33.0,\n        \"num_unique_values\": 43,\n        \"samples\": [\n          20.1\n        ],\n        \"semantic_type\": \"\",\n        \"description\": \"\"\n      }\n    },\n    {\n      \"column\": \"prcp\",\n      \"properties\": {\n        \"dtype\": \"number\",\n        \"std\": 3.6594446047818536,\n        \"min\": 0.0,\n        \"max\": 29.7,\n        \"num_unique_values\": 60,\n        \"samples\": [\n          0.0\n        ],\n        \"semantic_type\": \"\",\n        \"description\": \"\"\n      }\n    },\n    {\n      \"column\": \"snow\",\n      \"properties\": {\n        \"dtype\": \"number\",\n        \"std\": 13.972500464511327,\n        \"min\": 20.0,\n        \"max\": 61.0,\n        \"num_unique_values\": 5,\n        \"samples\": [\n          61.0\n        ],\n        \"semantic_type\": \"\",\n        \"description\": \"\"\n      }\n    },\n    {\n      \"column\": \"wdir\",\n      \"properties\": {\n        \"dtype\": \"number\",\n        \"std\": 90.55565055827802,\n        \"min\": 0.0,\n        \"max\": 359.0,\n        \"num_unique_values\": 294,\n        \"samples\": [\n          278.0\n        ],\n        \"semantic_type\": \"\",\n        \"description\": \"\"\n      }\n    },\n    {\n      \"column\": \"wspd\",\n      \"properties\": {\n        \"dtype\": \"number\",\n        \"std\": 5.9347919365903445,\n        \"min\": 2.8,\n        \"max\": 37.0,\n        \"num_unique_values\": 240,\n        \"samples\": [\n          14.5\n        ],\n        \"semantic_type\": \"\",\n        \"description\": \"\"\n      }\n    },\n    {\n      \"column\": \"wpgt\",\n      \"properties\": {\n        \"dtype\": \"number\",\n        \"std\": null,\n        \"min\": null,\n        \"max\": null,\n        \"num_unique_values\": 0,\n        \"samples\": [],\n        \"semantic_type\": \"\",\n        \"description\": \"\"\n      }\n    },\n    {\n      \"column\": \"pres\",\n      \"properties\": {\n        \"dtype\": \"number\",\n        \"std\": 11.211282065423461,\n        \"min\": 978.8,\n        \"max\": 1041.3,\n        \"num_unique_values\": 371,\n        \"samples\": [],\n        \"semantic_type\": \"\",\n        \"description\": \"\"\n      }\n    },\n    {\n      \"column\": \"tsun\",\n      \"properties\": {\n        \"dtype\": \"number\",\n        \"std\": null,\n        \"min\": null,\n        \"max\": null,\n        \"num_unique_values\": 0,\n        \"samples\": [],\n        \"semantic_type\": \"\",\n        \"description\": \"\"\n      }\n    }\n  ]\n}"
            }
          },
          "metadata": {},
          "execution_count": 142
        }
      ]
    },
    {
      "cell_type": "markdown",
      "source": [
        "## Handling Missing Values\n",
        "### Apply backward fill"
      ],
      "metadata": {
        "id": "WaG0asp-2ne8"
      }
    },
    {
      "cell_type": "code",
      "source": [
        "daily_df = daily_df.bfill()\n"
      ],
      "metadata": {
        "id": "q3PYGYzO2VrR"
      },
      "execution_count": 148,
      "outputs": []
    },
    {
      "cell_type": "code",
      "source": [
        "daily_df.isnull().sum()"
      ],
      "metadata": {
        "colab": {
          "base_uri": "https://localhost:8080/"
        },
        "id": "j0e6Zots3M0I",
        "outputId": "1b83286c-0c64-4aad-965b-28970631f6a0"
      },
      "execution_count": 150,
      "outputs": [
        {
          "output_type": "execute_result",
          "data": {
            "text/plain": [
              "DateTime             0\n",
              "Daily_KWH            0\n",
              "stdorToU             0\n",
              "LCLid                0\n",
              "tavg                 0\n",
              "tmin                 0\n",
              "tmax                 0\n",
              "prcp                 0\n",
              "snow               402\n",
              "wdir                 0\n",
              "wspd                 0\n",
              "wpgt               829\n",
              "pres                 0\n",
              "tsun               829\n",
              "rolling_mean_1       0\n",
              "rolling_mean_7       0\n",
              "rolling_mean_20      0\n",
              "rolling_mean_50      0\n",
              "lag_1                0\n",
              "lag_7                0\n",
              "lag_30               0\n",
              "lag_50               0\n",
              "rolling_std_1        0\n",
              "rolling_std_7        0\n",
              "rolling_std_20       0\n",
              "rolling_std_50       0\n",
              "is_holiday           0\n",
              "dtype: int64"
            ]
          },
          "metadata": {},
          "execution_count": 150
        }
      ]
    },
    {
      "cell_type": "code",
      "source": [
        "# Drop columns with any missing values\n",
        "daily_df = daily_df.dropna(axis=1)\n"
      ],
      "metadata": {
        "id": "u68iTXOe8W32"
      },
      "execution_count": 151,
      "outputs": []
    },
    {
      "cell_type": "markdown",
      "source": [
        "# LSTM Model"
      ],
      "metadata": {
        "id": "UhWXmj8Bvqpz"
      }
    },
    {
      "cell_type": "code",
      "source": [
        "import pandas as pd\n",
        "from sklearn.model_selection import train_test_split, GridSearchCV\n",
        "from sklearn.preprocessing import LabelEncoder\n",
        "import xgboost as xgb\n",
        "from sklearn.metrics import mean_absolute_error, mean_squared_error, r2_score\n"
      ],
      "metadata": {
        "id": "98-VjYFi4AcS"
      },
      "execution_count": 152,
      "outputs": []
    },
    {
      "cell_type": "code",
      "source": [
        "\n",
        "# Remove 'DateTime' and 'LCLid' if not already removed\n",
        "daily_df = daily_df.drop(columns=['DateTime', 'LCLid'], errors='ignore')\n",
        "\n",
        "from sklearn.preprocessing import MinMaxScaler\n",
        "\n",
        "# Select columns to scale (excluding 'Daily_KWH', 'stdorToU', and 'is_holiday')\n",
        "columns_to_scale = [col for col in daily_df.columns\n",
        "                   if col not in ['Daily_KWH', 'stdorToU', 'is_holiday']]\n",
        "\n",
        "# Initialize the scaler\n",
        "scaler = MinMaxScaler()\n",
        "\n",
        "# Fit and transform the selected columns\n",
        "daily_df[columns_to_scale] = scaler.fit_transform(daily_df[columns_to_scale])\n",
        "\n",
        "\n",
        "# Label encode 'stdorToU'\n",
        "label_encoder = LabelEncoder()\n",
        "daily_df['stdorToU'] = label_encoder.fit_transform(daily_df['stdorToU'])\n",
        "\n",
        "# Split the data into features and target\n",
        "X = daily_df.drop(columns=['Daily_KWH'])\n",
        "y = daily_df['Daily_KWH']\n",
        "\n",
        "# Split the data into training and testing sets\n",
        "X_train, X_test, y_train, y_test = train_test_split(X, y, test_size=0.2, random_state=42)\n"
      ],
      "metadata": {
        "id": "ALRPT3_g4B71"
      },
      "execution_count": 159,
      "outputs": []
    },
    {
      "cell_type": "code",
      "source": [
        "\n",
        "# Define the XGBoost regressor\n",
        "xg_reg = xgb.XGBRegressor(objective='reg:squarederror')\n",
        "\n",
        "# Define the parameter grid for hyperparameter tuning\n",
        "param_grid = {\n",
        "    'n_estimators': [500, 1000, 2000, 3000],\n",
        "    'learning_rate': [0.00001, 0.0001, 0.00005, 0.01, 0.1, 0.2, 0.3],\n",
        "}\n",
        "\n",
        "# Perform grid search with cross-validation\n",
        "grid_search = GridSearchCV(estimator=xg_reg, param_grid=param_grid, cv=5, scoring='neg_mean_absolute_error', n_jobs=-1, verbose=2)\n",
        "grid_search.fit(X_train, y_train)\n",
        "\n"
      ],
      "metadata": {
        "colab": {
          "base_uri": "https://localhost:8080/",
          "height": 332
        },
        "id": "0WaYCpOp3726",
        "outputId": "3d23b5a4-91dd-48a3-838b-28092d40114f"
      },
      "execution_count": 167,
      "outputs": [
        {
          "output_type": "stream",
          "name": "stdout",
          "text": [
            "Fitting 5 folds for each of 28 candidates, totalling 140 fits\n"
          ]
        },
        {
          "output_type": "execute_result",
          "data": {
            "text/plain": [
              "GridSearchCV(cv=5,\n",
              "             estimator=XGBRegressor(base_score=None, booster=None,\n",
              "                                    callbacks=None, colsample_bylevel=None,\n",
              "                                    colsample_bynode=None,\n",
              "                                    colsample_bytree=None, device=None,\n",
              "                                    early_stopping_rounds=None,\n",
              "                                    enable_categorical=False, eval_metric=None,\n",
              "                                    feature_types=None, gamma=None,\n",
              "                                    grow_policy=None, importance_type=None,\n",
              "                                    interaction_constraints=None,\n",
              "                                    learning_rate=None, m...\n",
              "                                    max_cat_to_onehot=None, max_delta_step=None,\n",
              "                                    max_depth=None, max_leaves=None,\n",
              "                                    min_child_weight=None, missing=nan,\n",
              "                                    monotone_constraints=None,\n",
              "                                    multi_strategy=None, n_estimators=None,\n",
              "                                    n_jobs=None, num_parallel_tree=None,\n",
              "                                    random_state=None, ...),\n",
              "             n_jobs=-1,\n",
              "             param_grid={'learning_rate': [1e-05, 0.0001, 5e-05, 0.01, 0.1, 0.2,\n",
              "                                           0.3],\n",
              "                         'n_estimators': [500, 1000, 2000, 3000]},\n",
              "             scoring='neg_mean_absolute_error', verbose=2)"
            ],
            "text/html": [
              "<style>#sk-container-id-11 {color: black;}#sk-container-id-11 pre{padding: 0;}#sk-container-id-11 div.sk-toggleable {background-color: white;}#sk-container-id-11 label.sk-toggleable__label {cursor: pointer;display: block;width: 100%;margin-bottom: 0;padding: 0.3em;box-sizing: border-box;text-align: center;}#sk-container-id-11 label.sk-toggleable__label-arrow:before {content: \"▸\";float: left;margin-right: 0.25em;color: #696969;}#sk-container-id-11 label.sk-toggleable__label-arrow:hover:before {color: black;}#sk-container-id-11 div.sk-estimator:hover label.sk-toggleable__label-arrow:before {color: black;}#sk-container-id-11 div.sk-toggleable__content {max-height: 0;max-width: 0;overflow: hidden;text-align: left;background-color: #f0f8ff;}#sk-container-id-11 div.sk-toggleable__content pre {margin: 0.2em;color: black;border-radius: 0.25em;background-color: #f0f8ff;}#sk-container-id-11 input.sk-toggleable__control:checked~div.sk-toggleable__content {max-height: 200px;max-width: 100%;overflow: auto;}#sk-container-id-11 input.sk-toggleable__control:checked~label.sk-toggleable__label-arrow:before {content: \"▾\";}#sk-container-id-11 div.sk-estimator input.sk-toggleable__control:checked~label.sk-toggleable__label {background-color: #d4ebff;}#sk-container-id-11 div.sk-label input.sk-toggleable__control:checked~label.sk-toggleable__label {background-color: #d4ebff;}#sk-container-id-11 input.sk-hidden--visually {border: 0;clip: rect(1px 1px 1px 1px);clip: rect(1px, 1px, 1px, 1px);height: 1px;margin: -1px;overflow: hidden;padding: 0;position: absolute;width: 1px;}#sk-container-id-11 div.sk-estimator {font-family: monospace;background-color: #f0f8ff;border: 1px dotted black;border-radius: 0.25em;box-sizing: border-box;margin-bottom: 0.5em;}#sk-container-id-11 div.sk-estimator:hover {background-color: #d4ebff;}#sk-container-id-11 div.sk-parallel-item::after {content: \"\";width: 100%;border-bottom: 1px solid gray;flex-grow: 1;}#sk-container-id-11 div.sk-label:hover label.sk-toggleable__label {background-color: #d4ebff;}#sk-container-id-11 div.sk-serial::before {content: \"\";position: absolute;border-left: 1px solid gray;box-sizing: border-box;top: 0;bottom: 0;left: 50%;z-index: 0;}#sk-container-id-11 div.sk-serial {display: flex;flex-direction: column;align-items: center;background-color: white;padding-right: 0.2em;padding-left: 0.2em;position: relative;}#sk-container-id-11 div.sk-item {position: relative;z-index: 1;}#sk-container-id-11 div.sk-parallel {display: flex;align-items: stretch;justify-content: center;background-color: white;position: relative;}#sk-container-id-11 div.sk-item::before, #sk-container-id-11 div.sk-parallel-item::before {content: \"\";position: absolute;border-left: 1px solid gray;box-sizing: border-box;top: 0;bottom: 0;left: 50%;z-index: -1;}#sk-container-id-11 div.sk-parallel-item {display: flex;flex-direction: column;z-index: 1;position: relative;background-color: white;}#sk-container-id-11 div.sk-parallel-item:first-child::after {align-self: flex-end;width: 50%;}#sk-container-id-11 div.sk-parallel-item:last-child::after {align-self: flex-start;width: 50%;}#sk-container-id-11 div.sk-parallel-item:only-child::after {width: 0;}#sk-container-id-11 div.sk-dashed-wrapped {border: 1px dashed gray;margin: 0 0.4em 0.5em 0.4em;box-sizing: border-box;padding-bottom: 0.4em;background-color: white;}#sk-container-id-11 div.sk-label label {font-family: monospace;font-weight: bold;display: inline-block;line-height: 1.2em;}#sk-container-id-11 div.sk-label-container {text-align: center;}#sk-container-id-11 div.sk-container {/* jupyter's `normalize.less` sets `[hidden] { display: none; }` but bootstrap.min.css set `[hidden] { display: none !important; }` so we also need the `!important` here to be able to override the default hidden behavior on the sphinx rendered scikit-learn.org. See: https://github.com/scikit-learn/scikit-learn/issues/21755 */display: inline-block !important;position: relative;}#sk-container-id-11 div.sk-text-repr-fallback {display: none;}</style><div id=\"sk-container-id-11\" class=\"sk-top-container\"><div class=\"sk-text-repr-fallback\"><pre>GridSearchCV(cv=5,\n",
              "             estimator=XGBRegressor(base_score=None, booster=None,\n",
              "                                    callbacks=None, colsample_bylevel=None,\n",
              "                                    colsample_bynode=None,\n",
              "                                    colsample_bytree=None, device=None,\n",
              "                                    early_stopping_rounds=None,\n",
              "                                    enable_categorical=False, eval_metric=None,\n",
              "                                    feature_types=None, gamma=None,\n",
              "                                    grow_policy=None, importance_type=None,\n",
              "                                    interaction_constraints=None,\n",
              "                                    learning_rate=None, m...\n",
              "                                    max_cat_to_onehot=None, max_delta_step=None,\n",
              "                                    max_depth=None, max_leaves=None,\n",
              "                                    min_child_weight=None, missing=nan,\n",
              "                                    monotone_constraints=None,\n",
              "                                    multi_strategy=None, n_estimators=None,\n",
              "                                    n_jobs=None, num_parallel_tree=None,\n",
              "                                    random_state=None, ...),\n",
              "             n_jobs=-1,\n",
              "             param_grid={&#x27;learning_rate&#x27;: [1e-05, 0.0001, 5e-05, 0.01, 0.1, 0.2,\n",
              "                                           0.3],\n",
              "                         &#x27;n_estimators&#x27;: [500, 1000, 2000, 3000]},\n",
              "             scoring=&#x27;neg_mean_absolute_error&#x27;, verbose=2)</pre><b>In a Jupyter environment, please rerun this cell to show the HTML representation or trust the notebook. <br />On GitHub, the HTML representation is unable to render, please try loading this page with nbviewer.org.</b></div><div class=\"sk-container\" hidden><div class=\"sk-item sk-dashed-wrapped\"><div class=\"sk-label-container\"><div class=\"sk-label sk-toggleable\"><input class=\"sk-toggleable__control sk-hidden--visually\" id=\"sk-estimator-id-29\" type=\"checkbox\" ><label for=\"sk-estimator-id-29\" class=\"sk-toggleable__label sk-toggleable__label-arrow\">GridSearchCV</label><div class=\"sk-toggleable__content\"><pre>GridSearchCV(cv=5,\n",
              "             estimator=XGBRegressor(base_score=None, booster=None,\n",
              "                                    callbacks=None, colsample_bylevel=None,\n",
              "                                    colsample_bynode=None,\n",
              "                                    colsample_bytree=None, device=None,\n",
              "                                    early_stopping_rounds=None,\n",
              "                                    enable_categorical=False, eval_metric=None,\n",
              "                                    feature_types=None, gamma=None,\n",
              "                                    grow_policy=None, importance_type=None,\n",
              "                                    interaction_constraints=None,\n",
              "                                    learning_rate=None, m...\n",
              "                                    max_cat_to_onehot=None, max_delta_step=None,\n",
              "                                    max_depth=None, max_leaves=None,\n",
              "                                    min_child_weight=None, missing=nan,\n",
              "                                    monotone_constraints=None,\n",
              "                                    multi_strategy=None, n_estimators=None,\n",
              "                                    n_jobs=None, num_parallel_tree=None,\n",
              "                                    random_state=None, ...),\n",
              "             n_jobs=-1,\n",
              "             param_grid={&#x27;learning_rate&#x27;: [1e-05, 0.0001, 5e-05, 0.01, 0.1, 0.2,\n",
              "                                           0.3],\n",
              "                         &#x27;n_estimators&#x27;: [500, 1000, 2000, 3000]},\n",
              "             scoring=&#x27;neg_mean_absolute_error&#x27;, verbose=2)</pre></div></div></div><div class=\"sk-parallel\"><div class=\"sk-parallel-item\"><div class=\"sk-item\"><div class=\"sk-label-container\"><div class=\"sk-label sk-toggleable\"><input class=\"sk-toggleable__control sk-hidden--visually\" id=\"sk-estimator-id-30\" type=\"checkbox\" ><label for=\"sk-estimator-id-30\" class=\"sk-toggleable__label sk-toggleable__label-arrow\">estimator: XGBRegressor</label><div class=\"sk-toggleable__content\"><pre>XGBRegressor(base_score=None, booster=None, callbacks=None,\n",
              "             colsample_bylevel=None, colsample_bynode=None,\n",
              "             colsample_bytree=None, device=None, early_stopping_rounds=None,\n",
              "             enable_categorical=False, eval_metric=None, feature_types=None,\n",
              "             gamma=None, grow_policy=None, importance_type=None,\n",
              "             interaction_constraints=None, learning_rate=None, max_bin=None,\n",
              "             max_cat_threshold=None, max_cat_to_onehot=None,\n",
              "             max_delta_step=None, max_depth=None, max_leaves=None,\n",
              "             min_child_weight=None, missing=nan, monotone_constraints=None,\n",
              "             multi_strategy=None, n_estimators=None, n_jobs=None,\n",
              "             num_parallel_tree=None, random_state=None, ...)</pre></div></div></div><div class=\"sk-serial\"><div class=\"sk-item\"><div class=\"sk-estimator sk-toggleable\"><input class=\"sk-toggleable__control sk-hidden--visually\" id=\"sk-estimator-id-31\" type=\"checkbox\" ><label for=\"sk-estimator-id-31\" class=\"sk-toggleable__label sk-toggleable__label-arrow\">XGBRegressor</label><div class=\"sk-toggleable__content\"><pre>XGBRegressor(base_score=None, booster=None, callbacks=None,\n",
              "             colsample_bylevel=None, colsample_bynode=None,\n",
              "             colsample_bytree=None, device=None, early_stopping_rounds=None,\n",
              "             enable_categorical=False, eval_metric=None, feature_types=None,\n",
              "             gamma=None, grow_policy=None, importance_type=None,\n",
              "             interaction_constraints=None, learning_rate=None, max_bin=None,\n",
              "             max_cat_threshold=None, max_cat_to_onehot=None,\n",
              "             max_delta_step=None, max_depth=None, max_leaves=None,\n",
              "             min_child_weight=None, missing=nan, monotone_constraints=None,\n",
              "             multi_strategy=None, n_estimators=None, n_jobs=None,\n",
              "             num_parallel_tree=None, random_state=None, ...)</pre></div></div></div></div></div></div></div></div></div></div>"
            ]
          },
          "metadata": {},
          "execution_count": 167
        }
      ]
    },
    {
      "cell_type": "code",
      "source": [
        "# Get the best estimator\n",
        "best_xg_reg = grid_search.best_estimator_\n",
        "\n",
        "# Predict on the test set\n",
        "y_pred = best_xg_reg.predict(X_test)\n",
        "\n",
        "# Evaluate the model using various error metrics\n",
        "xg_mean_error = y_test - y_pred\n",
        "xg_mae = mean_absolute_error(y_test, y_pred)\n",
        "xg_mse = mean_squared_error(y_test, y_pred)\n",
        "xg_r2 = r2_score(y_test, y_pred)\n",
        "\n",
        "# Print the evaluation metrics\n",
        "print(\"Mean Error:\", xg_mean_error.mean())\n",
        "print(\"Mean Absolute Error (MAE):\", xg_mae)\n",
        "print(\"Mean Squared Error (MSE):\", xg_mse)\n",
        "print(\"R-squared:\", xg_r2)\n"
      ],
      "metadata": {
        "colab": {
          "base_uri": "https://localhost:8080/"
        },
        "id": "wfd_-ivH392L",
        "outputId": "ee4ea3e5-9449-4465-ca5f-530db482a205"
      },
      "execution_count": 170,
      "outputs": [
        {
          "output_type": "stream",
          "name": "stdout",
          "text": [
            "Mean Error: -22.155985199588088\n",
            "Mean Absolute Error (MAE): 256.8363170054804\n",
            "Mean Squared Error (MSE): 146212.63725114393\n",
            "R-squared: 0.9984887953969696\n"
          ]
        }
      ]
    },
    {
      "cell_type": "code",
      "source": [
        "# prompt: visualize the prediction\n",
        "\n",
        "import matplotlib.pyplot as plt\n",
        "# Visualize the predictions against actual values\n",
        "plt.figure(figsize=(12, 6))\n",
        "plt.plot(y_test.values, label='Actual')\n",
        "plt.plot(y_pred, label='Predicted')\n",
        "plt.title('XGBoost: Actual vs Predicted Energy Consumption')\n",
        "plt.xlabel('Time Steps')\n",
        "plt.ylabel('Daily Energy Consumption')\n",
        "plt.legend()\n",
        "plt.show()\n"
      ],
      "metadata": {
        "colab": {
          "base_uri": "https://localhost:8080/",
          "height": 564
        },
        "id": "WyIBJtXh_q79",
        "outputId": "871ce3bc-73a9-4abb-f409-995127876e14"
      },
      "execution_count": 171,
      "outputs": [
        {
          "output_type": "display_data",
          "data": {
            "text/plain": [
              "<Figure size 1200x600 with 1 Axes>"
            ],
            "image/png": "[encoded data removed]"
          },
          "metadata": {}
        }
      ]
    },
    {
      "cell_type": "code",
      "source": [
        "# prompt: make a comparision bar chart of the three models errors matrixs, annot = true\n",
        "\n",
        "import matplotlib.pyplot as plt\n",
        "import numpy as np\n",
        "# Data for the bar chart\n",
        "models = ['ARIMA', 'Prophet', 'XGBoost']\n",
        "mae_values = [arima_mae, p_mae, xg_mae]\n",
        "rmse_values = [arima_rmse, p_rmse, np.sqrt(xg_mse)]  # Calculate RMSE for XGBoost\n",
        "r2_values = [arima_r2, p_r_squared, xg_r2]\n",
        "\n",
        "# Set the width of the bars\n",
        "bar_width = 0.2\n",
        "\n",
        "# Set the positions of the bars on the x-axis\n",
        "r1 = np.arange(len(models))\n",
        "r2 = [x + bar_width for x in r1]\n",
        "r3 = [x + bar_width for x in r2]\n",
        "\n",
        "# Create the bar chart\n",
        "plt.figure(figsize=(10, 6))\n",
        "\n",
        "plt.bar(r1, mae_values, color='b', width=bar_width, edgecolor='grey', label='MAE')\n",
        "plt.bar(r2, rmse_values, color='g', width=bar_width, edgecolor='grey', label='RMSE')\n",
        "plt.bar(r3, r2_values, color='r', width=bar_width, edgecolor='grey', label='R^2')\n",
        "\n",
        "# Add labels, title, and legend\n",
        "plt.xlabel('Models')\n",
        "plt.ylabel('Error Metrics')\n",
        "plt.title('Comparison of Model Performance')\n",
        "plt.xticks([r + bar_width for r in range(len(models))], models)\n",
        "plt.legend()\n",
        "\n",
        "# Annotate bars with values\n",
        "for i, v in enumerate(mae_values):\n",
        "    plt.text(i - 0.1, v + 0.01, \"{:.2f}\".format(v), color='black')\n",
        "for i, v in enumerate(rmse_values):\n",
        "    plt.text(i + bar_width - 0.1, v + 0.01, \"{:.2f}\".format(v), color='black')\n",
        "for i, v in enumerate(r2_values):\n",
        "    plt.text(i + 2 * bar_width - 0.1, v + 0.01, \"{:.2f}\".format(v), color='black')\n",
        "\n",
        "# Display the chart\n",
        "plt.tight_layout()\n",
        "plt.show()\n"
      ],
      "metadata": {
        "colab": {
          "base_uri": "https://localhost:8080/",
          "height": 607
        },
        "id": "Skq2pSil__k0",
        "outputId": "c7b1d5c0-24e3-4a47-9eaa-1b8e1e121d87"
      },
      "execution_count": 174,
      "outputs": [
        {
          "output_type": "display_data",
          "data": {
            "text/plain": [
              "<Figure size 1000x600 with 1 Axes>"
            ],
            "image/png": "[encoded data removed]"
          },
          "metadata": {}
        }
      ]
    }
  ]
}